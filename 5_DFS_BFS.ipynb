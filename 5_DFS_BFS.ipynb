{
 "cells": [
  {
   "cell_type": "code",
   "execution_count": 5,
   "metadata": {},
   "outputs": [
    {
     "name": "stdout",
     "output_type": "stream",
     "text": [
      "1 2 7 6 8 3 4 5 "
     ]
    }
   ],
   "source": [
    "# DFS\n",
    "\n",
    "def dfs(graph, i, visited):\n",
    "    visited[i]=True\n",
    "    print(i,end=' ')\n",
    "    for node in graph[i]:\n",
    "        if not visited[node]:\n",
    "            dfs(graph, node, visited)\n",
    "\n",
    "graph = [[],\n",
    "        [2,3,8],\n",
    "        [1,7],\n",
    "        [1,4,5],\n",
    "        [3,5],\n",
    "        [3,4],\n",
    "        [7],\n",
    "        [2,6,8],\n",
    "        [1,7]]\n",
    "\n",
    "visited = [False]*9\n",
    "\n",
    "dfs(graph,1,visited)"
   ]
  },
  {
   "cell_type": "code",
   "execution_count": 4,
   "metadata": {},
   "outputs": [
    {
     "name": "stdout",
     "output_type": "stream",
     "text": [
      "1 2 3 8 7 4 5 6 "
     ]
    }
   ],
   "source": [
    "# BFS\n",
    "\n",
    "from collections import deque\n",
    "\n",
    "def bfs(graph, start, visited):\n",
    "    queue = deque([start])\n",
    "    visited[start] = True\n",
    "    while True:\n",
    "        v = queue.popleft()\n",
    "        print(v, end=' ')\n",
    "        for node in graph[v]:\n",
    "            if not visited[node]:\n",
    "                queue.append(node)\n",
    "                visited[node]=True\n",
    "        if not queue:\n",
    "            break\n",
    "\n",
    "graph = [[],\n",
    "        [2,3,8],\n",
    "        [1,7],\n",
    "        [1,4,5],\n",
    "        [3,5],\n",
    "        [3,4],\n",
    "        [7],\n",
    "        [2,6,8],\n",
    "        [1,7]]\n",
    "\n",
    "visited = [False]*9\n",
    "\n",
    "bfs(graph,1,visited)\n",
    "    "
   ]
  },
  {
   "cell_type": "markdown",
   "metadata": {},
   "source": [
    "### 3. 음료수 얼려먹기 (이코테_p.149)"
   ]
  },
  {
   "cell_type": "code",
   "execution_count": 14,
   "metadata": {
    "scrolled": true
   },
   "outputs": [
    {
     "name": "stdout",
     "output_type": "stream",
     "text": [
      "6 5\n",
      "00110\n",
      "00010\n",
      "11000\n",
      "11100\n",
      "00011\n",
      "01001\n",
      "2\n"
     ]
    }
   ],
   "source": [
    "from collections import deque\n",
    "\n",
    "N, M = map(int, input().split())\n",
    "graph = [list(map(int,list(input()))) for _ in range(N)]\n",
    "\n",
    "def ice(graph, row, col, visited):\n",
    "    queue = deque([[row,col]])\n",
    "    visited[row][col] = 1\n",
    "    \n",
    "    while queue:\n",
    "        dummy = queue.popleft()\n",
    "        r=dummy[0]\n",
    "        c=dummy[1]\n",
    "        near = [[r,c-1],[r,c+1],[r-1,c],[r+1,c]]\n",
    "        for r, c in near:\n",
    "            if r<0 or c<0 or r>N-1 or c>M-1:\n",
    "                continue\n",
    "            if not visited[r][c] and not graph[r][c]:\n",
    "                queue.append([r,c])\n",
    "                visited[r][c]=1\n",
    "    \n",
    "visited = [[0]*M for _ in range(N)]\n",
    "count = 0\n",
    "    \n",
    "for row, _ in enumerate(graph):\n",
    "    for col, _ in enumerate(graph[row]):\n",
    "        if not visited[row][col] and not graph[row][col]:\n",
    "            ice(graph,row,col,visited)\n",
    "            count+=1\n",
    "    \n",
    "print(count)"
   ]
  },
  {
   "cell_type": "markdown",
   "metadata": {},
   "source": [
    "### 4. 미로탈출 (이코테)"
   ]
  },
  {
   "cell_type": "code",
   "execution_count": 19,
   "metadata": {},
   "outputs": [
    {
     "name": "stdout",
     "output_type": "stream",
     "text": [
      "3 3\n",
      "110\n",
      "010\n",
      "011\n",
      "5\n"
     ]
    }
   ],
   "source": [
    "from collections import deque\n",
    "\n",
    "N, M = map(int, input().split())\n",
    "graph = [list(map(int,list(input()))) for _ in range(N)]\n",
    "\n",
    "def bfs(graph,r,c):\n",
    "    queue = deque([[r,c]])\n",
    "    \n",
    "    while queue:\n",
    "        v = queue.popleft()\n",
    "        r = v[0]\n",
    "        c = v[1]\n",
    "        \n",
    "        near = [[r,c+1],[r+1,c],[r-1,c],[r,c-1]]\n",
    "        \n",
    "        for nr,nc in near:\n",
    "            if nr < 0 or nc < 0 or nr > N-1 or nc > M-1:\n",
    "                continue\n",
    "            if graph[nr][nc]==1:\n",
    "                queue.append([nr,nc])\n",
    "                graph[nr][nc]=graph[r][c]+1\n",
    "    \n",
    "    return graph[N-1][M-1]\n",
    "\n",
    "print(bfs(graph,0,0))"
   ]
  },
  {
   "cell_type": "markdown",
   "metadata": {},
   "source": [
    "### 1697. 숨바꼭질"
   ]
  },
  {
   "cell_type": "code",
   "execution_count": 47,
   "metadata": {
    "scrolled": true
   },
   "outputs": [
    {
     "name": "stdout",
     "output_type": "stream",
     "text": [
      "5 17\n",
      "4\n"
     ]
    }
   ],
   "source": [
    "from collections import deque\n",
    "\n",
    "N, K = map(int, input().split())\n",
    "\n",
    "def bfs(start, end,visited):\n",
    "    queue = deque([start])\n",
    "    visited[start]=-1\n",
    "    \n",
    "    while queue:\n",
    "        now = queue.popleft()\n",
    "        move = [now-1,now+1,now*2]\n",
    "        for point in move:\n",
    "            if point < 0 or point > 100000:\n",
    "                continue\n",
    "            if visited[point]==0:\n",
    "                queue.append(point)\n",
    "                visited[point]=visited[now]-1\n",
    "            if point == end:\n",
    "                return abs(visited[point])-1\n",
    "                    \n",
    "                    \n",
    "visited = [0]*100001\n",
    "\n",
    "print(bfs(N,K,visited))"
   ]
  },
  {
   "cell_type": "code",
   "execution_count": 49,
   "metadata": {},
   "outputs": [
    {
     "name": "stdout",
     "output_type": "stream",
     "text": [
      "5 17\n",
      "4\n"
     ]
    }
   ],
   "source": [
    "# 오답: return 구문 차이\n",
    "\n",
    "from collections import deque\n",
    "\n",
    "N, K = map(int, input().split())\n",
    "\n",
    "def bfs(start, end, visited):\n",
    "    queue = deque([start])\n",
    "    visited[start]=-1\n",
    "    \n",
    "    while queue:\n",
    "        now = queue.popleft()\n",
    "        move = [now-1,now+1,now*2]\n",
    "        for point in move:\n",
    "            if point < 0 or point > 100000:\n",
    "                continue\n",
    "            if visited[point]==0:\n",
    "                visited[point]=visited[now]-1\n",
    "                queue.append(point)\n",
    "                if point == end:\n",
    "                    return (visited[start]-visited[end])\n",
    "                    break\n",
    "\n",
    "                    \n",
    "visited = [0]*100001\n",
    "\n",
    "print(bfs(N,K,visited))"
   ]
  },
  {
   "cell_type": "markdown",
   "metadata": {},
   "source": [
    "### 2206. 벽 부수고 이동하기"
   ]
  },
  {
   "cell_type": "code",
   "execution_count": 9,
   "metadata": {},
   "outputs": [
    {
     "name": "stdout",
     "output_type": "stream",
     "text": [
      "6 4\n",
      "0100\n",
      "1110\n",
      "1000\n",
      "0000\n",
      "0111\n",
      "0000\n",
      "15\n"
     ]
    }
   ],
   "source": [
    "from collections import deque\n",
    "\n",
    "N, M = map(int, input().split())\n",
    "\n",
    "# map 생성\n",
    "graph = [list(map(int,list(input()))) for _ in range(N)] \n",
    "\n",
    "# 삼차원 그래프 생성 \n",
    "# -1은 방문하지 않음을 의미. 전자는 벽을 부수지 않았을 경우의, 후자는 벽을 부쉈을 경우의 방문 노드의 개수를 누적해서 저장\n",
    "\n",
    "visit = [[[-1,-1] for _ in range(M)] for __ in range(N)] \n",
    "\n",
    "move = [[-1,0],[1,0],[0,-1],[0,1]] # [row_move, col_move]\n",
    "\n",
    "def bfs(graph):\n",
    "    queue = deque([(0,0,0)])\n",
    "    visit[0][0][0]=1\n",
    "    \n",
    "    while queue:\n",
    "        r, c, broke = queue.popleft()\n",
    "        for i in range(4):\n",
    "            nr = r + move[i][0]\n",
    "            nc = c + move[i][1]\n",
    "            if nr >= 0 and nr <= N-1 and nc>=0 and nc<=M-1:\n",
    "                if graph[nr][nc]==0 and visit[nr][nc][broke]==-1:\n",
    "                    visit[nr][nc][broke]=visit[r][c][broke]+1\n",
    "                    queue.append((nr,nc,broke))\n",
    "                elif graph[nr][nc]==1 and broke==0 and visit[nr][nc][1]==-1:\n",
    "                    visit[nr][nc][1]=visit[r][c][broke]+1\n",
    "                    queue.append((nr,nc,1))\n",
    "    \n",
    "    return visit[N-1][M-1][0], visit[N-1][M-1][1]\n",
    "\n",
    "unbroken, broken= bfs(graph)\n",
    "\n",
    "if unbroken == -1 and broken ==-1:\n",
    "    print(-1)\n",
    "elif unbroken == -1:\n",
    "    print(broken)\n",
    "elif broken == -1:\n",
    "    print(unbroken)\n",
    "else:\n",
    "    print(min(unbroken, broken))"
   ]
  },
  {
   "cell_type": "markdown",
   "metadata": {},
   "source": [
    "### 1707. 이분 그래프\n",
    "참고: https://hjp845.tistory.com/91"
   ]
  },
  {
   "cell_type": "code",
   "execution_count": 5,
   "metadata": {
    "scrolled": true
   },
   "outputs": [
    {
     "name": "stdout",
     "output_type": "stream",
     "text": [
      "2\n",
      "3 2\n",
      "1 3\n",
      "2 3\n",
      "4 4\n",
      "1 2\n",
      "2 3\n",
      "3 4\n",
      "4 2\n",
      "YES\n",
      "NO\n"
     ]
    }
   ],
   "source": [
    "from collections import deque\n",
    "\n",
    "result=[]\n",
    "\n",
    "def bfs(i, graph, visited, color):\n",
    "    TF = True\n",
    "    \n",
    "    queue = deque([i])\n",
    "    visited[i]=1\n",
    "    color[i]=1\n",
    "    \n",
    "    while queue:\n",
    "        value = queue.popleft()\n",
    "        for node in graph[value]:\n",
    "            if visited[node]==0: # 방문되지 않은 노드\n",
    "                queue.append(node)\n",
    "                \n",
    "                # node visited\n",
    "                visited[node]=1\n",
    "                \n",
    "                # 색칠\n",
    "                color[node]= -1*color[value] \n",
    "            else:\n",
    "                if color[node]==color[value]:\n",
    "                    TF = False\n",
    "                    break\n",
    "                    \n",
    "    return TF\n",
    "\n",
    "T = int(input())\n",
    "\n",
    "for _ in range(T):\n",
    "    V, E = map(int, input().split())\n",
    "    \n",
    "    graph = [[] for _ in range(V+1)]\n",
    "    \n",
    "    for _ in range(E): # 인접 리스트 및 판단용 리스트 형성\n",
    "        node_1, node_2 = map(int, input().split())\n",
    "        graph[node_1].append(node_2)\n",
    "        graph[node_2].append(node_1)\n",
    "        \n",
    "    visited = [0]*(V+1)\n",
    "    color = [0]*(V+1)\n",
    "    \n",
    "    flag = True\n",
    "    \n",
    "    for node in range(1,V+1):\n",
    "        if visited[node]==0:\n",
    "            if not bfs(node,graph,visited,color): # 조건식에 적어도 코드는 실행됨.\n",
    "                flag = False\n",
    "                break\n",
    "    \n",
    "    if flag:\n",
    "        result.append('YES')\n",
    "    else:\n",
    "        result.append('NO')\n",
    "        \n",
    "for i in result:\n",
    "    print(i)"
   ]
  },
  {
   "cell_type": "markdown",
   "metadata": {},
   "source": [
    "### 1260. dfs와 bfs"
   ]
  },
  {
   "cell_type": "code",
   "execution_count": 13,
   "metadata": {
    "scrolled": true
   },
   "outputs": [
    {
     "name": "stdout",
     "output_type": "stream",
     "text": [
      "1000 1 1000\n",
      "999 1000\n",
      "1000 999 \n",
      "1000 999 "
     ]
    }
   ],
   "source": [
    "## 1260\n",
    "\n",
    "from collections import deque\n",
    "\n",
    "def dfs(i, graph, visit):\n",
    "    visit[i]=1\n",
    "    print(i,end=' ')\n",
    "    for node in sorted(graph[i]):\n",
    "        if not visit[node]:\n",
    "            dfs(node,graph,visit)\n",
    "\n",
    "def bfs(i, graph, visit):\n",
    "    queue = deque([i])\n",
    "    visit[i]=1\n",
    "    print(i, end=' ')\n",
    "    while queue:\n",
    "        v = queue.popleft()\n",
    "        for node in sorted(graph[v]):\n",
    "            if not visit[node]:\n",
    "                visit[node]=1\n",
    "                queue.append(node)\n",
    "                print(node, end=' ')\n",
    "            \n",
    "node, edge, start = map(int, input().split())\n",
    "\n",
    "graph = [[] for _ in range(node+1)]\n",
    "\n",
    "visit_dfs = [0]*(node+1)\n",
    "visit_bfs = [0]*(node+1)\n",
    "\n",
    "for _ in range(edge):\n",
    "    node1, node2 = map(int,input().split())\n",
    "    graph[node1].append(node2)\n",
    "    graph[node2].append(node1)\n",
    "\n",
    "dfs(start,graph,visit_dfs)\n",
    "print()\n",
    "bfs(start,graph,visit_bfs)"
   ]
  },
  {
   "cell_type": "markdown",
   "metadata": {},
   "source": [
    "### 2606. 바이러스"
   ]
  },
  {
   "cell_type": "code",
   "execution_count": 15,
   "metadata": {
    "scrolled": true
   },
   "outputs": [
    {
     "name": "stdout",
     "output_type": "stream",
     "text": [
      "7\n",
      "6\n",
      "1 2\n",
      "2 3\n",
      "1 5\n",
      "5 2\n",
      "5 6\n",
      "4 7\n",
      "4\n"
     ]
    }
   ],
   "source": [
    "def dfs(i, graph, visit):\n",
    "    visit[i]=1\n",
    "    for node in graph[i]:\n",
    "        if not visit[node]:\n",
    "            dfs(node,graph,visit)\n",
    "\n",
    "node = int(input())\n",
    "edge = int(input())\n",
    "\n",
    "graph = [[] for _ in range(node+1)]\n",
    "visit = [0] * (node+1)\n",
    "\n",
    "for _ in range(edge):\n",
    "    node_1, node_2 = map(int, input().split())\n",
    "    graph[node_1].append(node_2)\n",
    "    graph[node_2].append(node_1)\n",
    "\n",
    "dfs(1,graph,visit)\n",
    "print(visit.count(1)-1)"
   ]
  },
  {
   "cell_type": "markdown",
   "metadata": {},
   "source": [
    "### 2667. 단지번호 붙이기"
   ]
  },
  {
   "cell_type": "code",
   "execution_count": 23,
   "metadata": {
    "scrolled": false
   },
   "outputs": [
    {
     "name": "stdout",
     "output_type": "stream",
     "text": [
      "7\n",
      "0110100\n",
      "0110101\n",
      "1110101\n",
      "0000111\n",
      "0100000\n",
      "0111110\n",
      "0111000\n",
      "3\n",
      "7\n",
      "8\n",
      "9\n"
     ]
    }
   ],
   "source": [
    "def dfs(row, col, graph, visit):\n",
    "    global house\n",
    "    \n",
    "    visit[row][col]=1\n",
    "    house+=1\n",
    "    move = [(row-1,col),(row+1,col),(row,col-1),(row,col+1)]\n",
    "    \n",
    "    for nr, nc in move:\n",
    "        if nr >= 0 and nr <= N-1 and nc >= 0 and nc <= N-1:\n",
    "            if  graph[nr][nc]==1 and visit[nr][nc]==0:\n",
    "                dfs(nr,nc,graph,visit)\n",
    "    \n",
    "N = int(input())\n",
    "graph = [list(map(int,list(input()))) for _ in range(N)]\n",
    "visit=[[0]*N for _ in range(N)]\n",
    "\n",
    "town = 0\n",
    "houses = []\n",
    "\n",
    "for row in range(N):\n",
    "    for col in range(N):\n",
    "        if graph[row][col]==1 and visit[row][col]==0:\n",
    "            \n",
    "            town+=1\n",
    "            house=0\n",
    "            \n",
    "            dfs(row,col,graph,visit)\n",
    "            houses.append(house)  \n",
    "            \n",
    "print(town)\n",
    "for house in sorted(houses):\n",
    "    print(house)"
   ]
  }
 ],
 "metadata": {
  "kernelspec": {
   "display_name": "Python 3",
   "language": "python",
   "name": "python3"
  },
  "language_info": {
   "codemirror_mode": {
    "name": "ipython",
    "version": 3
   },
   "file_extension": ".py",
   "mimetype": "text/x-python",
   "name": "python",
   "nbconvert_exporter": "python",
   "pygments_lexer": "ipython3",
   "version": "3.8.5"
  }
 },
 "nbformat": 4,
 "nbformat_minor": 4
}
