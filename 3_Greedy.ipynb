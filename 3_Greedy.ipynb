{
 "cells": [
  {
   "cell_type": "code",
   "execution_count": 8,
   "metadata": {
    "scrolled": true
   },
   "outputs": [
    {
     "name": "stdout",
     "output_type": "stream",
     "text": [
      "5 8 3\n",
      "2 4 5 4 6\n",
      "46\n"
     ]
    }
   ],
   "source": [
    "#2 \n",
    "\n",
    "N, M, K = map(int, input().split())\n",
    "lst = list(map(int, input().split()))\n",
    "\n",
    "lst_sorted = sorted(lst,reverse=True)\n",
    "num = []\n",
    "\n",
    "while True:\n",
    "    if M > K:\n",
    "        num.append(K)\n",
    "        M = M-K\n",
    "        \n",
    "        if M >= 1:\n",
    "            num.append(1)\n",
    "            M = M-1\n",
    "            \n",
    "    elif M > 0 and M <= K:\n",
    "        num.append(M)\n",
    "        break\n",
    "        \n",
    "    else:\n",
    "        break\n",
    "\n",
    "maxi= 0\n",
    "        \n",
    "for i in num:\n",
    "    if i > 1:\n",
    "        maxi += lst_sorted[0]*i\n",
    "    else:\n",
    "        maxi += lst_sorted[1]\n",
    "\n",
    "print(maxi)"
   ]
  },
  {
   "cell_type": "code",
   "execution_count": 14,
   "metadata": {
    "scrolled": true
   },
   "outputs": [
    {
     "name": "stdout",
     "output_type": "stream",
     "text": [
      "2 4\n",
      "7 3 1 8\n",
      "3 3 3 4\n",
      "3\n"
     ]
    }
   ],
   "source": [
    "#3\n",
    "\n",
    "N, M = map(int, input().split())\n",
    "\n",
    "num = []\n",
    "\n",
    "for i in range(N):\n",
    "    lst = list(map(int, input().split()))\n",
    "    num.append(min(lst))\n",
    "    \n",
    "print(max(num))"
   ]
  },
  {
   "cell_type": "code",
   "execution_count": 6,
   "metadata": {
    "scrolled": true
   },
   "outputs": [
    {
     "name": "stdout",
     "output_type": "stream",
     "text": [
      "10000000000 9\n",
      "57 1.0\n"
     ]
    }
   ],
   "source": [
    "#4\n",
    "\n",
    "N, K = map(int, input().split())\n",
    "\n",
    "i = 0\n",
    "\n",
    "while N != 1:\n",
    "    if N % K == 0:\n",
    "        N /= K\n",
    "        i += 1\n",
    "    else:\n",
    "        N -= 1\n",
    "        i += 1\n",
    "\n",
    "print(i,N)"
   ]
  },
  {
   "cell_type": "code",
   "execution_count": null,
   "metadata": {},
   "outputs": [],
   "source": [
    "# 백준 \n",
    "# 24시간 조건 필요없음\n",
    "# (1,3)(3,3)(3,3)이면 세 개 다 들어감\n",
    "\n",
    "N = int(input())\n",
    "\n",
    "meet_lst = []\n",
    "\n",
    "meet_lst = [tuple(map(int, input().split())) for i in range(N)]\n",
    "meet_lst.sort(key = lambda x:(x[1],x[0]))\n",
    "\n",
    "result = [meet_lst[0]]\n",
    "\n",
    "for meet in meet_lst[1:]:\n",
    "    if result[len(result)-1][1] <= meet[0]:\n",
    "        result.append(meet)\n",
    "        \n",
    "print(len(result))"
   ]
  },
  {
   "cell_type": "code",
   "execution_count": 6,
   "metadata": {
    "scrolled": false
   },
   "outputs": [
    {
     "name": "stdout",
     "output_type": "stream",
     "text": [
      "16\n",
      "1 5\n",
      "1 7\n",
      "1 9\n",
      "5 10\n",
      "3 10\n",
      "5 10\n",
      "7 9\n",
      "5 7\n",
      "5 9\n",
      "1 6\n",
      "7 10\n",
      "16 20\n",
      "17 24\n",
      "19 20\n",
      "5 9\n",
      "4 9\n",
      "4\n"
     ]
    }
   ],
   "source": [
    "# 백준 \n",
    "# 1931(오답)\n",
    "\n",
    "N = int(input())\n",
    "\n",
    "lst = [tuple(map(int, input().split())) for i in range(N)]\n",
    "\n",
    "lst.sort(key=lambda x:x[1]-x[0])\n",
    "\n",
    "meet_lst = []\n",
    "time = 24\n",
    "\n",
    "for meet in lst:\n",
    "    hours = meet[1]-meet[0]\n",
    "    if time >= hours:\n",
    "        meet_lst.append(meet)\n",
    "        time -= hours\n",
    "    elif time < hours and hours == meet_lst[len(meet_lst)-1][1]-meet_lst[len(meet_lst)-1][0]:\n",
    "        meet_lst.append(meet)\n",
    "    else:\n",
    "        break\n",
    "\n",
    "meet_lst.sort(key=lambda x:x[0])\n",
    "\n",
    "start_lst = []\n",
    "\n",
    "for meet in meet_lst:\n",
    "    if meet[0] == meet_lst[0][0]:\n",
    "        start_lst.append(meet)\n",
    "    else:\n",
    "        break\n",
    "\n",
    "if len(start_lst)>1:\n",
    "    start_lst.sort(key=lambda x:x[1]-x[0])\n",
    "    \n",
    "result=[start_lst[0]]\n",
    "day = 24\n",
    "\n",
    "for meet in meet_lst:\n",
    "    \n",
    "    hour = meet[1]-meet[0]\n",
    "    \n",
    "    if meet[0] >= result[len(result)-1][1] and day >= hour:\n",
    "        result.append(meet)\n",
    "        day -= hour\n",
    "    elif day < hour:\n",
    "        break\n",
    "        \n",
    "print(len(result))"
   ]
  },
  {
   "cell_type": "code",
   "execution_count": null,
   "metadata": {},
   "outputs": [],
   "source": [
    "# 1931(시간초과)\n",
    "\n",
    "N = int(input())\n",
    "\n",
    "lst = []\n",
    "\n",
    "lst = [tuple(map(int, input().split())) for i in range(N)]\n",
    "\n",
    "lst = sorted(lst, key = lambda x:x[0])\n",
    "\n",
    "schedule = []\n",
    "result = 0\n",
    "\n",
    "for meet in lst:\n",
    "    schedule.append(meet)\n",
    "    i = lst.index(meet)\n",
    "    \n",
    "    for meet_next in lst[i+1:]:\n",
    "        if meet_next[0] >= schedule[len(schedule)-1][1]:\n",
    "            schedule.append(meet_next)\n",
    "            \n",
    "    result = max(result, len(schedule))\n",
    "    schedule = []\n",
    "\n",
    "print(result)"
   ]
  }
 ],
 "metadata": {
  "kernelspec": {
   "display_name": "Python 3",
   "language": "python",
   "name": "python3"
  },
  "language_info": {
   "codemirror_mode": {
    "name": "ipython",
    "version": 3
   },
   "file_extension": ".py",
   "mimetype": "text/x-python",
   "name": "python",
   "nbconvert_exporter": "python",
   "pygments_lexer": "ipython3",
   "version": "3.8.5"
  }
 },
 "nbformat": 4,
 "nbformat_minor": 4
}
