{
 "cells": [
  {
   "cell_type": "markdown",
   "metadata": {},
   "source": [
    "### 3-1 Accuracy(정확도)"
   ]
  },
  {
   "cell_type": "code",
   "execution_count": 2,
   "metadata": {},
   "outputs": [],
   "source": [
    "import numpy as np\n",
    "from sklearn.base import BaseEstimator\n",
    "\n",
    "class MyDummyClassifier(BaseEstimator):\n",
    "    def fit(self, X, y=None):\n",
    "        pass\n",
    "    def predict(self, X):\n",
    "        pred = np.zeros((X.shape[0],1))\n",
    "        \n",
    "        # X의 성별이 남성(1)일 때는 0(사망), 여성(0)일때는 1(생존)\n",
    "        \n",
    "        for i in range(X.shape[0]):\n",
    "            if X['Sex'].iloc[i]==1:\n",
    "                pred[i] = 0\n",
    "            else: \n",
    "                pred[i] = 1\n",
    "        return pred\n",
    "            "
   ]
  },
  {
   "cell_type": "code",
   "execution_count": 3,
   "metadata": {},
   "outputs": [],
   "source": [
    "import pandas as pd\n",
    "from sklearn.preprocessing import LabelEncoder\n",
    "\n",
    "import pandas as pd\n",
    "from sklearn.preprocessing import LabelEncoder\n",
    "\n",
    "# Null 처리 함수\n",
    "def fillna(df):\n",
    "    df['Age'].fillna(df['Age'].mean(),inplace=True)\n",
    "    df['Cabin'].fillna('N',inplace=True)\n",
    "    df['Embarked'].fillna('N',inplace=True)\n",
    "    df['Fare'].fillna(0,inplace=True)\n",
    "    return df\n",
    "\n",
    "# 머신러닝 알고리즘에 불필요한 속성 제거\n",
    "def drop_features(df):\n",
    "    df.drop(['PassengerId','Name','Ticket'],axis=1,inplace=True)\n",
    "    return df\n",
    "\n",
    "# 레이블 인코딩 수행. \n",
    "def format_features(df):\n",
    "    df['Cabin'] = df['Cabin'].str[:1]\n",
    "    features = ['Cabin','Sex','Embarked']\n",
    "    for feature in features:\n",
    "        le = LabelEncoder()\n",
    "        le = le.fit(df[feature])\n",
    "        df[feature] = le.transform(df[feature])\n",
    "    return df\n",
    "\n",
    "# 앞에서 설정한 Data Preprocessing 함수 호출\n",
    "def transform_features(df):\n",
    "    df = fillna(df)\n",
    "    df = drop_features(df)\n",
    "    df = format_features(df)\n",
    "    return df"
   ]
  },
  {
   "cell_type": "code",
   "execution_count": 4,
   "metadata": {},
   "outputs": [],
   "source": [
    "import pandas as pd\n",
    "from sklearn.model_selection import train_test_split\n",
    "from sklearn.metrics import accuracy_score\n",
    "\n",
    "# 원본 데이터를 재로딩, 데이터 가공, 학습데이터/테스트 데이터 분할. \n",
    "titanic_df = pd.read_csv('C:/Users/shin/#study/PerfectGuide-master/titanic_train.csv')\n",
    "y_titanic_df = titanic_df['Survived']\n",
    "X_titanic_df= titanic_df.drop('Survived', axis=1)\n",
    "X_titanic_df = transform_features(X_titanic_df)\n",
    "X_train, X_test, y_train, y_test=train_test_split(X_titanic_df, y_titanic_df, \\\n",
    "                                              test_size=0.2, random_state=0)"
   ]
  },
  {
   "cell_type": "code",
   "execution_count": 5,
   "metadata": {
    "scrolled": true
   },
   "outputs": [
    {
     "name": "stdout",
     "output_type": "stream",
     "text": [
      "0.7877094972067039\n"
     ]
    }
   ],
   "source": [
    "myclf = MyDummyClassifier()\n",
    "myclf.fit(X_train ,y_train)\n",
    "mypredictions = myclf.predict(X_test)\n",
    "print(accuracy_score(y_test, mypredictions))"
   ]
  },
  {
   "cell_type": "code",
   "execution_count": 6,
   "metadata": {},
   "outputs": [],
   "source": [
    "from sklearn.datasets import load_digits\n",
    "from sklearn.model_selection import train_test_split\n",
    "from sklearn.base import BaseEstimator\n",
    "from sklearn.metrics import accuracy_score\n",
    "import numpy as np\n",
    "import pandas as pd\n",
    "\n",
    "class MyFakeClassifier(BaseEstimator):\n",
    "    def fit(self, X, y):\n",
    "        pass\n",
    "    def predict(self,X):\n",
    "        return np.zeros((len(X),1),dtype=bool)\n",
    "\n",
    "digits = load_digits()"
   ]
  },
  {
   "cell_type": "code",
   "execution_count": 7,
   "metadata": {},
   "outputs": [],
   "source": [
    "y = (digits.target == 7).astype(int)\n",
    "X_train, X_test, y_train, y_test = train_test_split(digits.data, y, random_state=11)"
   ]
  },
  {
   "cell_type": "code",
   "execution_count": 8,
   "metadata": {},
   "outputs": [
    {
     "name": "stdout",
     "output_type": "stream",
     "text": [
      "(450,)\n",
      "0    405\n",
      "1     45\n",
      "dtype: int64\n"
     ]
    },
    {
     "data": {
      "text/plain": [
       "0.9"
      ]
     },
     "execution_count": 8,
     "metadata": {},
     "output_type": "execute_result"
    }
   ],
   "source": [
    "print(y_test.shape)\n",
    "print(pd.Series(y_test).value_counts())\n",
    "\n",
    "fakeclf = MyFakeClassifier()\n",
    "fakeclf.fit(X_train, y_train)\n",
    "fakepred = fakeclf.predict(X_test)\n",
    "accuracy_score(y_test,fakepred)"
   ]
  },
  {
   "cell_type": "markdown",
   "metadata": {},
   "source": [
    "## Confusion Matrix"
   ]
  },
  {
   "cell_type": "code",
   "execution_count": 9,
   "metadata": {},
   "outputs": [
    {
     "data": {
      "text/plain": [
       "array([[405,   0],\n",
       "       [ 45,   0]], dtype=int64)"
      ]
     },
     "execution_count": 9,
     "metadata": {},
     "output_type": "execute_result"
    }
   ],
   "source": [
    "from sklearn.metrics import confusion_matrix\n",
    "\n",
    "confusion_matrix(y_test,fakepred)"
   ]
  },
  {
   "cell_type": "markdown",
   "metadata": {},
   "source": [
    "## Precision & Recall"
   ]
  },
  {
   "cell_type": "code",
   "execution_count": 10,
   "metadata": {
    "scrolled": true
   },
   "outputs": [
    {
     "name": "stdout",
     "output_type": "stream",
     "text": [
      "precision: 0.0\n",
      "recall: 0.0\n"
     ]
    },
    {
     "name": "stderr",
     "output_type": "stream",
     "text": [
      "C:\\Users\\shin\\anaconda3\\lib\\site-packages\\sklearn\\metrics\\_classification.py:1221: UndefinedMetricWarning: Precision is ill-defined and being set to 0.0 due to no predicted samples. Use `zero_division` parameter to control this behavior.\n",
      "  _warn_prf(average, modifier, msg_start, len(result))\n"
     ]
    }
   ],
   "source": [
    "from sklearn.metrics import accuracy_score, precision_score, recall_score\n",
    "\n",
    "print('precision:', precision_score(y_test,fakepred))\n",
    "print('recall:', recall_score(y_test,fakepred))"
   ]
  },
  {
   "cell_type": "code",
   "execution_count": 11,
   "metadata": {},
   "outputs": [],
   "source": [
    "def get_clf_eval(y_test,pred):\n",
    "    confusion = confusion_matrix(y_test,pred)\n",
    "    accuracy = accuracy_score(y_test,pred)\n",
    "    precision = precision_score(y_test,pred)\n",
    "    recall = recall_score(y_test,pred)\n",
    "    \n",
    "    print('Confusion Matrix')\n",
    "    print(confusion)\n",
    "    \n",
    "    print('정확도: {0:.4f}, 정밀도: {1:.4f}, 재현율: {2:.4f}'.format(accuracy , precision ,recall))"
   ]
  },
  {
   "cell_type": "code",
   "execution_count": 12,
   "metadata": {
    "scrolled": true
   },
   "outputs": [
    {
     "name": "stdout",
     "output_type": "stream",
     "text": [
      "Confusion Matrix\n",
      "[[104  14]\n",
      " [ 13  48]]\n",
      "정확도: 0.8492, 정밀도: 0.7742, 재현율: 0.7869\n"
     ]
    },
    {
     "name": "stderr",
     "output_type": "stream",
     "text": [
      "C:\\Users\\shin\\anaconda3\\lib\\site-packages\\sklearn\\linear_model\\_logistic.py:762: ConvergenceWarning: lbfgs failed to converge (status=1):\n",
      "STOP: TOTAL NO. of ITERATIONS REACHED LIMIT.\n",
      "\n",
      "Increase the number of iterations (max_iter) or scale the data as shown in:\n",
      "    https://scikit-learn.org/stable/modules/preprocessing.html\n",
      "Please also refer to the documentation for alternative solver options:\n",
      "    https://scikit-learn.org/stable/modules/linear_model.html#logistic-regression\n",
      "  n_iter_i = _check_optimize_result(\n"
     ]
    }
   ],
   "source": [
    "import numpy as np\n",
    "import pandas as pd\n",
    "\n",
    "from sklearn.model_selection import train_test_split \n",
    "\n",
    "from sklearn.linear_model import LogisticRegression\n",
    "\n",
    "titanic_df = pd.read_csv('C:/Users/shin/#study/PerfectGuide-master/titanic_train.csv')\n",
    "y_titanic_df = titanic_df['Survived']\n",
    "X_titanic_df= titanic_df.drop('Survived', axis=1)\n",
    "X_titanic_df = transform_features(X_titanic_df)\n",
    "X_train, X_test, y_train, y_test=train_test_split(X_titanic_df, y_titanic_df, \\\n",
    "                                              test_size=0.2, random_state=11)\n",
    "\n",
    "lr_clf = LogisticRegression()\n",
    "lr_clf.fit(X_train, y_train)\n",
    "pred = lr_clf.predict(X_test)\n",
    "get_clf_eval(y_test,pred)"
   ]
  },
  {
   "cell_type": "markdown",
   "metadata": {},
   "source": [
    "## Precision/Recall Tradf-off"
   ]
  },
  {
   "cell_type": "code",
   "execution_count": 13,
   "metadata": {},
   "outputs": [
    {
     "name": "stdout",
     "output_type": "stream",
     "text": [
      "(179, 2)\n",
      "[[0.46197701 0.53802299]\n",
      " [0.87868649 0.12131351]\n",
      " [0.87716331 0.12283669]]\n",
      "두개의 class 중에서 더 큰 확률을 클래스 값으로 예측 \n",
      " [[0.46197701 0.53802299 1.        ]\n",
      " [0.87868649 0.12131351 0.        ]\n",
      " [0.87716331 0.12283669 0.        ]]\n"
     ]
    }
   ],
   "source": [
    "pred_proba = lr_clf.predict_proba(X_test)\n",
    "pred = lr_clf.predict(X_test)\n",
    "\n",
    "print(pred_proba.shape)\n",
    "print(pred_proba[:3])\n",
    "\n",
    "pred_proba_result = np.concatenate([pred_proba, pred.reshape(-1,1)],axis=1)\n",
    "print('두개의 class 중에서 더 큰 확률을 클래스 값으로 예측 \\n',pred_proba_result[:3])"
   ]
  },
  {
   "cell_type": "code",
   "execution_count": 14,
   "metadata": {
    "scrolled": true
   },
   "outputs": [
    {
     "name": "stdout",
     "output_type": "stream",
     "text": [
      "[[0. 0. 1.]\n",
      " [1. 0. 0.]\n",
      " [0. 0. 1.]]\n"
     ]
    }
   ],
   "source": [
    "from sklearn.preprocessing import Binarizer\n",
    "\n",
    "X = [[ 1, -1,  2],\n",
    "     [ 2,  0,  0],\n",
    "     [ 0,  1.1, 1.2]]\n",
    "\n",
    "binarizer = Binarizer(threshold = 1.1)\n",
    "print(binarizer.fit_transform(X))"
   ]
  },
  {
   "cell_type": "code",
   "execution_count": 15,
   "metadata": {
    "scrolled": true
   },
   "outputs": [
    {
     "name": "stdout",
     "output_type": "stream",
     "text": [
      "Confusion Matrix\n",
      "[[104  14]\n",
      " [ 13  48]]\n",
      "정확도: 0.8492, 정밀도: 0.7742, 재현율: 0.7869\n"
     ]
    }
   ],
   "source": [
    "custom = 0.5\n",
    "\n",
    "pred_proba_1 = pred_proba[:,1].reshape(-1,1)\n",
    "binarizer = Binarizer(threshold = custom).fit(pred_proba_1)\n",
    "custom_predict = binarizer.transform(pred_proba_1)\n",
    "\n",
    "get_clf_eval(y_test,custom_predict)"
   ]
  },
  {
   "cell_type": "code",
   "execution_count": 16,
   "metadata": {},
   "outputs": [
    {
     "name": "stdout",
     "output_type": "stream",
     "text": [
      "Confusion Matrix\n",
      "[[98 20]\n",
      " [10 51]]\n",
      "정확도: 0.8324, 정밀도: 0.7183, 재현율: 0.8361\n"
     ]
    }
   ],
   "source": [
    "# 임계값을 낮춰, TP와 FP가 커져 재현율이 향상되고 정밀도가 악화\n",
    "\n",
    "custom = 0.4\n",
    "\n",
    "pred_proba_1 = pred_proba[:,1].reshape(-1,1)\n",
    "binarizer = Binarizer(threshold = custom).fit(pred_proba_1)\n",
    "custom_predict = binarizer.transform(pred_proba_1)\n",
    "\n",
    "get_clf_eval(y_test,custom_predict)"
   ]
  },
  {
   "cell_type": "code",
   "execution_count": 17,
   "metadata": {},
   "outputs": [
    {
     "name": "stdout",
     "output_type": "stream",
     "text": [
      "임곗값: 0.4\n",
      "Confusion Matrix\n",
      "[[98 20]\n",
      " [10 51]]\n",
      "정확도: 0.8324, 정밀도: 0.7183, 재현율: 0.8361\n",
      "임곗값: 0.45\n",
      "Confusion Matrix\n",
      "[[103  15]\n",
      " [ 12  49]]\n",
      "정확도: 0.8492, 정밀도: 0.7656, 재현율: 0.8033\n",
      "임곗값: 0.5\n",
      "Confusion Matrix\n",
      "[[104  14]\n",
      " [ 13  48]]\n",
      "정확도: 0.8492, 정밀도: 0.7742, 재현율: 0.7869\n",
      "임곗값: 0.55\n",
      "Confusion Matrix\n",
      "[[109   9]\n",
      " [ 15  46]]\n",
      "정확도: 0.8659, 정밀도: 0.8364, 재현율: 0.7541\n",
      "임곗값: 0.6\n",
      "Confusion Matrix\n",
      "[[112   6]\n",
      " [ 16  45]]\n",
      "정확도: 0.8771, 정밀도: 0.8824, 재현율: 0.7377\n"
     ]
    }
   ],
   "source": [
    "# 테스트를 수행할 모든 임곗값을 리스트 객체로 저장. \n",
    "thresholds = [0.4, 0.45, 0.50, 0.55, 0.60]\n",
    "\n",
    "def get_eval_by_threshold(y_test , pred_proba_c1, thresholds):\n",
    "    # thresholds list객체내의 값을 차례로 iteration하면서 Evaluation 수행.\n",
    "    for custom_threshold in thresholds:\n",
    "        binarizer = Binarizer(threshold=custom_threshold).fit(pred_proba_c1) \n",
    "        custom_predict = binarizer.transform(pred_proba_c1)\n",
    "        print('임곗값:',custom_threshold)\n",
    "        get_clf_eval(y_test , custom_predict)\n",
    "\n",
    "get_eval_by_threshold(y_test ,pred_proba[:,1].reshape(-1,1), thresholds )"
   ]
  },
  {
   "cell_type": "code",
   "execution_count": 18,
   "metadata": {
    "scrolled": true
   },
   "outputs": [
    {
     "name": "stdout",
     "output_type": "stream",
     "text": [
      "반환된 분류 결정 임곗값 배열의 Shape: (143,)\n",
      "반환된 precisions 배열의 Shape: (144,)\n",
      "반환된 recalls 배열의 Shape: (144,) \n",
      "\n",
      "thresholds 5 sample: [0.10390279 0.10390503 0.10393018 0.1078841  0.10887762]\n",
      "precisions 5 sample: [0.38853503 0.38461538 0.38709677 0.38961039 0.38562092]\n",
      "recalls 5 sample: [1.         0.98360656 0.98360656 0.98360656 0.96721311] \n",
      "\n",
      "샘플 추출을 위한 임계값 배열의 index 10개: [  0  15  30  45  60  75  90 105 120 135]\n",
      "샘플용 10개의 임곗값:  [0.1  0.12 0.14 0.19 0.28 0.4  0.56 0.67 0.82 0.95] \n",
      "\n",
      "샘플 임계값별 정밀도:  [0.389 0.44  0.466 0.539 0.647 0.729 0.836 0.949 0.958 1.   ]\n",
      "샘플 임계값별 재현율:  [1.    0.967 0.902 0.902 0.902 0.836 0.754 0.607 0.377 0.148]\n"
     ]
    }
   ],
   "source": [
    "from sklearn.metrics import precision_recall_curve\n",
    "\n",
    "# 레이블 값이 1일때의 예측 확률을 추출 \n",
    "pred_proba_class1 = lr_clf.predict_proba(X_test)[:, 1] \n",
    "precisions, recalls, thresholds = precision_recall_curve(y_test, pred_proba_class1 )\n",
    "\n",
    "print('반환된 분류 결정 임곗값 배열의 Shape:', thresholds.shape)\n",
    "print('반환된 precisions 배열의 Shape:', precisions.shape)\n",
    "print('반환된 recalls 배열의 Shape:', recalls.shape,'\\n')\n",
    "\n",
    "print(\"thresholds 5 sample:\", thresholds[:5])\n",
    "print(\"precisions 5 sample:\", precisions[:5])\n",
    "print(\"recalls 5 sample:\", recalls[:5],'\\n')\n",
    "\n",
    "#반환된 임계값 배열 로우가 147건이므로 샘플로 10건만 추출하되, 임곗값을 15 Step으로 추출. \n",
    "thr_index = np.arange(0, thresholds.shape[0], 15)\n",
    "print('샘플 추출을 위한 임계값 배열의 index 10개:', thr_index)\n",
    "print('샘플용 10개의 임곗값: ', np.round(thresholds[thr_index], 2),'\\n')\n",
    "\n",
    "# 15 step 단위로 추출된 임계값에 따른 정밀도와 재현율 값 \n",
    "print('샘플 임계값별 정밀도: ', np.round(precisions[thr_index], 3))\n",
    "print('샘플 임계값별 재현율: ', np.round(recalls[thr_index], 3))"
   ]
  },
  {
   "cell_type": "code",
   "execution_count": 19,
   "metadata": {
    "scrolled": true
   },
   "outputs": [
    {
     "data": {
      "image/png": "[encoded data removed]",
      "text/plain": [
       "<Figure size 576x432 with 1 Axes>"
      ]
     },
     "metadata": {
      "needs_background": "light"
     },
     "output_type": "display_data"
    }
   ],
   "source": [
    "import matplotlib.pyplot as plt\n",
    "import matplotlib.ticker as ticker\n",
    "%matplotlib inline\n",
    "\n",
    "def precision_recall_curve_plot(y_test , pred_proba_c1):\n",
    "    # threshold ndarray와 이 threshold에 따른 정밀도, 재현율 ndarray 추출. \n",
    "    precisions, recalls, thresholds = precision_recall_curve( y_test, pred_proba_c1)\n",
    "    \n",
    "    # X축을 threshold값으로, Y축은 정밀도, 재현율 값으로 각각 Plot 수행. 정밀도는 점선으로 표시\n",
    "    plt.figure(figsize=(8,6))\n",
    "    threshold_boundary = thresholds.shape[0]\n",
    "    plt.plot(thresholds, precisions[0:threshold_boundary], linestyle='--', label='precision')\n",
    "    plt.plot(thresholds, recalls[0:threshold_boundary],label='recall')\n",
    "    \n",
    "    # threshold 값 X 축의 Scale을 0.1 단위로 변경\n",
    "    start, end = plt.xlim()\n",
    "    plt.xticks(np.round(np.arange(start, end, 0.1),2))\n",
    "    \n",
    "    # x축, y축 label과 legend, 그리고 grid 설정\n",
    "    plt.xlabel('Threshold value'); plt.ylabel('Precision and Recall value')\n",
    "    plt.legend(); plt.grid()\n",
    "    plt.show()\n",
    "    \n",
    "precision_recall_curve_plot( y_test, lr_clf.predict_proba(X_test)[:, 1] )"
   ]
  },
  {
   "cell_type": "markdown",
   "metadata": {},
   "source": [
    "## 3.4 F1 Score"
   ]
  },
  {
   "cell_type": "code",
   "execution_count": 20,
   "metadata": {
    "scrolled": true
   },
   "outputs": [
    {
     "name": "stdout",
     "output_type": "stream",
     "text": [
      "0.7804878048780488\n"
     ]
    }
   ],
   "source": [
    "from sklearn.metrics import f1_score\n",
    "f1 = f1_score(y_test,pred)\n",
    "print(f1)"
   ]
  },
  {
   "cell_type": "code",
   "execution_count": 21,
   "metadata": {
    "scrolled": true
   },
   "outputs": [
    {
     "name": "stdout",
     "output_type": "stream",
     "text": [
      "임곗값: 0.10390279094769549\n",
      "오차 행렬\n",
      "[[22 96]\n",
      " [ 1 60]]\n",
      "정확도: 0.4581, 정밀도: 0.3846, 재현율: 0.9836, F1:0.5530\n",
      "임곗값: 0.10390503237136953\n",
      "오차 행렬\n",
      "[[23 95]\n",
      " [ 1 60]]\n",
      "정확도: 0.4637, 정밀도: 0.3871, 재현율: 0.9836, F1:0.5556\n",
      "임곗값: 0.10393018127313482\n",
      "오차 행렬\n",
      "[[24 94]\n",
      " [ 1 60]]\n",
      "정확도: 0.4693, 정밀도: 0.3896, 재현율: 0.9836, F1:0.5581\n",
      "임곗값: 0.10788410283847207\n",
      "오차 행렬\n",
      "[[24 94]\n",
      " [ 2 59]]\n",
      "정확도: 0.4637, 정밀도: 0.3856, 재현율: 0.9672, F1:0.5514\n",
      "임곗값: 0.10887762457280886\n",
      "오차 행렬\n",
      "[[25 93]\n",
      " [ 2 59]]\n",
      "정확도: 0.4693, 정밀도: 0.3882, 재현율: 0.9672, F1:0.5540\n",
      "임곗값: 0.11156665645883242\n",
      "오차 행렬\n",
      "[[27 91]\n",
      " [ 2 59]]\n",
      "정확도: 0.4804, 정밀도: 0.3933, 재현율: 0.9672, F1:0.5592\n",
      "임곗값: 0.11160370443566316\n",
      "오차 행렬\n",
      "[[29 89]\n",
      " [ 2 59]]\n",
      "정확도: 0.4916, 정밀도: 0.3986, 재현율: 0.9672, F1:0.5646\n",
      "임곗값: 0.11161255210573565\n",
      "오차 행렬\n",
      "[[35 83]\n",
      " [ 2 59]]\n",
      "정확도: 0.5251, 정밀도: 0.4155, 재현율: 0.9672, F1:0.5813\n",
      "임곗값: 0.11198318917002573\n",
      "오차 행렬\n",
      "[[37 81]\n",
      " [ 2 59]]\n",
      "정확도: 0.5363, 정밀도: 0.4214, 재현율: 0.9672, F1:0.5871\n",
      "임곗값: 0.11201772166233775\n",
      "오차 행렬\n",
      "[[38 80]\n",
      " [ 2 59]]\n",
      "정확도: 0.5419, 정밀도: 0.4245, 재현율: 0.9672, F1:0.5900\n",
      "임곗값: 0.11624090736971165\n",
      "오차 행렬\n",
      "[[39 79]\n",
      " [ 2 59]]\n",
      "정확도: 0.5475, 정밀도: 0.4275, 재현율: 0.9672, F1:0.5930\n",
      "임곗값: 0.11705451307266238\n",
      "오차 행렬\n",
      "[[40 78]\n",
      " [ 2 59]]\n",
      "정확도: 0.5531, 정밀도: 0.4307, 재현율: 0.9672, F1:0.5960\n",
      "임곗값: 0.1173981082773239\n",
      "오차 행렬\n",
      "[[41 77]\n",
      " [ 2 59]]\n",
      "정확도: 0.5587, 정밀도: 0.4338, 재현율: 0.9672, F1:0.5990\n",
      "임곗값: 0.11777413127349838\n",
      "오차 행렬\n",
      "[[42 76]\n",
      " [ 2 59]]\n",
      "정확도: 0.5642, 정밀도: 0.4370, 재현율: 0.9672, F1:0.6020\n",
      "임곗값: 0.118040531726758\n",
      "오차 행렬\n",
      "[[43 75]\n",
      " [ 2 59]]\n",
      "정확도: 0.5698, 정밀도: 0.4403, 재현율: 0.9672, F1:0.6051\n",
      "임곗값: 0.12131350572866414\n",
      "오차 행렬\n",
      "[[43 75]\n",
      " [ 3 58]]\n",
      "정확도: 0.5642, 정밀도: 0.4361, 재현율: 0.9508, F1:0.5979\n",
      "임곗값: 0.12278214687236352\n",
      "오차 행렬\n",
      "[[44 74]\n",
      " [ 3 58]]\n",
      "정확도: 0.5698, 정밀도: 0.4394, 재현율: 0.9508, F1:0.6010\n",
      "임곗값: 0.1228366947469777\n",
      "오차 행렬\n",
      "[[45 73]\n",
      " [ 3 58]]\n",
      "정확도: 0.5754, 정밀도: 0.4427, 재현율: 0.9508, F1:0.6042\n",
      "임곗값: 0.12283773603476869\n",
      "오차 행렬\n",
      "[[46 72]\n",
      " [ 4 57]]\n",
      "정확도: 0.5754, 정밀도: 0.4419, 재현율: 0.9344, F1:0.6000\n",
      "임곗값: 0.122842674461071\n",
      "오차 행렬\n",
      "[[47 71]\n",
      " [ 4 57]]\n",
      "정확도: 0.5810, 정밀도: 0.4453, 재현율: 0.9344, F1:0.6032\n",
      "임곗값: 0.12438202109064993\n",
      "오차 행렬\n",
      "[[48 70]\n",
      " [ 4 57]]\n",
      "정확도: 0.5866, 정밀도: 0.4488, 재현율: 0.9344, F1:0.6064\n",
      "임곗값: 0.1250171004419536\n",
      "오차 행렬\n",
      "[[49 69]\n",
      " [ 4 57]]\n",
      "정확도: 0.5922, 정밀도: 0.4524, 재현율: 0.9344, F1:0.6096\n",
      "임곗값: 0.1254844861811414\n",
      "오차 행렬\n",
      "[[49 69]\n",
      " [ 5 56]]\n",
      "정확도: 0.5866, 정밀도: 0.4480, 재현율: 0.9180, F1:0.6022\n",
      "임곗값: 0.12693630571645143\n",
      "오차 행렬\n",
      "[[50 68]\n",
      " [ 5 56]]\n",
      "정확도: 0.5922, 정밀도: 0.4516, 재현율: 0.9180, F1:0.6054\n",
      "임곗값: 0.12837173959785084\n",
      "오차 행렬\n",
      "[[50 68]\n",
      " [ 6 55]]\n",
      "정확도: 0.5866, 정밀도: 0.4472, 재현율: 0.9016, F1:0.5978\n",
      "임곗값: 0.128911708591347\n",
      "오차 행렬\n",
      "[[51 67]\n",
      " [ 6 55]]\n",
      "정확도: 0.5922, 정밀도: 0.4508, 재현율: 0.9016, F1:0.6011\n",
      "임곗값: 0.13084500560814064\n",
      "오차 행렬\n",
      "[[52 66]\n",
      " [ 6 55]]\n",
      "정확도: 0.5978, 정밀도: 0.4545, 재현율: 0.9016, F1:0.6044\n",
      "임곗값: 0.13278703977122483\n",
      "오차 행렬\n",
      "[[53 65]\n",
      " [ 6 55]]\n",
      "정확도: 0.6034, 정밀도: 0.4583, 재현율: 0.9016, F1:0.6077\n",
      "임곗값: 0.1329503892565352\n",
      "오차 행렬\n",
      "[[54 64]\n",
      " [ 6 55]]\n",
      "정확도: 0.6089, 정밀도: 0.4622, 재현율: 0.9016, F1:0.6111\n",
      "임곗값: 0.13318279873201772\n",
      "오차 행렬\n",
      "[[55 63]\n",
      " [ 6 55]]\n",
      "정확도: 0.6145, 정밀도: 0.4661, 재현율: 0.9016, F1:0.6145\n",
      "임곗값: 0.14035893638276556\n",
      "오차 행렬\n",
      "[[56 62]\n",
      " [ 6 55]]\n",
      "정확도: 0.6201, 정밀도: 0.4701, 재현율: 0.9016, F1:0.6180\n",
      "임곗값: 0.1410175200614221\n",
      "오차 행렬\n",
      "[[57 61]\n",
      " [ 6 55]]\n",
      "정확도: 0.6257, 정밀도: 0.4741, 재현율: 0.9016, F1:0.6215\n",
      "임곗값: 0.14106454790833103\n",
      "오차 행렬\n",
      "[[58 60]\n",
      " [ 6 55]]\n",
      "정확도: 0.6313, 정밀도: 0.4783, 재현율: 0.9016, F1:0.6250\n",
      "임곗값: 0.14107155974151367\n",
      "오차 행렬\n",
      "[[59 59]\n",
      " [ 6 55]]\n",
      "정확도: 0.6369, 정밀도: 0.4825, 재현율: 0.9016, F1:0.6286\n",
      "임곗값: 0.1448186345605188\n",
      "오차 행렬\n",
      "[[60 58]\n",
      " [ 6 55]]\n",
      "정확도: 0.6425, 정밀도: 0.4867, 재현율: 0.9016, F1:0.6322\n",
      "임곗값: 0.1453817026834266\n",
      "오차 행렬\n",
      "[[61 57]\n",
      " [ 6 55]]\n",
      "정확도: 0.6480, 정밀도: 0.4911, 재현율: 0.9016, F1:0.6358\n",
      "임곗값: 0.14821238953710783\n",
      "오차 행렬\n",
      "[[63 55]\n",
      " [ 6 55]]\n",
      "정확도: 0.6592, 정밀도: 0.5000, 재현율: 0.9016, F1:0.6433\n",
      "임곗값: 0.14821269637545503\n",
      "오차 행렬\n",
      "[[64 54]\n",
      " [ 6 55]]\n",
      "정확도: 0.6648, 정밀도: 0.5046, 재현율: 0.9016, F1:0.6471\n",
      "임곗값: 0.14977784526633336\n",
      "오차 행렬\n",
      "[[65 53]\n",
      " [ 6 55]]\n",
      "정확도: 0.6704, 정밀도: 0.5093, 재현율: 0.9016, F1:0.6509\n",
      "임곗값: 0.1535608897248227\n",
      "오차 행렬\n",
      "[[66 52]\n",
      " [ 6 55]]\n",
      "정확도: 0.6760, 정밀도: 0.5140, 재현율: 0.9016, F1:0.6548\n",
      "임곗값: 0.15420774048602667\n",
      "오차 행렬\n",
      "[[67 51]\n",
      " [ 6 55]]\n",
      "정확도: 0.6816, 정밀도: 0.5189, 재현율: 0.9016, F1:0.6587\n",
      "임곗값: 0.1682533450707563\n",
      "오차 행렬\n",
      "[[68 50]\n",
      " [ 6 55]]\n",
      "정확도: 0.6872, 정밀도: 0.5238, 재현율: 0.9016, F1:0.6627\n",
      "임곗값: 0.1684574091599246\n",
      "오차 행렬\n",
      "[[69 49]\n",
      " [ 6 55]]\n",
      "정확도: 0.6927, 정밀도: 0.5288, 재현율: 0.9016, F1:0.6667\n",
      "임곗값: 0.18370368549272373\n",
      "오차 행렬\n",
      "[[70 48]\n",
      " [ 6 55]]\n",
      "정확도: 0.6983, 정밀도: 0.5340, 재현율: 0.9016, F1:0.6707\n",
      "임곗값: 0.18533029819458866\n",
      "오차 행렬\n",
      "[[71 47]\n",
      " [ 6 55]]\n",
      "정확도: 0.7039, 정밀도: 0.5392, 재현율: 0.9016, F1:0.6748\n",
      "임곗값: 0.18610818993361763\n",
      "오차 행렬\n",
      "[[72 46]\n",
      " [ 6 55]]\n",
      "정확도: 0.7095, 정밀도: 0.5446, 재현율: 0.9016, F1:0.6790\n",
      "임곗값: 0.19696359907541292\n",
      "오차 행렬\n",
      "[[73 45]\n",
      " [ 6 55]]\n",
      "정확도: 0.7151, 정밀도: 0.5500, 재현율: 0.9016, F1:0.6832\n",
      "임곗값: 0.198455149248917\n",
      "오차 행렬\n",
      "[[74 44]\n",
      " [ 6 55]]\n",
      "정확도: 0.7207, 정밀도: 0.5556, 재현율: 0.9016, F1:0.6875\n",
      "임곗값: 0.19868538023874927\n",
      "오차 행렬\n",
      "[[75 43]\n",
      " [ 6 55]]\n",
      "정확도: 0.7263, 정밀도: 0.5612, 재현율: 0.9016, F1:0.6918\n",
      "임곗값: 0.21723922714218255\n",
      "오차 행렬\n",
      "[[76 42]\n",
      " [ 6 55]]\n",
      "정확도: 0.7318, 정밀도: 0.5670, 재현율: 0.9016, F1:0.6962\n",
      "임곗값: 0.22630047586033983\n",
      "오차 행렬\n",
      "[[77 41]\n",
      " [ 6 55]]\n",
      "정확도: 0.7374, 정밀도: 0.5729, 재현율: 0.9016, F1:0.7006\n",
      "임곗값: 0.2323408579105105\n",
      "오차 행렬\n",
      "[[78 40]\n",
      " [ 6 55]]\n",
      "정확도: 0.7430, 정밀도: 0.5789, 재현율: 0.9016, F1:0.7051\n",
      "임곗값: 0.23385919068490238\n",
      "오차 행렬\n",
      "[[79 39]\n",
      " [ 6 55]]\n",
      "정확도: 0.7486, 정밀도: 0.5851, 재현율: 0.9016, F1:0.7097\n",
      "임곗값: 0.23456916947595688\n",
      "오차 행렬\n",
      "[[82 36]\n",
      " [ 6 55]]\n",
      "정확도: 0.7654, 정밀도: 0.6044, 재현율: 0.9016, F1:0.7237\n",
      "임곗값: 0.24031402993110293\n",
      "오차 행렬\n",
      "[[83 35]\n",
      " [ 6 55]]\n",
      "정확도: 0.7709, 정밀도: 0.6111, 재현율: 0.9016, F1:0.7285\n",
      "임곗값: 0.24648324809767855\n",
      "오차 행렬\n",
      "[[84 34]\n",
      " [ 6 55]]\n",
      "정확도: 0.7765, 정밀도: 0.6180, 재현율: 0.9016, F1:0.7333\n",
      "임곗값: 0.25087867927819424\n",
      "오차 행렬\n",
      "[[85 33]\n",
      " [ 6 55]]\n",
      "정확도: 0.7821, 정밀도: 0.6250, 재현율: 0.9016, F1:0.7383\n",
      "임곗값: 0.2666736347865799\n",
      "오차 행렬\n",
      "[[86 32]\n",
      " [ 6 55]]\n",
      "정확도: 0.7877, 정밀도: 0.6322, 재현율: 0.9016, F1:0.7432\n",
      "임곗값: 0.27530027999322426\n",
      "오차 행렬\n",
      "[[87 31]\n",
      " [ 6 55]]\n",
      "정확도: 0.7933, 정밀도: 0.6395, 재현율: 0.9016, F1:0.7483\n",
      "임곗값: 0.2802177306397219\n",
      "오차 행렬\n",
      "[[88 30]\n",
      " [ 6 55]]\n",
      "정확도: 0.7989, 정밀도: 0.6471, 재현율: 0.9016, F1:0.7534\n",
      "임곗값: 0.2805096204573848\n",
      "오차 행렬\n",
      "[[89 29]\n",
      " [ 6 55]]\n",
      "정확도: 0.8045, 정밀도: 0.6548, 재현율: 0.9016, F1:0.7586\n",
      "임곗값: 0.3045800232892043\n",
      "오차 행렬\n",
      "[[90 28]\n",
      " [ 6 55]]\n",
      "정확도: 0.8101, 정밀도: 0.6627, 재현율: 0.9016, F1:0.7639\n",
      "임곗값: 0.30923867104532116\n",
      "오차 행렬\n",
      "[[90 28]\n",
      " [ 7 54]]\n",
      "정확도: 0.8045, 정밀도: 0.6585, 재현율: 0.8852, F1:0.7552\n",
      "임곗값: 0.30945363542964255\n",
      "오차 행렬\n",
      "[[91 27]\n",
      " [ 7 54]]\n",
      "정확도: 0.8101, 정밀도: 0.6667, 재현율: 0.8852, F1:0.7606\n",
      "임곗값: 0.3167543731119364\n",
      "오차 행렬\n",
      "[[92 26]\n",
      " [ 7 54]]\n",
      "정확도: 0.8156, 정밀도: 0.6750, 재현율: 0.8852, F1:0.7660\n",
      "임곗값: 0.3215895922401545\n",
      "오차 행렬\n",
      "[[93 25]\n",
      " [ 7 54]]\n",
      "정확도: 0.8212, 정밀도: 0.6835, 재현율: 0.8852, F1:0.7714\n",
      "임곗값: 0.32162902137720256\n",
      "오차 행렬\n",
      "[[94 24]\n",
      " [ 7 54]]\n",
      "정확도: 0.8268, 정밀도: 0.6923, 재현율: 0.8852, F1:0.7770\n",
      "임곗값: 0.3482385848081346\n",
      "오차 행렬\n",
      "[[94 24]\n",
      " [ 8 53]]\n",
      "정확도: 0.8212, 정밀도: 0.6883, 재현율: 0.8689, F1:0.7681\n",
      "임곗값: 0.35065509532725825\n",
      "오차 행렬\n",
      "[[95 23]\n",
      " [ 8 53]]\n",
      "정확도: 0.8268, 정밀도: 0.6974, 재현율: 0.8689, F1:0.7737\n",
      "임곗값: 0.35101280212513525\n",
      "오차 행렬\n",
      "[[96 22]\n",
      " [ 8 53]]\n",
      "정확도: 0.8324, 정밀도: 0.7067, 재현율: 0.8689, F1:0.7794\n",
      "임곗값: 0.3586379499992723\n",
      "오차 행렬\n",
      "[[96 22]\n",
      " [ 9 52]]\n",
      "정확도: 0.8268, 정밀도: 0.7027, 재현율: 0.8525, F1:0.7704\n",
      "임곗값: 0.38025448644070864\n",
      "오차 행렬\n",
      "[[97 21]\n",
      " [ 9 52]]\n",
      "정확도: 0.8324, 정밀도: 0.7123, 재현율: 0.8525, F1:0.7761\n",
      "임곗값: 0.3809866157395882\n",
      "오차 행렬\n",
      "[[98 20]\n",
      " [ 9 52]]\n",
      "정확도: 0.8380, 정밀도: 0.7222, 재현율: 0.8525, F1:0.7820\n",
      "임곗값: 0.39956872975751295\n",
      "오차 행렬\n",
      "[[98 20]\n",
      " [10 51]]\n",
      "정확도: 0.8324, 정밀도: 0.7183, 재현율: 0.8361, F1:0.7727\n",
      "임곗값: 0.4005588179889427\n",
      "오차 행렬\n",
      "[[99 19]\n",
      " [10 51]]\n",
      "정확도: 0.8380, 정밀도: 0.7286, 재현율: 0.8361, F1:0.7786\n",
      "임곗값: 0.40339400914133416\n",
      "오차 행렬\n",
      "[[99 19]\n",
      " [11 50]]\n",
      "정확도: 0.8324, 정밀도: 0.7246, 재현율: 0.8197, F1:0.7692\n",
      "임곗값: 0.4288991989732931\n",
      "오차 행렬\n",
      "[[100  18]\n",
      " [ 11  50]]\n",
      "정확도: 0.8380, 정밀도: 0.7353, 재현율: 0.8197, F1:0.7752\n",
      "임곗값: 0.43257783029211266\n",
      "오차 행렬\n",
      "[[101  17]\n",
      " [ 11  50]]\n",
      "정확도: 0.8436, 정밀도: 0.7463, 재현율: 0.8197, F1:0.7813\n",
      "임곗값: 0.4425303131876175\n",
      "오차 행렬\n",
      "[[102  16]\n",
      " [ 11  50]]\n",
      "정확도: 0.8492, 정밀도: 0.7576, 재현율: 0.8197, F1:0.7874\n",
      "임곗값: 0.44429206706288205\n",
      "오차 행렬\n",
      "[[102  16]\n",
      " [ 12  49]]\n",
      "정확도: 0.8436, 정밀도: 0.7538, 재현율: 0.8033, F1:0.7778\n",
      "임곗값: 0.4495262496850489\n",
      "오차 행렬\n",
      "[[103  15]\n",
      " [ 12  49]]\n",
      "정확도: 0.8492, 정밀도: 0.7656, 재현율: 0.8033, F1:0.7840\n",
      "임곗값: 0.4538765900041726\n",
      "오차 행렬\n",
      "[[103  15]\n",
      " [ 13  48]]\n",
      "정확도: 0.8436, 정밀도: 0.7619, 재현율: 0.7869, F1:0.7742\n",
      "임곗값: 0.48746642899135373\n",
      "오차 행렬\n",
      "[[104  14]\n",
      " [ 13  48]]\n",
      "정확도: 0.8492, 정밀도: 0.7742, 재현율: 0.7869, F1:0.7805\n",
      "임곗값: 0.5016573415548117\n"
     ]
    },
    {
     "name": "stdout",
     "output_type": "stream",
     "text": [
      "오차 행렬\n",
      "[[105  13]\n",
      " [ 13  48]]\n",
      "정확도: 0.8547, 정밀도: 0.7869, 재현율: 0.7869, F1:0.7869\n",
      "임곗값: 0.5053475896053325\n",
      "오차 행렬\n",
      "[[106  12]\n",
      " [ 13  48]]\n",
      "정확도: 0.8603, 정밀도: 0.8000, 재현율: 0.7869, F1:0.7934\n",
      "임곗값: 0.5143911323013739\n",
      "오차 행렬\n",
      "[[107  11]\n",
      " [ 13  48]]\n",
      "정확도: 0.8659, 정밀도: 0.8136, 재현율: 0.7869, F1:0.8000\n",
      "임곗값: 0.5299276213396877\n",
      "오차 행렬\n",
      "[[108  10]\n",
      " [ 13  48]]\n",
      "정확도: 0.8715, 정밀도: 0.8276, 재현율: 0.7869, F1:0.8067\n",
      "임곗값: 0.5380229916655408\n",
      "오차 행렬\n",
      "[[108  10]\n",
      " [ 14  47]]\n",
      "정확도: 0.8659, 정밀도: 0.8246, 재현율: 0.7705, F1:0.7966\n",
      "임곗값: 0.5449097784974437\n",
      "오차 행렬\n",
      "[[109   9]\n",
      " [ 14  47]]\n",
      "정확도: 0.8715, 정밀도: 0.8393, 재현율: 0.7705, F1:0.8034\n",
      "임곗값: 0.5454765637953406\n",
      "오차 행렬\n",
      "[[109   9]\n",
      " [ 15  46]]\n",
      "정확도: 0.8659, 정밀도: 0.8364, 재현율: 0.7541, F1:0.7931\n",
      "임곗값: 0.5634021701087724\n",
      "오차 행렬\n",
      "[[110   8]\n",
      " [ 15  46]]\n",
      "정확도: 0.8715, 정밀도: 0.8519, 재현율: 0.7541, F1:0.8000\n",
      "임곗값: 0.5698333411279363\n",
      "오차 행렬\n",
      "[[111   7]\n",
      " [ 15  46]]\n",
      "정확도: 0.8771, 정밀도: 0.8679, 재현율: 0.7541, F1:0.8070\n",
      "임곗값: 0.5927375314781959\n",
      "오차 행렬\n",
      "[[112   6]\n",
      " [ 15  46]]\n",
      "정확도: 0.8827, 정밀도: 0.8846, 재현율: 0.7541, F1:0.8142\n",
      "임곗값: 0.5940152777586881\n",
      "오차 행렬\n",
      "[[112   6]\n",
      " [ 16  45]]\n",
      "정확도: 0.8771, 정밀도: 0.8824, 재현율: 0.7377, F1:0.8036\n",
      "임곗값: 0.6110232227327188\n",
      "오차 행렬\n",
      "[[113   5]\n",
      " [ 16  45]]\n",
      "정확도: 0.8827, 정밀도: 0.9000, 재현율: 0.7377, F1:0.8108\n",
      "임곗값: 0.6270689871648085\n",
      "오차 행렬\n",
      "[[113   5]\n",
      " [ 17  44]]\n",
      "정확도: 0.8771, 정밀도: 0.8980, 재현율: 0.7213, F1:0.8000\n",
      "임곗값: 0.6304132692617795\n",
      "오차 행렬\n",
      "[[114   4]\n",
      " [ 17  44]]\n",
      "정확도: 0.8827, 정밀도: 0.9167, 재현율: 0.7213, F1:0.8073\n",
      "임곗값: 0.6304295565520297\n",
      "오차 행렬\n",
      "[[114   4]\n",
      " [ 19  42]]\n",
      "정확도: 0.8715, 정밀도: 0.9130, 재현율: 0.6885, F1:0.7850\n",
      "임곗값: 0.6305938002732396\n",
      "오차 행렬\n",
      "[[114   4]\n",
      " [ 20  41]]\n",
      "정확도: 0.8659, 정밀도: 0.9111, 재현율: 0.6721, F1:0.7736\n",
      "임곗값: 0.6312883712915319\n",
      "오차 행렬\n",
      "[[114   4]\n",
      " [ 21  40]]\n",
      "정확도: 0.8603, 정밀도: 0.9091, 재현율: 0.6557, F1:0.7619\n",
      "임곗값: 0.6366088410108925\n",
      "오차 행렬\n",
      "[[115   3]\n",
      " [ 21  40]]\n",
      "정확도: 0.8659, 정밀도: 0.9302, 재현율: 0.6557, F1:0.7692\n",
      "임곗값: 0.6453751138515049\n",
      "오차 행렬\n",
      "[[115   3]\n",
      " [ 22  39]]\n",
      "정확도: 0.8603, 정밀도: 0.9286, 재현율: 0.6393, F1:0.7573\n",
      "임곗값: 0.6512166642056806\n",
      "오차 행렬\n",
      "[[116   2]\n",
      " [ 22  39]]\n",
      "정확도: 0.8659, 정밀도: 0.9512, 재현율: 0.6393, F1:0.7647\n",
      "임곗값: 0.6540901585596367\n",
      "오차 행렬\n",
      "[[116   2]\n",
      " [ 23  38]]\n",
      "정확도: 0.8603, 정밀도: 0.9500, 재현율: 0.6230, F1:0.7525\n",
      "임곗값: 0.6666552343181904\n",
      "오차 행렬\n",
      "[[116   2]\n",
      " [ 24  37]]\n",
      "정확도: 0.8547, 정밀도: 0.9487, 재현율: 0.6066, F1:0.7400\n",
      "임곗값: 0.6667227456055894\n",
      "오차 행렬\n",
      "[[116   2]\n",
      " [ 25  36]]\n",
      "정확도: 0.8492, 정밀도: 0.9474, 재현율: 0.5902, F1:0.7273\n",
      "임곗값: 0.6679179285548406\n",
      "오차 행렬\n",
      "[[116   2]\n",
      " [ 26  35]]\n",
      "정확도: 0.8436, 정밀도: 0.9459, 재현율: 0.5738, F1:0.7143\n",
      "임곗값: 0.6776226288357374\n",
      "오차 행렬\n",
      "[[116   2]\n",
      " [ 27  34]]\n",
      "정확도: 0.8380, 정밀도: 0.9444, 재현율: 0.5574, F1:0.7010\n",
      "임곗값: 0.6904246661921767\n",
      "오차 행렬\n",
      "[[116   2]\n",
      " [ 28  33]]\n",
      "정확도: 0.8324, 정밀도: 0.9429, 재현율: 0.5410, F1:0.6875\n",
      "임곗값: 0.7078499179778796\n",
      "오차 행렬\n",
      "[[116   2]\n",
      " [ 29  32]]\n",
      "정확도: 0.8268, 정밀도: 0.9412, 재현율: 0.5246, F1:0.6737\n",
      "임곗값: 0.7254755866678767\n",
      "오차 행렬\n",
      "[[116   2]\n",
      " [ 30  31]]\n",
      "정확도: 0.8212, 정밀도: 0.9394, 재현율: 0.5082, F1:0.6596\n",
      "임곗값: 0.7354206848472641\n",
      "오차 행렬\n",
      "[[116   2]\n",
      " [ 31  30]]\n",
      "정확도: 0.8156, 정밀도: 0.9375, 재현율: 0.4918, F1:0.6452\n",
      "임곗값: 0.7483949352215092\n",
      "오차 행렬\n",
      "[[116   2]\n",
      " [ 32  29]]\n",
      "정확도: 0.8101, 정밀도: 0.9355, 재현율: 0.4754, F1:0.6304\n",
      "임곗값: 0.7517542993361904\n",
      "오차 행렬\n",
      "[[117   1]\n",
      " [ 32  29]]\n",
      "정확도: 0.8156, 정밀도: 0.9667, 재현율: 0.4754, F1:0.6374\n",
      "임곗값: 0.777797125554469\n",
      "오차 행렬\n",
      "[[117   1]\n",
      " [ 33  28]]\n",
      "정확도: 0.8101, 정밀도: 0.9655, 재현율: 0.4590, F1:0.6222\n",
      "임곗값: 0.7912671291073713\n",
      "오차 행렬\n",
      "[[117   1]\n",
      " [ 34  27]]\n",
      "정확도: 0.8045, 정밀도: 0.9643, 재현율: 0.4426, F1:0.6067\n",
      "임곗값: 0.7929169400353014\n",
      "오차 행렬\n",
      "[[117   1]\n",
      " [ 35  26]]\n",
      "정확도: 0.7989, 정밀도: 0.9630, 재현율: 0.4262, F1:0.5909\n",
      "임곗값: 0.7947798429967662\n",
      "오차 행렬\n",
      "[[117   1]\n",
      " [ 36  25]]\n",
      "정확도: 0.7933, 정밀도: 0.9615, 재현율: 0.4098, F1:0.5747\n",
      "임곗값: 0.8034123638145406\n",
      "오차 행렬\n",
      "[[117   1]\n",
      " [ 37  24]]\n",
      "정확도: 0.7877, 정밀도: 0.9600, 재현율: 0.3934, F1:0.5581\n",
      "임곗값: 0.8172568747477195\n",
      "오차 행렬\n",
      "[[117   1]\n",
      " [ 38  23]]\n",
      "정확도: 0.7821, 정밀도: 0.9583, 재현율: 0.3770, F1:0.5412\n",
      "임곗값: 0.8217218779324151\n",
      "오차 행렬\n",
      "[[117   1]\n",
      " [ 39  22]]\n",
      "정확도: 0.7765, 정밀도: 0.9565, 재현율: 0.3607, F1:0.5238\n",
      "임곗값: 0.826180095443545\n",
      "오차 행렬\n",
      "[[117   1]\n",
      " [ 40  21]]\n",
      "정확도: 0.7709, 정밀도: 0.9545, 재현율: 0.3443, F1:0.5060\n",
      "임곗값: 0.828336053295721\n",
      "오차 행렬\n",
      "[[117   1]\n",
      " [ 41  20]]\n",
      "정확도: 0.7654, 정밀도: 0.9524, 재현율: 0.3279, F1:0.4878\n",
      "임곗값: 0.8356396328333807\n",
      "오차 행렬\n",
      "[[117   1]\n",
      " [ 42  19]]\n",
      "정확도: 0.7598, 정밀도: 0.9500, 재현율: 0.3115, F1:0.4691\n",
      "임곗값: 0.8542899332905363\n",
      "오차 행렬\n",
      "[[117   1]\n",
      " [ 43  18]]\n",
      "정확도: 0.7542, 정밀도: 0.9474, 재현율: 0.2951, F1:0.4500\n",
      "임곗값: 0.8744898798491622\n",
      "오차 행렬\n",
      "[[117   1]\n",
      " [ 44  17]]\n",
      "정확도: 0.7486, 정밀도: 0.9444, 재현율: 0.2787, F1:0.4304\n",
      "임곗값: 0.8808489646556383\n",
      "오차 행렬\n",
      "[[117   1]\n",
      " [ 45  16]]\n",
      "정확도: 0.7430, 정밀도: 0.9412, 재현율: 0.2623, F1:0.4103\n",
      "임곗값: 0.8841736219212961\n",
      "오차 행렬\n",
      "[[117   1]\n",
      " [ 46  15]]\n",
      "정확도: 0.7374, 정밀도: 0.9375, 재현율: 0.2459, F1:0.3896\n",
      "임곗값: 0.8930449959899828\n",
      "오차 행렬\n",
      "[[117   1]\n",
      " [ 47  14]]\n",
      "정확도: 0.7318, 정밀도: 0.9333, 재현율: 0.2295, F1:0.3684\n",
      "임곗값: 0.9089306921517603\n",
      "오차 행렬\n",
      "[[118   0]\n",
      " [ 47  14]]\n",
      "정확도: 0.7374, 정밀도: 1.0000, 재현율: 0.2295, F1:0.3733\n",
      "임곗값: 0.9181110527161032\n",
      "오차 행렬\n",
      "[[118   0]\n",
      " [ 48  13]]\n",
      "정확도: 0.7318, 정밀도: 1.0000, 재현율: 0.2131, F1:0.3514\n",
      "임곗값: 0.9188472661935089\n",
      "오차 행렬\n",
      "[[118   0]\n",
      " [ 49  12]]\n",
      "정확도: 0.7263, 정밀도: 1.0000, 재현율: 0.1967, F1:0.3288\n",
      "임곗값: 0.9259439869998003\n",
      "오차 행렬\n",
      "[[118   0]\n",
      " [ 50  11]]\n",
      "정확도: 0.7207, 정밀도: 1.0000, 재현율: 0.1803, F1:0.3056\n",
      "임곗값: 0.9288587553613178\n",
      "오차 행렬\n",
      "[[118   0]\n",
      " [ 51  10]]\n",
      "정확도: 0.7151, 정밀도: 1.0000, 재현율: 0.1639, F1:0.2817\n",
      "임곗값: 0.9311103422244746\n",
      "오차 행렬\n",
      "[[118   0]\n",
      " [ 52   9]]\n",
      "정확도: 0.7095, 정밀도: 1.0000, 재현율: 0.1475, F1:0.2571\n",
      "임곗값: 0.9472517418700656\n",
      "오차 행렬\n",
      "[[118   0]\n",
      " [ 53   8]]\n",
      "정확도: 0.7039, 정밀도: 1.0000, 재현율: 0.1311, F1:0.2319\n",
      "임곗값: 0.9479208946201793\n",
      "오차 행렬\n",
      "[[118   0]\n",
      " [ 54   7]]\n",
      "정확도: 0.6983, 정밀도: 1.0000, 재현율: 0.1148, F1:0.2059\n",
      "임곗값: 0.9480039269254543\n",
      "오차 행렬\n",
      "[[118   0]\n",
      " [ 55   6]]\n",
      "정확도: 0.6927, 정밀도: 1.0000, 재현율: 0.0984, F1:0.1791\n",
      "임곗값: 0.9489031457160514\n",
      "오차 행렬\n",
      "[[118   0]\n",
      " [ 56   5]]\n",
      "정확도: 0.6872, 정밀도: 1.0000, 재현율: 0.0820, F1:0.1515\n",
      "임곗값: 0.9489427663998902\n",
      "오차 행렬\n",
      "[[118   0]\n",
      " [ 57   4]]\n",
      "정확도: 0.6816, 정밀도: 1.0000, 재현율: 0.0656, F1:0.1231\n",
      "임곗값: 0.9503668596241402\n",
      "오차 행렬\n",
      "[[118   0]\n",
      " [ 58   3]]\n",
      "정확도: 0.6760, 정밀도: 1.0000, 재현율: 0.0492, F1:0.0938\n",
      "임곗값: 0.9518212802022714\n",
      "오차 행렬\n",
      "[[118   0]\n",
      " [ 59   2]]\n",
      "정확도: 0.6704, 정밀도: 1.0000, 재현율: 0.0328, F1:0.0635\n",
      "임곗값: 0.9650933752259748\n",
      "오차 행렬\n",
      "[[118   0]\n",
      " [ 61   0]]\n",
      "정확도: 0.6592, 정밀도: 0.0000, 재현율: 0.0000, F1:0.0000\n"
     ]
    },
    {
     "name": "stderr",
     "output_type": "stream",
     "text": [
      "C:\\Users\\shin\\anaconda3\\lib\\site-packages\\sklearn\\metrics\\_classification.py:1221: UndefinedMetricWarning: Precision is ill-defined and being set to 0.0 due to no predicted samples. Use `zero_division` parameter to control this behavior.\n",
      "  _warn_prf(average, modifier, msg_start, len(result))\n"
     ]
    }
   ],
   "source": [
    "def get_clf_eval(y_test , pred):\n",
    "    confusion = confusion_matrix( y_test, pred)\n",
    "    accuracy = accuracy_score(y_test , pred)\n",
    "    precision = precision_score(y_test , pred)\n",
    "    recall = recall_score(y_test , pred)\n",
    "    # F1 스코어 추가\n",
    "    f1 = f1_score(y_test,pred)\n",
    "    print('오차 행렬')\n",
    "    print(confusion)\n",
    "    # f1 score print 추가\n",
    "    print('정확도: {0:.4f}, 정밀도: {1:.4f}, 재현율: {2:.4f}, F1:{3:.4f}'.format(accuracy, precision, recall, f1))\n",
    "    \n",
    "    thresholds = [0.4 , 0.45 , 0.50 , 0.55 , 0.60]\n",
    "pred_proba = lr_clf.predict_proba(X_test)\n",
    "get_eval_by_threshold(y_test, pred_proba[:,1].reshape(-1,1), thresholds)"
   ]
  },
  {
   "cell_type": "markdown",
   "metadata": {},
   "source": [
    "## 3-5 ROC Curve & AUC"
   ]
  },
  {
   "cell_type": "code",
   "execution_count": 22,
   "metadata": {
    "scrolled": true
   },
   "outputs": [
    {
     "name": "stdout",
     "output_type": "stream",
     "text": [
      "샘플 추출을 위한 임곗값 배열의 index 10개: [ 0  5 10 15 20 25 30 35 40 45 50]\n",
      "샘플용 10개의 임곗값:  [1.97 0.75 0.63 0.59 0.49 0.4  0.35 0.23 0.13 0.12 0.11]\n",
      "샘플 임곗값별 FPR:  [0.    0.017 0.034 0.051 0.127 0.161 0.203 0.331 0.585 0.636 0.797]\n",
      "샘플 임곗값별 TPR:  [0.    0.475 0.689 0.754 0.787 0.836 0.869 0.902 0.918 0.967 0.967]\n"
     ]
    }
   ],
   "source": [
    "from sklearn.metrics import roc_curve\n",
    "\n",
    "pred_proba_class1 = lr_clf.predict_proba(X_test)[:,1]\n",
    "\n",
    "fprs, tprs, thresholds = roc_curve(y_test, pred_proba_class1)\n",
    "thr_index = np.arange(0,thresholds.shape[0],5)\n",
    "\n",
    "print('샘플 추출을 위한 임곗값 배열의 index 10개:', thr_index)\n",
    "print('샘플용 10개의 임곗값: ', np.round(thresholds[thr_index], 2))\n",
    "\n",
    "# 5 step 단위로 추출된 임계값에 따른 FPR, TPR 값\n",
    "print('샘플 임곗값별 FPR: ', np.round(fprs[thr_index], 3))\n",
    "print('샘플 임곗값별 TPR: ', np.round(tprs[thr_index], 3))"
   ]
  },
  {
   "cell_type": "code",
   "execution_count": 23,
   "metadata": {
    "scrolled": true
   },
   "outputs": [
    {
     "data": {
      "image/png": "[encoded data removed]",
      "text/plain": [
       "<Figure size 432x288 with 1 Axes>"
      ]
     },
     "metadata": {
      "needs_background": "light"
     },
     "output_type": "display_data"
    }
   ],
   "source": [
    "def roc_curve_plot(y_test , pred_proba_c1):\n",
    "    # 임곗값에 따른 FPR, TPR 값을 반환 받음. \n",
    "    fprs , tprs , thresholds = roc_curve(y_test ,pred_proba_c1)\n",
    "\n",
    "    # ROC Curve를 plot 곡선으로 그림. \n",
    "    plt.plot(fprs , tprs, label='ROC')\n",
    "    # 가운데 대각선 직선을 그림. \n",
    "    plt.plot([0, 1], [0, 1], 'k--', label='Random')\n",
    "    \n",
    "    # FPR X 축의 Scale을 0.1 단위로 변경, X,Y 축명 설정등   \n",
    "    start, end = plt.xlim()\n",
    "    plt.xticks(np.round(np.arange(start, end, 0.1),2))\n",
    "    plt.xlim(0,1); plt.ylim(0,1)\n",
    "    plt.xlabel('FPR( 1 - Sensitivity )'); plt.ylabel('TPR( Recall )')\n",
    "    plt.legend()\n",
    "    plt.show()\n",
    "    \n",
    "roc_curve_plot(y_test, lr_clf.predict_proba(X_test)[:, 1] )\n"
   ]
  },
  {
   "cell_type": "code",
   "execution_count": 24,
   "metadata": {
    "scrolled": true
   },
   "outputs": [
    {
     "name": "stdout",
     "output_type": "stream",
     "text": [
      "ROC AUC 값: 0.9024\n"
     ]
    }
   ],
   "source": [
    "from sklearn.metrics import roc_auc_score\n",
    "\n",
    "\n",
    "pred_proba = lr_clf.predict_proba(X_test)[:, 1]\n",
    "roc_score = roc_auc_score(y_test, pred_proba)\n",
    "print('ROC AUC 값: {0:.4f}'.format(roc_score))"
   ]
  },
  {
   "cell_type": "code",
   "execution_count": 25,
   "metadata": {},
   "outputs": [],
   "source": [
    "def get_clf_eval(y_test, pred=None, pred_proba=None):\n",
    "    confusion = confusion_matrix( y_test, pred)\n",
    "    accuracy = accuracy_score(y_test , pred)\n",
    "    precision = precision_score(y_test , pred)\n",
    "    recall = recall_score(y_test , pred)\n",
    "    f1 = f1_score(y_test,pred)\n",
    "    # ROC-AUC 추가 \n",
    "    roc_auc = roc_auc_score(y_test, pred_proba)\n",
    "    print('오차 행렬')\n",
    "    print(confusion)\n",
    "    # ROC-AUC print 추가\n",
    "    print('정확도: {0:.4f}, 정밀도: {1:.4f}, 재현율: {2:.4f},\\\n",
    "          F1: {3:.4f}, AUC:{4:.4f}'.format(accuracy, precision, recall, f1, roc_auc))\n"
   ]
  },
  {
   "cell_type": "markdown",
   "metadata": {},
   "source": [
    "## 3.6 피마 인디언 당뇨병 예측"
   ]
  },
  {
   "cell_type": "code",
   "execution_count": 26,
   "metadata": {},
   "outputs": [
    {
     "name": "stdout",
     "output_type": "stream",
     "text": [
      "0    500\n",
      "1    268\n",
      "Name: Outcome, dtype: int64\n"
     ]
    },
    {
     "data": {
      "text/html": [
       "<div>\n",
       "<style scoped>\n",
       "    .dataframe tbody tr th:only-of-type {\n",
       "        vertical-align: middle;\n",
       "    }\n",
       "\n",
       "    .dataframe tbody tr th {\n",
       "        vertical-align: top;\n",
       "    }\n",
       "\n",
       "    .dataframe thead th {\n",
       "        text-align: right;\n",
       "    }\n",
       "</style>\n",
       "<table border=\"1\" class=\"dataframe\">\n",
       "  <thead>\n",
       "    <tr style=\"text-align: right;\">\n",
       "      <th></th>\n",
       "      <th>Pregnancies</th>\n",
       "      <th>Glucose</th>\n",
       "      <th>BloodPressure</th>\n",
       "      <th>SkinThickness</th>\n",
       "      <th>Insulin</th>\n",
       "      <th>BMI</th>\n",
       "      <th>DiabetesPedigreeFunction</th>\n",
       "      <th>Age</th>\n",
       "      <th>Outcome</th>\n",
       "    </tr>\n",
       "  </thead>\n",
       "  <tbody>\n",
       "    <tr>\n",
       "      <th>0</th>\n",
       "      <td>6</td>\n",
       "      <td>148</td>\n",
       "      <td>72</td>\n",
       "      <td>35</td>\n",
       "      <td>0</td>\n",
       "      <td>33.6</td>\n",
       "      <td>0.627</td>\n",
       "      <td>50</td>\n",
       "      <td>1</td>\n",
       "    </tr>\n",
       "    <tr>\n",
       "      <th>1</th>\n",
       "      <td>1</td>\n",
       "      <td>85</td>\n",
       "      <td>66</td>\n",
       "      <td>29</td>\n",
       "      <td>0</td>\n",
       "      <td>26.6</td>\n",
       "      <td>0.351</td>\n",
       "      <td>31</td>\n",
       "      <td>0</td>\n",
       "    </tr>\n",
       "    <tr>\n",
       "      <th>2</th>\n",
       "      <td>8</td>\n",
       "      <td>183</td>\n",
       "      <td>64</td>\n",
       "      <td>0</td>\n",
       "      <td>0</td>\n",
       "      <td>23.3</td>\n",
       "      <td>0.672</td>\n",
       "      <td>32</td>\n",
       "      <td>1</td>\n",
       "    </tr>\n",
       "    <tr>\n",
       "      <th>3</th>\n",
       "      <td>1</td>\n",
       "      <td>89</td>\n",
       "      <td>66</td>\n",
       "      <td>23</td>\n",
       "      <td>94</td>\n",
       "      <td>28.1</td>\n",
       "      <td>0.167</td>\n",
       "      <td>21</td>\n",
       "      <td>0</td>\n",
       "    </tr>\n",
       "    <tr>\n",
       "      <th>4</th>\n",
       "      <td>0</td>\n",
       "      <td>137</td>\n",
       "      <td>40</td>\n",
       "      <td>35</td>\n",
       "      <td>168</td>\n",
       "      <td>43.1</td>\n",
       "      <td>2.288</td>\n",
       "      <td>33</td>\n",
       "      <td>1</td>\n",
       "    </tr>\n",
       "  </tbody>\n",
       "</table>\n",
       "</div>"
      ],
      "text/plain": [
       "   Pregnancies  Glucose  BloodPressure  SkinThickness  Insulin   BMI  \\\n",
       "0            6      148             72             35        0  33.6   \n",
       "1            1       85             66             29        0  26.6   \n",
       "2            8      183             64              0        0  23.3   \n",
       "3            1       89             66             23       94  28.1   \n",
       "4            0      137             40             35      168  43.1   \n",
       "\n",
       "   DiabetesPedigreeFunction  Age  Outcome  \n",
       "0                     0.627   50        1  \n",
       "1                     0.351   31        0  \n",
       "2                     0.672   32        1  \n",
       "3                     0.167   21        0  \n",
       "4                     2.288   33        1  "
      ]
     },
     "execution_count": 26,
     "metadata": {},
     "output_type": "execute_result"
    }
   ],
   "source": [
    "import numpy as np\n",
    "import pandas as pd\n",
    "import matplotlib.pyplot as plt\n",
    "%matplotlib inline\n",
    "\n",
    "from sklearn.model_selection import train_test_split\n",
    "from sklearn.metrics import accuracy_score, precision_score, recall_score, roc_auc_score\n",
    "from sklearn.metrics import f1_score, confusion_matrix, precision_recall_curve, roc_curve\n",
    "from sklearn.preprocessing import StandardScaler\n",
    "from sklearn.linear_model import LogisticRegression\n",
    "\n",
    "diabetes_data = pd.read_csv('diabetes.csv')\n",
    "print(diabetes_data['Outcome'].value_counts())\n",
    "diabetes_data.head()"
   ]
  },
  {
   "cell_type": "code",
   "execution_count": 27,
   "metadata": {},
   "outputs": [
    {
     "name": "stdout",
     "output_type": "stream",
     "text": [
      "<class 'pandas.core.frame.DataFrame'>\n",
      "RangeIndex: 768 entries, 0 to 767\n",
      "Data columns (total 9 columns):\n",
      " #   Column                    Non-Null Count  Dtype  \n",
      "---  ------                    --------------  -----  \n",
      " 0   Pregnancies               768 non-null    int64  \n",
      " 1   Glucose                   768 non-null    int64  \n",
      " 2   BloodPressure             768 non-null    int64  \n",
      " 3   SkinThickness             768 non-null    int64  \n",
      " 4   Insulin                   768 non-null    int64  \n",
      " 5   BMI                       768 non-null    float64\n",
      " 6   DiabetesPedigreeFunction  768 non-null    float64\n",
      " 7   Age                       768 non-null    int64  \n",
      " 8   Outcome                   768 non-null    int64  \n",
      "dtypes: float64(2), int64(7)\n",
      "memory usage: 54.1 KB\n"
     ]
    }
   ],
   "source": [
    "diabetes_data.info()"
   ]
  },
  {
   "cell_type": "code",
   "execution_count": 28,
   "metadata": {},
   "outputs": [
    {
     "name": "stdout",
     "output_type": "stream",
     "text": [
      "오차 행렬\n",
      "[[88 12]\n",
      " [23 31]]\n",
      "정확도: 0.7727, 정밀도: 0.7209, 재현율: 0.5741,          F1: 0.6392, AUC:0.7919\n"
     ]
    },
    {
     "name": "stderr",
     "output_type": "stream",
     "text": [
      "C:\\Users\\shin\\anaconda3\\lib\\site-packages\\sklearn\\linear_model\\_logistic.py:762: ConvergenceWarning: lbfgs failed to converge (status=1):\n",
      "STOP: TOTAL NO. of ITERATIONS REACHED LIMIT.\n",
      "\n",
      "Increase the number of iterations (max_iter) or scale the data as shown in:\n",
      "    https://scikit-learn.org/stable/modules/preprocessing.html\n",
      "Please also refer to the documentation for alternative solver options:\n",
      "    https://scikit-learn.org/stable/modules/linear_model.html#logistic-regression\n",
      "  n_iter_i = _check_optimize_result(\n"
     ]
    }
   ],
   "source": [
    "X = diabetes_data.iloc[:,:-1]\n",
    "y = diabetes_data.iloc[:,-1]\n",
    "\n",
    "X_train, X_test, y_train, y_test = train_test_split(X,y,test_size=0.2, random_state=156, stratify=y)\n",
    "\n",
    "lr_clf = LogisticRegression()\n",
    "lr_clf.fit(X_train, y_train)\n",
    "pred = lr_clf.predict(X_test)\n",
    "pred_proba = lr_clf.predict_proba(X_test)[:,1]\n",
    "\n",
    "get_clf_eval(y_test, pred, pred_proba)"
   ]
  },
  {
   "cell_type": "code",
   "execution_count": 29,
   "metadata": {},
   "outputs": [
    {
     "data": {
      "image/png": "[encoded data removed]",
      "text/plain": [
       "<Figure size 576x432 with 1 Axes>"
      ]
     },
     "metadata": {
      "needs_background": "light"
     },
     "output_type": "display_data"
    }
   ],
   "source": [
    "precision_recall_curve_plot(y_test,pred_proba)"
   ]
  },
  {
   "cell_type": "code",
   "execution_count": 30,
   "metadata": {
    "scrolled": true
   },
   "outputs": [
    {
     "data": {
      "text/html": [
       "<div>\n",
       "<style scoped>\n",
       "    .dataframe tbody tr th:only-of-type {\n",
       "        vertical-align: middle;\n",
       "    }\n",
       "\n",
       "    .dataframe tbody tr th {\n",
       "        vertical-align: top;\n",
       "    }\n",
       "\n",
       "    .dataframe thead th {\n",
       "        text-align: right;\n",
       "    }\n",
       "</style>\n",
       "<table border=\"1\" class=\"dataframe\">\n",
       "  <thead>\n",
       "    <tr style=\"text-align: right;\">\n",
       "      <th></th>\n",
       "      <th>Pregnancies</th>\n",
       "      <th>Glucose</th>\n",
       "      <th>BloodPressure</th>\n",
       "      <th>SkinThickness</th>\n",
       "      <th>Insulin</th>\n",
       "      <th>BMI</th>\n",
       "      <th>DiabetesPedigreeFunction</th>\n",
       "      <th>Age</th>\n",
       "      <th>Outcome</th>\n",
       "    </tr>\n",
       "  </thead>\n",
       "  <tbody>\n",
       "    <tr>\n",
       "      <th>count</th>\n",
       "      <td>768.000000</td>\n",
       "      <td>768.000000</td>\n",
       "      <td>768.000000</td>\n",
       "      <td>768.000000</td>\n",
       "      <td>768.000000</td>\n",
       "      <td>768.000000</td>\n",
       "      <td>768.000000</td>\n",
       "      <td>768.000000</td>\n",
       "      <td>768.000000</td>\n",
       "    </tr>\n",
       "    <tr>\n",
       "      <th>mean</th>\n",
       "      <td>3.845052</td>\n",
       "      <td>120.894531</td>\n",
       "      <td>69.105469</td>\n",
       "      <td>20.536458</td>\n",
       "      <td>79.799479</td>\n",
       "      <td>31.992578</td>\n",
       "      <td>0.471876</td>\n",
       "      <td>33.240885</td>\n",
       "      <td>0.348958</td>\n",
       "    </tr>\n",
       "    <tr>\n",
       "      <th>std</th>\n",
       "      <td>3.369578</td>\n",
       "      <td>31.972618</td>\n",
       "      <td>19.355807</td>\n",
       "      <td>15.952218</td>\n",
       "      <td>115.244002</td>\n",
       "      <td>7.884160</td>\n",
       "      <td>0.331329</td>\n",
       "      <td>11.760232</td>\n",
       "      <td>0.476951</td>\n",
       "    </tr>\n",
       "    <tr>\n",
       "      <th>min</th>\n",
       "      <td>0.000000</td>\n",
       "      <td>0.000000</td>\n",
       "      <td>0.000000</td>\n",
       "      <td>0.000000</td>\n",
       "      <td>0.000000</td>\n",
       "      <td>0.000000</td>\n",
       "      <td>0.078000</td>\n",
       "      <td>21.000000</td>\n",
       "      <td>0.000000</td>\n",
       "    </tr>\n",
       "    <tr>\n",
       "      <th>25%</th>\n",
       "      <td>1.000000</td>\n",
       "      <td>99.000000</td>\n",
       "      <td>62.000000</td>\n",
       "      <td>0.000000</td>\n",
       "      <td>0.000000</td>\n",
       "      <td>27.300000</td>\n",
       "      <td>0.243750</td>\n",
       "      <td>24.000000</td>\n",
       "      <td>0.000000</td>\n",
       "    </tr>\n",
       "    <tr>\n",
       "      <th>50%</th>\n",
       "      <td>3.000000</td>\n",
       "      <td>117.000000</td>\n",
       "      <td>72.000000</td>\n",
       "      <td>23.000000</td>\n",
       "      <td>30.500000</td>\n",
       "      <td>32.000000</td>\n",
       "      <td>0.372500</td>\n",
       "      <td>29.000000</td>\n",
       "      <td>0.000000</td>\n",
       "    </tr>\n",
       "    <tr>\n",
       "      <th>75%</th>\n",
       "      <td>6.000000</td>\n",
       "      <td>140.250000</td>\n",
       "      <td>80.000000</td>\n",
       "      <td>32.000000</td>\n",
       "      <td>127.250000</td>\n",
       "      <td>36.600000</td>\n",
       "      <td>0.626250</td>\n",
       "      <td>41.000000</td>\n",
       "      <td>1.000000</td>\n",
       "    </tr>\n",
       "    <tr>\n",
       "      <th>max</th>\n",
       "      <td>17.000000</td>\n",
       "      <td>199.000000</td>\n",
       "      <td>122.000000</td>\n",
       "      <td>99.000000</td>\n",
       "      <td>846.000000</td>\n",
       "      <td>67.100000</td>\n",
       "      <td>2.420000</td>\n",
       "      <td>81.000000</td>\n",
       "      <td>1.000000</td>\n",
       "    </tr>\n",
       "  </tbody>\n",
       "</table>\n",
       "</div>"
      ],
      "text/plain": [
       "       Pregnancies     Glucose  BloodPressure  SkinThickness     Insulin  \\\n",
       "count   768.000000  768.000000     768.000000     768.000000  768.000000   \n",
       "mean      3.845052  120.894531      69.105469      20.536458   79.799479   \n",
       "std       3.369578   31.972618      19.355807      15.952218  115.244002   \n",
       "min       0.000000    0.000000       0.000000       0.000000    0.000000   \n",
       "25%       1.000000   99.000000      62.000000       0.000000    0.000000   \n",
       "50%       3.000000  117.000000      72.000000      23.000000   30.500000   \n",
       "75%       6.000000  140.250000      80.000000      32.000000  127.250000   \n",
       "max      17.000000  199.000000     122.000000      99.000000  846.000000   \n",
       "\n",
       "              BMI  DiabetesPedigreeFunction         Age     Outcome  \n",
       "count  768.000000                768.000000  768.000000  768.000000  \n",
       "mean    31.992578                  0.471876   33.240885    0.348958  \n",
       "std      7.884160                  0.331329   11.760232    0.476951  \n",
       "min      0.000000                  0.078000   21.000000    0.000000  \n",
       "25%     27.300000                  0.243750   24.000000    0.000000  \n",
       "50%     32.000000                  0.372500   29.000000    0.000000  \n",
       "75%     36.600000                  0.626250   41.000000    1.000000  \n",
       "max     67.100000                  2.420000   81.000000    1.000000  "
      ]
     },
     "execution_count": 30,
     "metadata": {},
     "output_type": "execute_result"
    }
   ],
   "source": [
    "diabetes_data.describe()"
   ]
  },
  {
   "cell_type": "code",
   "execution_count": 31,
   "metadata": {},
   "outputs": [
    {
     "data": {
      "text/plain": [
       "(array([  5.,   0.,   4.,  32., 156., 211., 163.,  95.,  56.,  46.]),\n",
       " array([  0. ,  19.9,  39.8,  59.7,  79.6,  99.5, 119.4, 139.3, 159.2,\n",
       "        179.1, 199. ]),\n",
       " <BarContainer object of 10 artists>)"
      ]
     },
     "execution_count": 31,
     "metadata": {},
     "output_type": "execute_result"
    },
    {
     "data": {
      "image/png": "[encoded data removed]",
      "text/plain": [
       "<Figure size 432x288 with 1 Axes>"
      ]
     },
     "metadata": {
      "needs_background": "light"
     },
     "output_type": "display_data"
    }
   ],
   "source": [
    "plt.hist(diabetes_data['Glucose'],bins=10)"
   ]
  },
  {
   "cell_type": "code",
   "execution_count": 32,
   "metadata": {},
   "outputs": [
    {
     "name": "stdout",
     "output_type": "stream",
     "text": [
      "Glucose 0 건수는 5, 퍼센트는 0.65 %\n",
      "BloodPressure 0 건수는 35, 퍼센트는 4.56 %\n",
      "SkinThickness 0 건수는 227, 퍼센트는 29.56 %\n",
      "Insulin 0 건수는 374, 퍼센트는 48.70 %\n",
      "BMI 0 건수는 11, 퍼센트는 1.43 %\n"
     ]
    }
   ],
   "source": [
    "zero_features = ['Glucose', 'BloodPressure','SkinThickness','Insulin','BMI']\n",
    "\n",
    "total_count = diabetes_data['Glucose'].count()\n",
    "\n",
    "for feature in zero_features:\n",
    "    zero_count = diabetes_data[diabetes_data[feature] == 0][feature].count()\n",
    "    print('{0} 0 건수는 {1}, 퍼센트는 {2:.2f} %'.format(feature, zero_count, 100*zero_count/total_count))"
   ]
  },
  {
   "cell_type": "code",
   "execution_count": 33,
   "metadata": {},
   "outputs": [],
   "source": [
    "diabetes_data[zero_features]=diabetes_data[zero_features].replace(0, diabetes_data[zero_features].mean())"
   ]
  },
  {
   "cell_type": "code",
   "execution_count": 34,
   "metadata": {},
   "outputs": [
    {
     "name": "stdout",
     "output_type": "stream",
     "text": [
      "오차 행렬\n",
      "[[90 10]\n",
      " [21 33]]\n",
      "정확도: 0.7987, 정밀도: 0.7674, 재현율: 0.6111,          F1: 0.6804, AUC:0.8433\n"
     ]
    }
   ],
   "source": [
    "X = diabetes_data.iloc[:,:-1]\n",
    "y = diabetes_data.iloc[:,-1]\n",
    "\n",
    "scaler = StandardScaler()\n",
    "X_scaled = scaler.fit_transform(X)\n",
    "\n",
    "X_train, X_test, y_train, y_test = train_test_split(X_scaled, y, test_size= 0.2, random_state=156, stratify=y)\n",
    "\n",
    "lr_clf = LogisticRegression()\n",
    "lr_clf.fit(X_train, y_train)\n",
    "pred = lr_clf.predict(X_test)\n",
    "\n",
    "pred_proba = lr_clf.predict_proba(X_test)[:,1]\n",
    "get_clf_eval(y_test,pred,pred_proba)"
   ]
  },
  {
   "cell_type": "code",
   "execution_count": 35,
   "metadata": {},
   "outputs": [],
   "source": [
    "from sklearn.preprocessing import Binarizer\n",
    "\n",
    "def get_eval_by_threshold(y_test , pred_proba_c1, thresholds):\n",
    "    # thresholds 리스트 객체내의 값을 차례로 iteration하면서 Evaluation 수행.\n",
    "    for custom_threshold in thresholds:\n",
    "        binarizer = Binarizer(threshold=custom_threshold).fit(pred_proba_c1) \n",
    "        custom_predict = binarizer.transform(pred_proba_c1)\n",
    "        print('임곗값:',custom_threshold)\n",
    "        # roc_auc_score 관련 수정\n",
    "        get_clf_eval(y_test , custom_predict, pred_proba_c1)"
   ]
  },
  {
   "cell_type": "code",
   "execution_count": 36,
   "metadata": {},
   "outputs": [
    {
     "name": "stdout",
     "output_type": "stream",
     "text": [
      "임곗값: 0.3\n",
      "오차 행렬\n",
      "[[67 33]\n",
      " [11 43]]\n",
      "정확도: 0.7143, 정밀도: 0.5658, 재현율: 0.7963,          F1: 0.6615, AUC:0.8433\n",
      "임곗값: 0.33\n",
      "오차 행렬\n",
      "[[72 28]\n",
      " [12 42]]\n",
      "정확도: 0.7403, 정밀도: 0.6000, 재현율: 0.7778,          F1: 0.6774, AUC:0.8433\n",
      "임곗값: 0.36\n",
      "오차 행렬\n",
      "[[76 24]\n",
      " [15 39]]\n",
      "정확도: 0.7468, 정밀도: 0.6190, 재현율: 0.7222,          F1: 0.6667, AUC:0.8433\n",
      "임곗값: 0.39\n",
      "오차 행렬\n",
      "[[78 22]\n",
      " [16 38]]\n",
      "정확도: 0.7532, 정밀도: 0.6333, 재현율: 0.7037,          F1: 0.6667, AUC:0.8433\n",
      "임곗값: 0.42\n",
      "오차 행렬\n",
      "[[84 16]\n",
      " [18 36]]\n",
      "정확도: 0.7792, 정밀도: 0.6923, 재현율: 0.6667,          F1: 0.6792, AUC:0.8433\n",
      "임곗값: 0.45\n",
      "오차 행렬\n",
      "[[85 15]\n",
      " [18 36]]\n",
      "정확도: 0.7857, 정밀도: 0.7059, 재현율: 0.6667,          F1: 0.6857, AUC:0.8433\n",
      "임곗값: 0.48\n",
      "오차 행렬\n",
      "[[88 12]\n",
      " [19 35]]\n",
      "정확도: 0.7987, 정밀도: 0.7447, 재현율: 0.6481,          F1: 0.6931, AUC:0.8433\n",
      "임곗값: 0.5\n",
      "오차 행렬\n",
      "[[90 10]\n",
      " [21 33]]\n",
      "정확도: 0.7987, 정밀도: 0.7674, 재현율: 0.6111,          F1: 0.6804, AUC:0.8433\n"
     ]
    }
   ],
   "source": [
    "thresholds = [0.3 , 0.33 ,0.36,0.39, 0.42 , 0.45 ,0.48, 0.50]\n",
    "pred_proba = lr_clf.predict_proba(X_test)\n",
    "get_eval_by_threshold(y_test, pred_proba[:,1].reshape(-1,1), thresholds )"
   ]
  },
  {
   "cell_type": "code",
   "execution_count": 37,
   "metadata": {},
   "outputs": [
    {
     "name": "stdout",
     "output_type": "stream",
     "text": [
      "오차 행렬\n",
      "[[88 12]\n",
      " [19 35]]\n",
      "정확도: 0.7987, 정밀도: 0.7447, 재현율: 0.6481,          F1: 0.6931, AUC:0.8433\n"
     ]
    }
   ],
   "source": [
    "# 임곗값를 0.50로 설정한 Binarizer 생성\n",
    "binarizer = Binarizer(threshold=0.48)\n",
    "\n",
    "# 위에서 구한 lr_clf의 predict_proba() 예측 확률 array에서 1에 해당하는 컬럼값을 Binarizer변환. \n",
    "pred_th_048 = binarizer.fit_transform(pred_proba[:, 1].reshape(-1,1)) \n",
    "\n",
    "# roc_auc_score 관련 수정\n",
    "get_clf_eval(y_test , pred_th_048, pred_proba[:, 1])\n",
    "\n",
    "    \n"
   ]
  }
 ],
 "metadata": {
  "kernelspec": {
   "display_name": "Python 3",
   "language": "python",
   "name": "python3"
  },
  "language_info": {
   "codemirror_mode": {
    "name": "ipython",
    "version": 3
   },
   "file_extension": ".py",
   "mimetype": "text/x-python",
   "name": "python",
   "nbconvert_exporter": "python",
   "pygments_lexer": "ipython3",
   "version": "3.8.5"
  }
 },
 "nbformat": 4,
 "nbformat_minor": 4
}
