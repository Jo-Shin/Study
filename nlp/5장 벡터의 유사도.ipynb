{
 "cells": [
  {
   "cell_type": "code",
   "execution_count": 1,
   "id": "fe271608",
   "metadata": {
    "ExecuteTime": {
     "end_time": "2022-01-21T05:45:01.754599Z",
     "start_time": "2022-01-21T05:44:59.578496Z"
    }
   },
   "outputs": [],
   "source": [
    "import numpy as np\n",
    "from sklearn.metrics.pairwise import cosine_similarity"
   ]
  },
  {
   "cell_type": "markdown",
   "id": "89858464",
   "metadata": {},
   "source": [
    "# 5-1. 코사인 유사도"
   ]
  },
  {
   "cell_type": "code",
   "execution_count": 5,
   "id": "585b9194",
   "metadata": {
    "ExecuteTime": {
     "end_time": "2022-01-21T05:34:22.458615Z",
     "start_time": "2022-01-21T05:34:22.450615Z"
    }
   },
   "outputs": [],
   "source": [
    "doc1 = np.array([[0,1,1,1]])\n",
    "doc2 = np.array([[1,0,1,1]])\n",
    "doc3 = np.array([[2,0,2,2]])"
   ]
  },
  {
   "cell_type": "code",
   "execution_count": 14,
   "id": "5501967d",
   "metadata": {
    "ExecuteTime": {
     "end_time": "2022-01-21T05:35:10.125298Z",
     "start_time": "2022-01-21T05:35:10.109096Z"
    }
   },
   "outputs": [
    {
     "data": {
      "text/plain": [
       "(array([[0.66666667]]), array([[0.66666667]]), array([[1.]]))"
      ]
     },
     "execution_count": 14,
     "metadata": {},
     "output_type": "execute_result"
    }
   ],
   "source": [
    "cosine_similarity(doc1, doc2), cosine_similarity(doc1, doc3), cosine_similarity(doc2, doc3)"
   ]
  },
  {
   "cell_type": "markdown",
   "id": "735e048f",
   "metadata": {},
   "source": [
    "# 5-2. 유사도를 이용한 추천 시스템 구현\n",
    "[영화 데이터](https://www.kaggle.com/rounakbanik/the-movies-dataset)"
   ]
  },
  {
   "cell_type": "code",
   "execution_count": 2,
   "id": "d2ebc71a",
   "metadata": {
    "ExecuteTime": {
     "end_time": "2022-01-21T05:45:05.794468Z",
     "start_time": "2022-01-21T05:45:04.834116Z"
    }
   },
   "outputs": [],
   "source": [
    "import pandas as pd\n",
    "from sklearn.feature_extraction.text import TfidfVectorizer\n",
    "from sklearn.metrics.pairwise import cosine_similarity"
   ]
  },
  {
   "cell_type": "code",
   "execution_count": 3,
   "id": "78231972",
   "metadata": {
    "ExecuteTime": {
     "end_time": "2022-01-21T05:45:08.554619Z",
     "start_time": "2022-01-21T05:45:07.365192Z"
    }
   },
   "outputs": [
    {
     "data": {
      "text/html": [
       "<div>\n",
       "<style scoped>\n",
       "    .dataframe tbody tr th:only-of-type {\n",
       "        vertical-align: middle;\n",
       "    }\n",
       "\n",
       "    .dataframe tbody tr th {\n",
       "        vertical-align: top;\n",
       "    }\n",
       "\n",
       "    .dataframe thead th {\n",
       "        text-align: right;\n",
       "    }\n",
       "</style>\n",
       "<table border=\"1\" class=\"dataframe\">\n",
       "  <thead>\n",
       "    <tr style=\"text-align: right;\">\n",
       "      <th></th>\n",
       "      <th>adult</th>\n",
       "      <th>belongs_to_collection</th>\n",
       "      <th>budget</th>\n",
       "      <th>genres</th>\n",
       "      <th>homepage</th>\n",
       "      <th>id</th>\n",
       "      <th>imdb_id</th>\n",
       "      <th>original_language</th>\n",
       "      <th>original_title</th>\n",
       "      <th>overview</th>\n",
       "      <th>...</th>\n",
       "      <th>release_date</th>\n",
       "      <th>revenue</th>\n",
       "      <th>runtime</th>\n",
       "      <th>spoken_languages</th>\n",
       "      <th>status</th>\n",
       "      <th>tagline</th>\n",
       "      <th>title</th>\n",
       "      <th>video</th>\n",
       "      <th>vote_average</th>\n",
       "      <th>vote_count</th>\n",
       "    </tr>\n",
       "  </thead>\n",
       "  <tbody>\n",
       "    <tr>\n",
       "      <th>0</th>\n",
       "      <td>False</td>\n",
       "      <td>{'id': 10194, 'name': 'Toy Story Collection', ...</td>\n",
       "      <td>30000000</td>\n",
       "      <td>[{'id': 16, 'name': 'Animation'}, {'id': 35, '...</td>\n",
       "      <td>http://toystory.disney.com/toy-story</td>\n",
       "      <td>862</td>\n",
       "      <td>tt0114709</td>\n",
       "      <td>en</td>\n",
       "      <td>Toy Story</td>\n",
       "      <td>Led by Woody, Andy's toys live happily in his ...</td>\n",
       "      <td>...</td>\n",
       "      <td>1995-10-30</td>\n",
       "      <td>373554033.0</td>\n",
       "      <td>81.0</td>\n",
       "      <td>[{'iso_639_1': 'en', 'name': 'English'}]</td>\n",
       "      <td>Released</td>\n",
       "      <td>NaN</td>\n",
       "      <td>Toy Story</td>\n",
       "      <td>False</td>\n",
       "      <td>7.7</td>\n",
       "      <td>5415.0</td>\n",
       "    </tr>\n",
       "    <tr>\n",
       "      <th>1</th>\n",
       "      <td>False</td>\n",
       "      <td>NaN</td>\n",
       "      <td>65000000</td>\n",
       "      <td>[{'id': 12, 'name': 'Adventure'}, {'id': 14, '...</td>\n",
       "      <td>NaN</td>\n",
       "      <td>8844</td>\n",
       "      <td>tt0113497</td>\n",
       "      <td>en</td>\n",
       "      <td>Jumanji</td>\n",
       "      <td>When siblings Judy and Peter discover an encha...</td>\n",
       "      <td>...</td>\n",
       "      <td>1995-12-15</td>\n",
       "      <td>262797249.0</td>\n",
       "      <td>104.0</td>\n",
       "      <td>[{'iso_639_1': 'en', 'name': 'English'}, {'iso...</td>\n",
       "      <td>Released</td>\n",
       "      <td>Roll the dice and unleash the excitement!</td>\n",
       "      <td>Jumanji</td>\n",
       "      <td>False</td>\n",
       "      <td>6.9</td>\n",
       "      <td>2413.0</td>\n",
       "    </tr>\n",
       "  </tbody>\n",
       "</table>\n",
       "<p>2 rows × 24 columns</p>\n",
       "</div>"
      ],
      "text/plain": [
       "   adult                              belongs_to_collection    budget  \\\n",
       "0  False  {'id': 10194, 'name': 'Toy Story Collection', ...  30000000   \n",
       "1  False                                                NaN  65000000   \n",
       "\n",
       "                                              genres  \\\n",
       "0  [{'id': 16, 'name': 'Animation'}, {'id': 35, '...   \n",
       "1  [{'id': 12, 'name': 'Adventure'}, {'id': 14, '...   \n",
       "\n",
       "                               homepage    id    imdb_id original_language  \\\n",
       "0  http://toystory.disney.com/toy-story   862  tt0114709                en   \n",
       "1                                   NaN  8844  tt0113497                en   \n",
       "\n",
       "  original_title                                           overview  ...  \\\n",
       "0      Toy Story  Led by Woody, Andy's toys live happily in his ...  ...   \n",
       "1        Jumanji  When siblings Judy and Peter discover an encha...  ...   \n",
       "\n",
       "  release_date      revenue runtime  \\\n",
       "0   1995-10-30  373554033.0    81.0   \n",
       "1   1995-12-15  262797249.0   104.0   \n",
       "\n",
       "                                    spoken_languages    status  \\\n",
       "0           [{'iso_639_1': 'en', 'name': 'English'}]  Released   \n",
       "1  [{'iso_639_1': 'en', 'name': 'English'}, {'iso...  Released   \n",
       "\n",
       "                                     tagline      title  video vote_average  \\\n",
       "0                                        NaN  Toy Story  False          7.7   \n",
       "1  Roll the dice and unleash the excitement!    Jumanji  False          6.9   \n",
       "\n",
       "  vote_count  \n",
       "0     5415.0  \n",
       "1     2413.0  \n",
       "\n",
       "[2 rows x 24 columns]"
      ]
     },
     "execution_count": 3,
     "metadata": {},
     "output_type": "execute_result"
    }
   ],
   "source": [
    "data = pd.read_csv('./data/movies_metadata.csv', low_memory=False)\n",
    "data.head(2)"
   ]
  },
  {
   "cell_type": "code",
   "execution_count": 4,
   "id": "f3a6b07f",
   "metadata": {
    "ExecuteTime": {
     "end_time": "2022-01-21T05:45:10.828781Z",
     "start_time": "2022-01-21T05:45:10.812780Z"
    }
   },
   "outputs": [],
   "source": [
    "data = data.head(20000)"
   ]
  },
  {
   "cell_type": "code",
   "execution_count": 5,
   "id": "4b5d0f36",
   "metadata": {
    "ExecuteTime": {
     "end_time": "2022-01-21T05:45:11.837882Z",
     "start_time": "2022-01-21T05:45:11.813880Z"
    }
   },
   "outputs": [
    {
     "data": {
      "text/plain": [
       "135"
      ]
     },
     "execution_count": 5,
     "metadata": {},
     "output_type": "execute_result"
    }
   ],
   "source": [
    "data.overview.isna().sum() "
   ]
  },
  {
   "cell_type": "code",
   "execution_count": 6,
   "id": "b0d14510",
   "metadata": {
    "ExecuteTime": {
     "end_time": "2022-01-21T05:45:12.516463Z",
     "start_time": "2022-01-21T05:45:12.504440Z"
    }
   },
   "outputs": [],
   "source": [
    "data.overview = data.overview.fillna('')"
   ]
  },
  {
   "cell_type": "code",
   "execution_count": 7,
   "id": "17db86d1",
   "metadata": {
    "ExecuteTime": {
     "end_time": "2022-01-21T05:45:13.180844Z",
     "start_time": "2022-01-21T05:45:13.163296Z"
    }
   },
   "outputs": [
    {
     "data": {
      "text/plain": [
       "0"
      ]
     },
     "execution_count": 7,
     "metadata": {},
     "output_type": "execute_result"
    }
   ],
   "source": [
    "data.overview.isna().sum() "
   ]
  },
  {
   "cell_type": "code",
   "execution_count": 8,
   "id": "27315fe6",
   "metadata": {
    "ExecuteTime": {
     "end_time": "2022-01-21T05:45:17.814060Z",
     "start_time": "2022-01-21T05:45:15.161105Z"
    }
   },
   "outputs": [],
   "source": [
    "v = TfidfVectorizer()\n",
    "tfidf = v.fit_transform(data.overview.tolist()).toarray()"
   ]
  },
  {
   "cell_type": "code",
   "execution_count": 9,
   "id": "26305307",
   "metadata": {
    "ExecuteTime": {
     "end_time": "2022-01-21T05:45:18.701737Z",
     "start_time": "2022-01-21T05:45:18.677734Z"
    }
   },
   "outputs": [
    {
     "data": {
      "text/plain": [
       "((20000, 47788), 47788)"
      ]
     },
     "execution_count": 9,
     "metadata": {},
     "output_type": "execute_result"
    }
   ],
   "source": [
    "tfidf.shape, len(v.vocabulary_)"
   ]
  },
  {
   "cell_type": "code",
   "execution_count": 10,
   "id": "04ff452b",
   "metadata": {
    "ExecuteTime": {
     "end_time": "2022-01-21T05:47:39.405272Z",
     "start_time": "2022-01-21T05:45:23.281839Z"
    }
   },
   "outputs": [],
   "source": [
    "sim = cosine_similarity(tfidf, tfidf)"
   ]
  },
  {
   "cell_type": "code",
   "execution_count": 12,
   "id": "fbeef08b",
   "metadata": {
    "ExecuteTime": {
     "end_time": "2022-01-21T05:48:11.051014Z",
     "start_time": "2022-01-21T05:48:11.035014Z"
    }
   },
   "outputs": [
    {
     "data": {
      "text/plain": [
       "(20000, 20000)"
      ]
     },
     "execution_count": 12,
     "metadata": {},
     "output_type": "execute_result"
    }
   ],
   "source": [
    "sim.shape"
   ]
  },
  {
   "cell_type": "code",
   "execution_count": 24,
   "id": "75c62fa2",
   "metadata": {
    "ExecuteTime": {
     "end_time": "2022-01-21T05:53:38.310015Z",
     "start_time": "2022-01-21T05:53:38.286015Z"
    }
   },
   "outputs": [],
   "source": [
    "title_to_index = dict(zip(data.title, data.index))\n",
    "index_title = dict(zip(data.index, data.title))"
   ]
  },
  {
   "cell_type": "code",
   "execution_count": 22,
   "id": "3c7e5fac",
   "metadata": {
    "ExecuteTime": {
     "end_time": "2022-01-21T05:53:26.568977Z",
     "start_time": "2022-01-21T05:53:26.545209Z"
    }
   },
   "outputs": [],
   "source": [
    "def get_recommendations(title, cosine_sim=sim):\n",
    "    # 선택한 영화의 타이틀로부터 해당 영화의 인덱스를 받아온다.\n",
    "    idx = title_to_index[title]\n",
    "\n",
    "    # 해당 영화와 모든 영화와의 유사도를 가져온다.\n",
    "    sim_scores = list(enumerate(cosine_sim[idx]))\n",
    "\n",
    "    # 유사도에 따라 영화들을 정렬한다.\n",
    "    sim_scores = sorted(sim_scores, key=lambda x: x[1], reverse=True)\n",
    "\n",
    "    # 가장 유사한 10개의 영화를 받아온다.\n",
    "    sim_scores = sim_scores[1:11]\n",
    "\n",
    "    # 가장 유사한 10개의 영화의 인덱스를 얻는다.\n",
    "    movie_indices = [idx[0] for idx in sim_scores]\n",
    "\n",
    "    # 가장 유사한 10개의 영화의 제목을 리턴한다.\n",
    "    return data['title'].iloc[movie_indices]"
   ]
  },
  {
   "cell_type": "code",
   "execution_count": 26,
   "id": "301c096b",
   "metadata": {
    "ExecuteTime": {
     "end_time": "2022-01-21T05:53:46.209523Z",
     "start_time": "2022-01-21T05:53:46.153509Z"
    }
   },
   "outputs": [
    {
     "data": {
      "text/plain": [
       "15348               Toy Story 3\n",
       "2997                Toy Story 2\n",
       "10301    The 40 Year Old Virgin\n",
       "8327                  The Champ\n",
       "1071      Rebel Without a Cause\n",
       "11399    For Your Consideration\n",
       "1932                  Condorman\n",
       "3057            Man on the Moon\n",
       "7254             Africa Screams\n",
       "11606              Factory Girl\n",
       "Name: title, dtype: object"
      ]
     },
     "execution_count": 26,
     "metadata": {},
     "output_type": "execute_result"
    }
   ],
   "source": [
    "get_recommendations('Toy Story')"
   ]
  }
 ],
 "metadata": {
  "kernelspec": {
   "display_name": "Python 3 (ipykernel)",
   "language": "python",
   "name": "python3"
  },
  "language_info": {
   "codemirror_mode": {
    "name": "ipython",
    "version": 3
   },
   "file_extension": ".py",
   "mimetype": "text/x-python",
   "name": "python",
   "nbconvert_exporter": "python",
   "pygments_lexer": "ipython3",
   "version": "3.9.7"
  },
  "toc": {
   "base_numbering": 1,
   "nav_menu": {},
   "number_sections": false,
   "sideBar": true,
   "skip_h1_title": false,
   "title_cell": "Table of Contents",
   "title_sidebar": "Contents",
   "toc_cell": false,
   "toc_position": {},
   "toc_section_display": true,
   "toc_window_display": true
  }
 },
 "nbformat": 4,
 "nbformat_minor": 5
}
