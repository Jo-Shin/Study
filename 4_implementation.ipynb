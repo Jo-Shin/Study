{
 "cells": [
  {
   "cell_type": "code",
   "execution_count": 3,
   "metadata": {
    "scrolled": false
   },
   "outputs": [
    {
     "name": "stdout",
     "output_type": "stream",
     "text": [
      "5\n",
      "R R R U D D\n",
      "3 4\n"
     ]
    }
   ],
   "source": [
    "# 예제 4-1\n",
    "\n",
    "N= int(input())\n",
    "move_lst = list(input().split())\n",
    "\n",
    "row = 1\n",
    "col = 1\n",
    "\n",
    "for move in move_lst:\n",
    "    if move == 'L':\n",
    "        if col-1 <= 0:\n",
    "            continue\n",
    "        else:\n",
    "            col -= 1\n",
    "    elif move == 'R':\n",
    "        if col+1 > N:\n",
    "            continue\n",
    "        else:\n",
    "            col += 1\n",
    "    elif move == 'U':\n",
    "        if row-1 <= 0:\n",
    "            continue\n",
    "        else:\n",
    "            row -= 1\n",
    "    elif move == 'D':\n",
    "        if row+1 > N:\n",
    "            continue\n",
    "        else:\n",
    "            row += 1\n",
    "\n",
    "print(row, col)"
   ]
  },
  {
   "cell_type": "code",
   "execution_count": 4,
   "metadata": {
    "scrolled": true
   },
   "outputs": [
    {
     "name": "stdout",
     "output_type": "stream",
     "text": [
      "5\n",
      "R R R U D D\n",
      "3 4\n"
     ]
    }
   ],
   "source": [
    "# 예제 4-1 다른 풀이\n",
    "\n",
    "n = int(input())\n",
    "r, c = 1, 1\n",
    "plans = input().split()\n",
    "\n",
    "dr = [0,0,-1,1]\n",
    "dc = [-1,1,0,0]\n",
    "move_types = ['L','R','U','D']\n",
    "\n",
    "for plan in plans:\n",
    "    for i in range(len(move_types)):\n",
    "        if plan == move_types[i]:\n",
    "            nr = r + dr[i]\n",
    "            nc = c + dc[i]\n",
    "    if nr < 1 or nr > n or nc < 1 or nc > n:\n",
    "        continue\n",
    "    r, c = nr, nc\n",
    "\n",
    "print(r,c)"
   ]
  },
  {
   "cell_type": "code",
   "execution_count": 3,
   "metadata": {},
   "outputs": [
    {
     "data": {
      "text/plain": [
       "4"
      ]
     },
     "execution_count": 3,
     "metadata": {},
     "output_type": "execute_result"
    }
   ],
   "source": [
    "len(move_types)"
   ]
  },
  {
   "cell_type": "code",
   "execution_count": 5,
   "metadata": {
    "scrolled": true
   },
   "outputs": [
    {
     "name": "stdout",
     "output_type": "stream",
     "text": [
      "0\n",
      "1575\n"
     ]
    }
   ],
   "source": [
    "# 예제 4-2\n",
    "\n",
    "N = int(input())\n",
    "\n",
    "count = 0\n",
    "\n",
    "for hour in range(N+1):\n",
    "    for minute in range(60):\n",
    "        for second in range(60):\n",
    "            if '3' in str(hour)+str(minute)+str(second):\n",
    "                count += 1\n",
    "print(count)"
   ]
  },
  {
   "cell_type": "code",
   "execution_count": 11,
   "metadata": {
    "scrolled": true
   },
   "outputs": [
    {
     "name": "stdout",
     "output_type": "stream",
     "text": [
      "a4\n",
      "4\n"
     ]
    }
   ],
   "source": [
    "# 2. 왕실의 나이트\n",
    "\n",
    "p = input()\n",
    "r, c = int(p[1]), p[0]\n",
    "\n",
    "c_lst = list('abcdefgh')\n",
    "c = c_lst.index(c)+1\n",
    "\n",
    "move_types = ['RRU','RRD','LLU','LLD','UUR','UUL','DDR','DDL']\n",
    "dr = [-1,1,-1,1,-2,-2,2,2]\n",
    "dc = [2,2,-2,-2,1,-1,1,-1]\n",
    "\n",
    "count = 8\n",
    "\n",
    "for i in range(len(move_types)):\n",
    "    nr = r + dr[i]\n",
    "    nc = c + dc[i]\n",
    "    if nr < 1 or nc < 1 or nr > 8 or nc > 8 :\n",
    "        count -= 1\n",
    "\n",
    "print(count)"
   ]
  },
  {
   "cell_type": "code",
   "execution_count": 15,
   "metadata": {
    "scrolled": true
   },
   "outputs": [
    {
     "name": "stdout",
     "output_type": "stream",
     "text": [
      "a1\n",
      "2\n"
     ]
    }
   ],
   "source": [
    "# 왕실의 나이트 모범 답안\n",
    "\n",
    "p = input()\n",
    "r = int(p[1])\n",
    "c = ord(p[0])-ord('a')+1\n",
    "\n",
    "steps = [(-1,2),(1,2),(-1,-2),(1,-2),(-2,1),(-2,-1),(2,1),(2,-1)]\n",
    "\n",
    "result = 0\n",
    "\n",
    "for step in steps:\n",
    "    nr = r + step[0]\n",
    "    nc = c + step[1]\n",
    "    if nr >= 1 and nr <= 8 and nc >=1 and nc <= 8:\n",
    "        result += 1\n",
    "\n",
    "print(result)"
   ]
  },
  {
   "cell_type": "code",
   "execution_count": 7,
   "metadata": {
    "scrolled": true
   },
   "outputs": [
    {
     "name": "stdout",
     "output_type": "stream",
     "text": [
      "4 4\n",
      "1 1 0\n",
      "1 1 1 1\n",
      "1 0 0 1\n",
      "1 1 0 1\n",
      "1 1 1 1\n",
      "3\n"
     ]
    }
   ],
   "source": [
    "# 3. 게임 개발 #못품\n",
    "\n",
    "N, M = map(int, input().split())\n",
    "r, c, d = map(int, input().split())\n",
    "\n",
    "\n",
    "# map\n",
    "array = []\n",
    "for i in range(N):\n",
    "    array.append(list(map(int, input().split())))\n",
    "    \n",
    "# 방문한 곳 저장\n",
    "\n",
    "gone = [[0]*M for i in range(N)]\n",
    "\n",
    "\n",
    "# 처음 시작 장소 방문한 곳으로 조정\n",
    "gone[r][c]=1\n",
    "\n",
    "\n",
    "# 방향에 따른 좌표의 움직임\n",
    "dr = [-1,0,1,0]\n",
    "dc = [0,1,0,-1]\n",
    "\n",
    "\n",
    "\n",
    "def turn_left():\n",
    "    global d\n",
    "    d -=1\n",
    "    if d == -1:\n",
    "        d=3\n",
    "\n",
    "turn_time = 0\n",
    "count = 1 \n",
    "\n",
    "while True:\n",
    "    turn_left()\n",
    "    \n",
    "    nr = r + dr[d]\n",
    "    nc = c + dc[d]\n",
    "    \n",
    "    if array[nr][nc] == 0 and gone[nr][nc] == 0:\n",
    "        gone[nr][nc] = 1\n",
    "        r = nr\n",
    "        c = nc\n",
    "        count += 1\n",
    "        turn_time = 0\n",
    "        continue\n",
    "        \n",
    "    elif turn_time < 4:\n",
    "        turn_time += 1\n",
    "    \n",
    "    if turn_time == 4:\n",
    "        nr = r - dr[d]\n",
    "        nc = c - dc[d]\n",
    "        if array[nr][nc] == 1:\n",
    "            break\n",
    "        else:\n",
    "            r = nr\n",
    "            c = nc\n",
    "        turn_time = 0\n",
    "        \n",
    "print(count)"
   ]
  },
  {
   "cell_type": "markdown",
   "metadata": {},
   "source": [
    "- 입력\n",
    "\n",
    "첫째 줄에 카드의 개수 N(3 ≤ N ≤ 100)과 M(10 ≤ M ≤ 300,000)이 주어진다. \n",
    "둘째 줄에는 카드에 쓰여 있는 수가 주어지며, 이 값은 100,000을 넘지 않는 양의 정수이다.\n",
    "합이 M을 넘지 않는 카드 3장을 찾을 수 있는 경우만 입력으로 주어진다.\n",
    "\n",
    "- 출력\n",
    "\n",
    "첫째 줄에 M을 넘지 않으면서 M에 최대한 가까운 카드 3장의 합을 출력한다."
   ]
  },
  {
   "cell_type": "code",
   "execution_count": 43,
   "metadata": {},
   "outputs": [
    {
     "name": "stdout",
     "output_type": "stream",
     "text": [
      "10 500\n",
      "93 181 245 214 315 36 185 138 216 295\n",
      "497\n"
     ]
    }
   ],
   "source": [
    "# 2798\n",
    "\n",
    "N, M = map(int, input().split()) # N은 카드의 개수, M은 기준값\n",
    "cards  = list(map(int, input().split())) # 카드 전체\n",
    "\n",
    "# M의 최댓값이 300000이므로, 카드의 숫자의 합과 M의 차이는 300000보다 클 수 없을 것. \n",
    "# diff는 M-(카드 숫자의 합)\n",
    "\n",
    "diff = 300000\n",
    "\n",
    "for i, card_1 in enumerate(cards):\n",
    "    for j, card_2 in enumerate(cards):\n",
    "        \n",
    "        if i == j: # 카드 중복\n",
    "            continue\n",
    "            \n",
    "        for k, card_3 in enumerate(cards):\n",
    "            \n",
    "            if k == i or k == j or i == j: # 카드 중복\n",
    "                continue\n",
    "                \n",
    "            total = card_1 + card_2 + card_3\n",
    "            \n",
    "            if total <= M:\n",
    "                if M-total < diff:\n",
    "                    diff = M-total\n",
    "                    result = total\n",
    "                \n",
    "print(result)"
   ]
  },
  {
   "cell_type": "code",
   "execution_count": 40,
   "metadata": {},
   "outputs": [
    {
     "name": "stdout",
     "output_type": "stream",
     "text": [
      "0 1\n",
      "1 1\n",
      "2 1\n",
      "3 1\n",
      "4 1\n"
     ]
    }
   ],
   "source": [
    "lst=[1,1,1,1,1]\n",
    "\n",
    "for a,b in enumerate(lst):\n",
    "    print(a,b)"
   ]
  }
 ],
 "metadata": {
  "kernelspec": {
   "display_name": "Python 3",
   "language": "python",
   "name": "python3"
  },
  "language_info": {
   "codemirror_mode": {
    "name": "ipython",
    "version": 3
   },
   "file_extension": ".py",
   "mimetype": "text/x-python",
   "name": "python",
   "nbconvert_exporter": "python",
   "pygments_lexer": "ipython3",
   "version": "3.8.5"
  }
 },
 "nbformat": 4,
 "nbformat_minor": 4
}
