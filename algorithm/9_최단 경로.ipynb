{
 "cells": [
  {
   "cell_type": "markdown",
   "metadata": {},
   "source": [
    "## 다익스트라 알고리즘\n",
    "### 소스 코드"
   ]
  },
  {
   "cell_type": "code",
   "execution_count": 13,
   "metadata": {},
   "outputs": [
    {
     "name": "stdout",
     "output_type": "stream",
     "text": [
      "6 11\n",
      "1 \n",
      "1 2 2 \n",
      "1 3 5\n",
      "1 4 1\n",
      "2 3 3\n",
      "2 4 2\n",
      "3 2 3\n",
      "3 6 5\n",
      "4 3 3\n",
      "4 5 1\n",
      "5 3 1\n",
      "5 6 2\n",
      "0\n",
      "2\n",
      "3\n",
      "1\n",
      "2\n",
      "4\n"
     ]
    }
   ],
   "source": [
    "import heapq\n",
    "import sys\n",
    "\n",
    "inf = int(1e9)\n",
    "\n",
    "# node & edge\n",
    "node, edge = map(int, input().split())\n",
    "\n",
    "# start node\n",
    "start = int(input())\n",
    "\n",
    "# create graph\n",
    "graph = [[] for _ in range(node+1)]\n",
    "\n",
    "# shortest path\n",
    "distance = [inf]* (node+1)\n",
    "\n",
    "# graph[node]=[ (인접노드, 거리), (인접노드, 거리), ...]\n",
    "for _ in range(edge):\n",
    "    from_node, to_node, cost = map(int, input().split())\n",
    "    graph[from_node].append((to_node, cost))\n",
    "\n",
    "def dijkstra(start):\n",
    "    q = []\n",
    "    heapq.heappush(q,(0,start)) # (거리, 노드)\n",
    "    distance[start]=0\n",
    "    \n",
    "    while q:\n",
    "        dist, now = heapq.heappop(q)\n",
    "        # 이미 처리한 노드는 건너뛰기\n",
    "        # 이해가 어렵다면, 최단거리에 입력된 거리보다 현재 큐에서 나온 거리가 더 크다면 탐색이 무의미하므로 건너뛰기\n",
    "        if distance[now] < dist:\n",
    "            continue\n",
    "            \n",
    "        for i in graph[now]:\n",
    "            \n",
    "            node = i[0]\n",
    "            near_dist = i[1]\n",
    "            \n",
    "            can_be_shortest = near_dist + dist\n",
    "            if can_be_shortest < distance[node]:\n",
    "                distance[node]=can_be_shortest\n",
    "                heapq.heappush(q,(can_be_shortest,node))\n",
    "                \n",
    "dijkstra(start)\n",
    "\n",
    "for i in range(1, node+1):\n",
    "    if distance[i]==inf:\n",
    "        print('INFINITY')\n",
    "    else:\n",
    "        print(distance[i])"
   ]
  },
  {
   "cell_type": "markdown",
   "metadata": {},
   "source": [
    "### [백준_1753](https://www.acmicpc.net/problem/1753)\n",
    "- 위 소스코드와 동일"
   ]
  },
  {
   "cell_type": "code",
   "execution_count": 25,
   "metadata": {},
   "outputs": [
    {
     "name": "stdout",
     "output_type": "stream",
     "text": [
      "5 6\n",
      "1\n",
      "5 1 1\n",
      "1 2 2\n",
      "1 3 3\n",
      "2 3 4\n",
      "2 4 5\n",
      "3 4 6\n",
      "0\n",
      "2\n",
      "3\n",
      "7\n",
      "INF\n"
     ]
    }
   ],
   "source": [
    "import sys\n",
    "input = sys.stdin.readline\n",
    "import heapq\n",
    "\n",
    "inf = int(1e9)\n",
    "\n",
    "node, edge = map(int, input().split())\n",
    "start = int(input())\n",
    "\n",
    "graph = [[] for _ in range(node+1)]\n",
    "distance = [inf]*(node+1)\n",
    "\n",
    "for _ in range(edge):\n",
    "    from_, to, cost = map(int, input().split())\n",
    "    graph[from_].append((to, cost))\n",
    "    \n",
    "def path(start):\n",
    "    q = []\n",
    "    heapq.heappush(q, (0, start))\n",
    "    distance[start]=0\n",
    "    \n",
    "    while q:\n",
    "        now_cost, now_node = heapq.heappop(q)\n",
    "        \n",
    "        if distance[now_node] < now_cost:\n",
    "            continue\n",
    "        \n",
    "        for adj_node, adj_cost in graph[now_node]:\n",
    "            cost = adj_cost + now_cost\n",
    "            if cost < distance[adj_node]:\n",
    "                distance[adj_node] = cost\n",
    "                heapq.heappush(q, (cost, adj_node))\n",
    "                \n",
    "path(start)\n",
    "                \n",
    "for node in range(1,node+1):\n",
    "    if distance[node]==inf:\n",
    "        print('INF')\n",
    "    else:\n",
    "        print(distance[node])        "
   ]
  },
  {
   "cell_type": "markdown",
   "metadata": {},
   "source": [
    "## 플로이드 워셜 알고리즘\n",
    "### 소스 코드"
   ]
  },
  {
   "cell_type": "code",
   "execution_count": 16,
   "metadata": {},
   "outputs": [
    {
     "name": "stdout",
     "output_type": "stream",
     "text": [
      "4 7\n",
      "1 2 4\n",
      "1 4 6\n",
      "2 1 3\n",
      "2 3 7\n",
      "3 1 5\n",
      "3 4 4\n",
      "4 3 2\n",
      "0 4 8 6 \n",
      "3 0 7 9 \n",
      "5 9 0 4 \n",
      "7 11 2 0 \n"
     ]
    }
   ],
   "source": [
    "inf = int(1e9)\n",
    "\n",
    "# 노드와 간선 입력\n",
    "node, edge = map(int, input().split())\n",
    "\n",
    "# 이차원 그래프 생성\n",
    "graph = [[inf]*(node+1) for _ in range(node+1)]\n",
    "\n",
    "# 자기 자신은 0(대각 원소는 0)\n",
    "for i in range(node+1):\n",
    "    graph[i][i]=0\n",
    "    \n",
    "# 간선에 대한 정보를 입력\n",
    "for _ in range(edge):\n",
    "    from_, to_, cost = map(int, input().split())\n",
    "    graph[from_][to_] = cost\n",
    "    \n",
    "# 플로이드 워셜 수행\n",
    "for now in range(1,node+1):\n",
    "    for start in range(1, node+1):\n",
    "        for end in range(1, node+1):\n",
    "            graph[start][end]=min(graph[start][end], graph[start][now]+graph[now][end])\n",
    "\n",
    "# 수행 결과 출력\n",
    "for start in range(1, node+1):\n",
    "    for end in range(1, node+1):\n",
    "        if graph[start][end]==inf:\n",
    "            print('INFINITY', end=' ')\n",
    "        else:\n",
    "            print(graph[start][end],end=' ')\n",
    "    print()"
   ]
  },
  {
   "cell_type": "markdown",
   "metadata": {},
   "source": [
    "### [백준_11404](https://www.acmicpc.net/problem/11404)"
   ]
  },
  {
   "cell_type": "code",
   "execution_count": 1,
   "metadata": {},
   "outputs": [
    {
     "name": "stdout",
     "output_type": "stream",
     "text": [
      "5\n",
      "14\n",
      "1 2 2\n",
      "1 3 3\n",
      "1 4 1\n",
      "1 5 10\n",
      "2 4 2\n",
      "3 4 1\n",
      "3 5 1\n",
      "4 5 3\n",
      "3 5 10\n",
      "3 1 8\n",
      "1 4 2\n",
      "5 1 7\n",
      "3 4 2\n",
      "5 2 4\n",
      "0 2 3 1 4 \n",
      "12 0 15 2 5 \n",
      "8 5 0 1 1 \n",
      "10 7 13 0 3 \n",
      "7 4 10 6 0 \n"
     ]
    }
   ],
   "source": [
    "# import sys\n",
    "# input = sys.stdin.readline\n",
    "\n",
    "inf=int(1e9)\n",
    "\n",
    "node= int(input())\n",
    "edge = int(input())\n",
    "graph = [[inf]*(node+1) for _ in range(node+1)]\n",
    "\n",
    "# 위 소스코드와 이 부분만 다름\n",
    "for _ in range(edge):\n",
    "    from_, to, cost = map(int, input().split())\n",
    "    if graph[from_][to]==inf:\n",
    "        graph[from_][to]=cost\n",
    "    else:\n",
    "        graph[from_][to]=min(graph[from_][to], cost)\n",
    "\n",
    "for i in range(1, node+1):\n",
    "    graph[i][i]=0\n",
    "        \n",
    "for now in range(node+1):\n",
    "    for start in range(node+1):\n",
    "        for end in range(node+1):\n",
    "            graph[start][end]=min(graph[start][end],\n",
    "                                 graph[start][now]+graph[now][end])\n",
    "\n",
    "for i in range(1,node+1):\n",
    "    for j in range(1, node+1):\n",
    "        if graph[i][j]==inf:\n",
    "            print(0, end=' ')\n",
    "        else:\n",
    "            print(graph[i][j],end=' ')\n",
    "    print()"
   ]
  }
 ],
 "metadata": {
  "kernelspec": {
   "display_name": "Python 3",
   "language": "python",
   "name": "python3"
  },
  "language_info": {
   "codemirror_mode": {
    "name": "ipython",
    "version": 3
   },
   "file_extension": ".py",
   "mimetype": "text/x-python",
   "name": "python",
   "nbconvert_exporter": "python",
   "pygments_lexer": "ipython3",
   "version": "3.8.5"
  },
  "toc": {
   "base_numbering": 1,
   "nav_menu": {},
   "number_sections": true,
   "sideBar": true,
   "skip_h1_title": false,
   "title_cell": "Table of Contents",
   "title_sidebar": "Contents",
   "toc_cell": false,
   "toc_position": {},
   "toc_section_display": true,
   "toc_window_display": false
  }
 },
 "nbformat": 4,
 "nbformat_minor": 4
}
