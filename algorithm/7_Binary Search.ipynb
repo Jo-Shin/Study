{
 "cells": [
  {
   "cell_type": "markdown",
   "metadata": {},
   "source": [
    "### 이진 탐색 알고리즘"
   ]
  },
  {
   "cell_type": "markdown",
   "metadata": {},
   "source": [
    "- 재귀 함수"
   ]
  },
  {
   "cell_type": "code",
   "execution_count": 4,
   "metadata": {
    "scrolled": true
   },
   "outputs": [
    {
     "name": "stdout",
     "output_type": "stream",
     "text": [
      "7\n",
      "1 5 3 7 9 11 13 15 17 19\n",
      "4\n"
     ]
    }
   ],
   "source": [
    "def binary_search(start,end,array,target):\n",
    "    if start > end:\n",
    "        return None\n",
    "    \n",
    "    mid = (start+end)//2\n",
    "    \n",
    "    if array[mid] == target:\n",
    "        return mid+1\n",
    "    elif array[mid] < target :\n",
    "        return binary_search(mid+1,end,array,target)\n",
    "    else:\n",
    "        return binary_search(start,mid-1,array,target)\n",
    "    \n",
    "target = int(input())\n",
    "array = sorted(list(map(int, input().split())))\n",
    "\n",
    "print(binary_search(0,len(array)-1,array,target))"
   ]
  },
  {
   "cell_type": "markdown",
   "metadata": {},
   "source": [
    "- while문"
   ]
  },
  {
   "cell_type": "code",
   "execution_count": 5,
   "metadata": {},
   "outputs": [
    {
     "name": "stdout",
     "output_type": "stream",
     "text": [
      "7\n",
      "1 5 3 7 9 11 13 15 17 19\n",
      "4\n"
     ]
    }
   ],
   "source": [
    "def binary_search(start,end,array,target):\n",
    "    \n",
    "    while start <= end:\n",
    "        mid = (start+end)//2\n",
    "        \n",
    "        if array[mid]==target:\n",
    "            return mid+1\n",
    "        elif array[mid] < target:\n",
    "            start = mid+1\n",
    "        else:\n",
    "            end = mid-1\n",
    "            \n",
    "    return None\n",
    "\n",
    "target = int(input())\n",
    "array = sorted(list(map(int, input().split())))\n",
    "\n",
    "print(binary_search(0,len(array)-1,array,target))"
   ]
  },
  {
   "cell_type": "markdown",
   "metadata": {},
   "source": [
    "### 부품 찾기 (이코테_P.197)"
   ]
  },
  {
   "cell_type": "markdown",
   "metadata": {},
   "source": [
    "- 이진 탐색"
   ]
  },
  {
   "cell_type": "code",
   "execution_count": 6,
   "metadata": {
    "scrolled": true
   },
   "outputs": [
    {
     "name": "stdout",
     "output_type": "stream",
     "text": [
      "5\n",
      "8 3 7 9 2\n",
      "3\n",
      "5 7 9\n",
      "no yes yes "
     ]
    }
   ],
   "source": [
    "def binary(start, end, array, target):\n",
    "    \n",
    "    while start <= end:\n",
    "        mid = (start+end)//2\n",
    "        \n",
    "        if array[mid]==target:\n",
    "            return 'yes'\n",
    "        elif array[mid] < target:\n",
    "            start = mid + 1\n",
    "        else:\n",
    "            end = mid - 1\n",
    "            \n",
    "    return 'no'\n",
    "    \n",
    "\n",
    "N = int(input())\n",
    "array = sorted(list(map(int, input().split())))\n",
    "M = int(input())\n",
    "targets = list(map(int, input().split()))\n",
    "\n",
    "for target in targets:\n",
    "    print(binary(0,N-1,array,target),end=' ')"
   ]
  },
  {
   "cell_type": "markdown",
   "metadata": {},
   "source": [
    "- 계수 정렬"
   ]
  },
  {
   "cell_type": "code",
   "execution_count": 7,
   "metadata": {},
   "outputs": [
    {
     "name": "stdout",
     "output_type": "stream",
     "text": [
      "5\n",
      "8 3 7 9 2\n",
      "3\n",
      "5 7 9\n",
      "no yes yes "
     ]
    }
   ],
   "source": [
    "N = int(input())\n",
    "\n",
    "array = [0]*1000001\n",
    "\n",
    "for i in input().split():\n",
    "    array[int(i)]=1\n",
    "\n",
    "M = int(input())\n",
    "targets = list(map(int, input().split()))\n",
    "\n",
    "for target in targets:\n",
    "    if array[target]==1:\n",
    "        print('yes', end=' ')\n",
    "    else:\n",
    "        print('no', end=' ')"
   ]
  },
  {
   "cell_type": "markdown",
   "metadata": {},
   "source": [
    "- 집합 자료형 사용"
   ]
  },
  {
   "cell_type": "code",
   "execution_count": 8,
   "metadata": {},
   "outputs": [
    {
     "name": "stdout",
     "output_type": "stream",
     "text": [
      "5\n",
      "8 3 7 9 2\n",
      "3\n",
      "5 7 9\n",
      "no yes yes "
     ]
    }
   ],
   "source": [
    "N = int(input())\n",
    "array = set(map(int, input().split()))\n",
    "M = int(input())\n",
    "targets = list(map(int, input().split()))\n",
    "\n",
    "for target in targets:\n",
    "    if target in array:\n",
    "        print('yes', end =' ')\n",
    "    else:\n",
    "        print('no', end = ' ')"
   ]
  },
  {
   "cell_type": "markdown",
   "metadata": {},
   "source": [
    "### 떡볶이 떡 만들기(이코테_P.201)"
   ]
  },
  {
   "cell_type": "markdown",
   "metadata": {},
   "source": [
    "- 내 풀이 (오답)"
   ]
  },
  {
   "cell_type": "code",
   "execution_count": 13,
   "metadata": {
    "scrolled": false
   },
   "outputs": [
    {
     "name": "stdout",
     "output_type": "stream",
     "text": [
      "4 11\n",
      "20 20 20 20\n",
      "17\n"
     ]
    }
   ],
   "source": [
    "N, M = map(int, input().split())\n",
    "dducks = list(map(int,input().split()))\n",
    "\n",
    "def cut(start, end, dducks, order):\n",
    "    \n",
    "    while start <= end:\n",
    "        result = 0\n",
    "        mid = (start+end)//2\n",
    "        \n",
    "        for dduck in dducks:\n",
    "            if dduck > mid:\n",
    "                result+=dduck-mid\n",
    "                \n",
    "        if result == order:\n",
    "            return mid\n",
    "        elif result < order:\n",
    "            end = mid-1\n",
    "        else:\n",
    "            start = mid+1\n",
    "            \n",
    "    return mid\n",
    "\n",
    "print(cut(0,max(dducks),dducks,M))"
   ]
  },
  {
   "cell_type": "markdown",
   "metadata": {},
   "source": [
    "- 모범 답안"
   ]
  },
  {
   "cell_type": "code",
   "execution_count": 14,
   "metadata": {
    "scrolled": true
   },
   "outputs": [
    {
     "name": "stdout",
     "output_type": "stream",
     "text": [
      "4 6\n",
      "19 15 10 17\n",
      "15\n"
     ]
    }
   ],
   "source": [
    "N, M = map(int, input().split())\n",
    "dducks = list(map(int,input().split()))\n",
    "\n",
    "def cut(start, end, dducks, order):\n",
    "    answer = 0\n",
    "    while start <= end:\n",
    "        result = 0\n",
    "        mid = (start+end)//2\n",
    "        \n",
    "        for dduck in dducks:\n",
    "            if dduck > mid:\n",
    "                result+=dduck-mid\n",
    "                \n",
    "        if result < order:\n",
    "            end = mid-1\n",
    "        else:\n",
    "            answer = mid\n",
    "            start = mid+1\n",
    "            \n",
    "    return answer\n",
    "\n",
    "print(cut(0,max(dducks),dducks,M))"
   ]
  },
  {
   "cell_type": "markdown",
   "metadata": {},
   "source": [
    "### 백준_1920 수 찾기"
   ]
  },
  {
   "cell_type": "markdown",
   "metadata": {},
   "source": [
    "- 집합 자료형"
   ]
  },
  {
   "cell_type": "code",
   "execution_count": 15,
   "metadata": {
    "scrolled": true
   },
   "outputs": [
    {
     "name": "stdout",
     "output_type": "stream",
     "text": [
      "5\n",
      "4 1 5 2 3\n",
      "5\n",
      "1 3 7 9 5\n",
      "1\n",
      "1\n",
      "0\n",
      "0\n",
      "1\n"
     ]
    }
   ],
   "source": [
    "import sys\n",
    "\n",
    "N = int(sys.stdin.readline().rstrip())\n",
    "array = set(map(int, sys.stdin.readline().rstrip().split()))\n",
    "M = int(sys.stdin.readline().rstrip())\n",
    "targets = list(map(int, sys.stdin.readline().rstrip().split()))\n",
    "\n",
    "for target in targets:\n",
    "    if target in array:\n",
    "        print(1)\n",
    "    else:\n",
    "        print(0)"
   ]
  },
  {
   "cell_type": "markdown",
   "metadata": {},
   "source": [
    "- 이진 탐색"
   ]
  },
  {
   "cell_type": "code",
   "execution_count": null,
   "metadata": {},
   "outputs": [],
   "source": [
    "import sys\n",
    "\n",
    "N = int(sys.stdin.readline().rstrip())\n",
    "array = sorted(list(map(int, sys.stdin.readline().rstrip().split())))\n",
    "M = int(sys.stdin.readline().rstrip())\n",
    "targets = list(map(int, sys.stdin.readline().rstrip().split()))\n",
    "\n",
    "def binary(start, end, array, target):\n",
    "    while start<=end:\n",
    "        mid = (start+end)//2\n",
    "        if array[mid]==target:\n",
    "            return 1\n",
    "        elif array[mid]>target:\n",
    "            end = mid-1\n",
    "        else:\n",
    "            start = mid+1\n",
    "    return 0\n",
    "\n",
    "for target in targets:\n",
    "    print(binary(0,len(array)-1,array,target))"
   ]
  },
  {
   "cell_type": "markdown",
   "metadata": {},
   "source": [
    "### 백준_1654 랜선 자르기"
   ]
  },
  {
   "cell_type": "code",
   "execution_count": 22,
   "metadata": {
    "scrolled": false
   },
   "outputs": [
    {
     "name": "stdout",
     "output_type": "stream",
     "text": [
      "1 1000000\n",
      "2147483647\n",
      "2147\n"
     ]
    }
   ],
   "source": [
    "def cut(start, end, lines, need):\n",
    "    answer = 0\n",
    "    while start <= end:\n",
    "        mid = (start+end)//2\n",
    "        result = 0\n",
    "        \n",
    "        if mid == 0:\n",
    "            mid = 1\n",
    "        \n",
    "        for line in lines:\n",
    "            result += line // mid\n",
    "        \n",
    "        if result < need:\n",
    "            end = mid - 1\n",
    "        else:\n",
    "            answer = mid\n",
    "            start = mid + 1\n",
    "            \n",
    "    return answer\n",
    "\n",
    "K, N = map(int, input().split())\n",
    "lines = [int(input()) for _ in range(K)]\n",
    "print(cut(0, max(lines), lines, N))"
   ]
  },
  {
   "cell_type": "markdown",
   "metadata": {},
   "source": [
    "### 백준_2805 나무자르기"
   ]
  },
  {
   "cell_type": "code",
   "execution_count": 23,
   "metadata": {
    "scrolled": true
   },
   "outputs": [
    {
     "name": "stdout",
     "output_type": "stream",
     "text": [
      "4 7\n",
      "20 15 10 17\n",
      "15\n"
     ]
    }
   ],
   "source": [
    "N, M = map(int, input().split())\n",
    "trees = list(map(int,input().split()))\n",
    "\n",
    "def cut(start, end, trees, need):\n",
    "    \n",
    "    while start <= end:\n",
    "        result = 0\n",
    "        mid = (start+end)//2\n",
    "        \n",
    "        for tree in trees:\n",
    "            if tree > mid:\n",
    "                result+=tree-mid\n",
    "                \n",
    "        if result < need:\n",
    "            end = mid-1\n",
    "        else:\n",
    "            answer=mid\n",
    "            start = mid+1\n",
    "            \n",
    "    return answer\n",
    "\n",
    "print(cut(0,max(trees),trees,M))"
   ]
  }
 ],
 "metadata": {
  "kernelspec": {
   "display_name": "Python 3",
   "language": "python",
   "name": "python3"
  },
  "language_info": {
   "codemirror_mode": {
    "name": "ipython",
    "version": 3
   },
   "file_extension": ".py",
   "mimetype": "text/x-python",
   "name": "python",
   "nbconvert_exporter": "python",
   "pygments_lexer": "ipython3",
   "version": "3.8.5"
  }
 },
 "nbformat": 4,
 "nbformat_minor": 4
}
