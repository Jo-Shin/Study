{
 "cells": [
  {
   "cell_type": "markdown",
   "metadata": {},
   "source": [
    "### 다이나믹 프로그래밍_피보나치 수열"
   ]
  },
  {
   "cell_type": "markdown",
   "metadata": {},
   "source": [
    "- 탑다운"
   ]
  },
  {
   "cell_type": "code",
   "execution_count": 6,
   "metadata": {},
   "outputs": [
    {
     "data": {
      "text/plain": [
       "218922995834555169026"
      ]
     },
     "execution_count": 6,
     "metadata": {},
     "output_type": "execute_result"
    }
   ],
   "source": [
    "d = [0]*100\n",
    "\n",
    "def fibo(x):\n",
    "    if x == 1 or x==2:\n",
    "        return 1\n",
    "    if d[x]!=0:\n",
    "        return d[x]\n",
    "    d[x]=fibo(x-1)+fibo(x-2)\n",
    "    return d[x]\n",
    "\n",
    "fibo(99)"
   ]
  },
  {
   "cell_type": "markdown",
   "metadata": {},
   "source": [
    "- 보텀업"
   ]
  },
  {
   "cell_type": "code",
   "execution_count": 7,
   "metadata": {},
   "outputs": [
    {
     "name": "stdout",
     "output_type": "stream",
     "text": [
      "218922995834555169026\n"
     ]
    }
   ],
   "source": [
    "d = [0]*100\n",
    "\n",
    "d[1]=1\n",
    "d[2]=1\n",
    "\n",
    "for i in range(3,100):\n",
    "    d[i]=d[i-1]+d[i-2]\n",
    "    \n",
    "print(d[99])"
   ]
  },
  {
   "cell_type": "markdown",
   "metadata": {},
   "source": [
    "### 1로 만들기 (이코테_P.217)"
   ]
  },
  {
   "cell_type": "markdown",
   "metadata": {},
   "source": [
    "- 내 답안"
   ]
  },
  {
   "cell_type": "code",
   "execution_count": 16,
   "metadata": {},
   "outputs": [
    {
     "name": "stdout",
     "output_type": "stream",
     "text": [
      "26\n",
      "3\n"
     ]
    }
   ],
   "source": [
    "target = int(input())\n",
    "\n",
    "i = 1\n",
    "result = 0\n",
    "\n",
    "def func(num, target, method):\n",
    "    global result\n",
    "    global i\n",
    "    \n",
    "    if method == 'mult':\n",
    "        while i * num <= target:\n",
    "            i *= num\n",
    "            result += 1\n",
    "    elif method == 'plus':\n",
    "        while i + num <= target:\n",
    "            i += num\n",
    "            result += 1\n",
    "        \n",
    "\n",
    "func(5,target, 'mult')\n",
    "func(3,target, 'mult')\n",
    "func(2,target, 'mult')\n",
    "func(1,target, 'plus')\n",
    "    \n",
    "print(result)"
   ]
  },
  {
   "cell_type": "markdown",
   "metadata": {},
   "source": [
    "- 모범 답안"
   ]
  },
  {
   "cell_type": "code",
   "execution_count": 18,
   "metadata": {},
   "outputs": [
    {
     "name": "stdout",
     "output_type": "stream",
     "text": [
      "26\n",
      "3\n"
     ]
    }
   ],
   "source": [
    "x = int(input())\n",
    "\n",
    "d = [0]* 30001\n",
    "\n",
    "for i in range(2, x+1):\n",
    "    d[i] = d[i-1]+1\n",
    "    \n",
    "    if i % 2 == 0:\n",
    "        d[i] = min(d[i], d[i//2]+1)\n",
    "    if i % 3 == 0:\n",
    "        d[i] = min(d[i], d[i//3]+1)\n",
    "    if i % 5 == 0:\n",
    "        d[i] = min(d[i], d[i//5]+1)\n",
    "        \n",
    "print(d[x])"
   ]
  },
  {
   "cell_type": "markdown",
   "metadata": {},
   "source": [
    "### 개미전사 (이코테_P.220)"
   ]
  },
  {
   "cell_type": "markdown",
   "metadata": {},
   "source": [
    "- 모범답안"
   ]
  },
  {
   "cell_type": "code",
   "execution_count": 21,
   "metadata": {},
   "outputs": [
    {
     "name": "stdout",
     "output_type": "stream",
     "text": [
      "4\n",
      "1 3 1 5\n",
      "8\n"
     ]
    }
   ],
   "source": [
    "len_ware = int(input()) \n",
    "ware = list(map(int, input().split()))\n",
    "\n",
    "stolen = [0]*len_ware\n",
    "stolen[0]=ware[0]\n",
    "stolen[1]=max(ware[0], ware[1])\n",
    "\n",
    "for i in range(2,len_ware):\n",
    "    stolen[i]=max(stolen[i-1],stolen[i-2]+ware[i])\n",
    "\n",
    "print(stolen[len_ware-1])"
   ]
  },
  {
   "cell_type": "markdown",
   "metadata": {},
   "source": [
    "### 바닥 공사(이코테_P.223)"
   ]
  },
  {
   "cell_type": "markdown",
   "metadata": {},
   "source": [
    "- 모범 답안"
   ]
  },
  {
   "cell_type": "code",
   "execution_count": 26,
   "metadata": {},
   "outputs": [
    {
     "name": "stdout",
     "output_type": "stream",
     "text": [
      "3\n",
      "5\n"
     ]
    }
   ],
   "source": [
    "N = int(input())\n",
    "d = [0]*N\n",
    "\n",
    "d[0]=1\n",
    "d[1]=3\n",
    "\n",
    "for i in range(2,N):\n",
    "    d[i]=d[i-1]+d[i-2]*2\n",
    "\n",
    "print(d[N-1]%796796)"
   ]
  },
  {
   "cell_type": "markdown",
   "metadata": {},
   "source": [
    "### 효율적인 화폐 구성 (이코테_P.226)"
   ]
  },
  {
   "cell_type": "markdown",
   "metadata": {},
   "source": [
    "- 내 답안"
   ]
  },
  {
   "cell_type": "code",
   "execution_count": 11,
   "metadata": {},
   "outputs": [
    {
     "name": "stdout",
     "output_type": "stream",
     "text": [
      "2 12\n",
      "2\n",
      "3\n",
      "4\n"
     ]
    }
   ],
   "source": [
    "N, M = map(int, input().split())\n",
    "money = [int(input()) for _ in range(N)]\n",
    "\n",
    "d = [-1]*(M+1)\n",
    "\n",
    "for i in money:\n",
    "    if i<=M:\n",
    "        d[i]=1\n",
    "    \n",
    "def func(money, index):\n",
    "    result=0\n",
    "    if index-money >= 1:\n",
    "        result=d[index-money]+1\n",
    "    return result\n",
    "        \n",
    "lst=[]\n",
    "    \n",
    "for index in range(min(money),M+1):\n",
    "    if index not in money:\n",
    "        for penny in money:\n",
    "            if func(penny,index)>0:\n",
    "                lst.append(func(penny, index))\n",
    "        if len(lst)!=0:\n",
    "            d[index] = min(lst)\n",
    "            lst=[]\n",
    "    \n",
    "print(d[M])"
   ]
  },
  {
   "cell_type": "markdown",
   "metadata": {},
   "source": [
    "- 모범 답안"
   ]
  },
  {
   "cell_type": "code",
   "execution_count": 13,
   "metadata": {
    "scrolled": true
   },
   "outputs": [
    {
     "name": "stdout",
     "output_type": "stream",
     "text": [
      "3 4\n",
      "3\n",
      "5\n",
      "7\n",
      "-1\n"
     ]
    }
   ],
   "source": [
    "n, m = map(int, input().split())\n",
    "moneys = [int(input()) for _ in range(n)]\n",
    "\n",
    "d = [10001] * (m+1)\n",
    "d[0]=0\n",
    "\n",
    "for money in moneys:\n",
    "    for index in range(money,m+1):\n",
    "        d[index]=min(d[index],d[index-money]+1)\n",
    "\n",
    "if d[m]==10001:\n",
    "    print(-1)\n",
    "else:\n",
    "    print(d[m])"
   ]
  },
  {
   "cell_type": "markdown",
   "metadata": {},
   "source": [
    "### 백준_1003. 피보나치 함수"
   ]
  },
  {
   "cell_type": "code",
   "execution_count": 38,
   "metadata": {},
   "outputs": [],
   "source": [
    "# 재귀함수 사용 시 시간초과\n",
    "# 삼차원 구조로 리스트 생성 시 오류.. 왜 그러지?"
   ]
  },
  {
   "cell_type": "code",
   "execution_count": 36,
   "metadata": {
    "scrolled": false
   },
   "outputs": [
    {
     "name": "stdout",
     "output_type": "stream",
     "text": [
      "3\n",
      "0\n",
      "1\n",
      "3\n",
      "1 0\n",
      "0 1\n",
      "1 2\n"
     ]
    }
   ],
   "source": [
    "T = int(input())\n",
    "lst = [int(input()) for _ in range(T)]\n",
    "\n",
    "\n",
    "c_0 = [0]*41\n",
    "c_1 = [0]*41\n",
    "\n",
    "c_0[0]=1\n",
    "c_1[1]=1\n",
    "\n",
    "for i in range(2,max(lst)+1):\n",
    "    c_0[i]=c_0[i-1]+c_0[i-2]\n",
    "    c_1[i]=c_1[i-1]+c_1[i-2]\n",
    "    \n",
    "for i in lst:\n",
    "    print(c_0[i], c_1[i])"
   ]
  },
  {
   "cell_type": "markdown",
   "metadata": {},
   "source": [
    "### 백준_쉬운 계단 수"
   ]
  },
  {
   "cell_type": "code",
   "execution_count": 89,
   "metadata": {},
   "outputs": [
    {
     "name": "stdout",
     "output_type": "stream",
     "text": [
      "3\n",
      "32\n"
     ]
    }
   ],
   "source": [
    "N = int(input())\n",
    "\n",
    "lst = [1]*10\n",
    "lst[0]=0\n",
    "\n",
    "answer = [0]*(N+1)\n",
    "answer[1]=9\n",
    "\n",
    "def func(lst):\n",
    "    n_lst = [0]*10\n",
    "    \n",
    "    for i in range(10):\n",
    "        if i == 0:\n",
    "            n_lst[1]+=lst[i]\n",
    "        elif i == 9:\n",
    "            n_lst[8]+=lst[i]\n",
    "        else:\n",
    "            n_lst[i-1]+=lst[i]\n",
    "            n_lst[i+1]+=lst[i]\n",
    "    \n",
    "    return n_lst\n",
    "\n",
    "for i in range(2,N+1):\n",
    "    answer[i]=answer[i-1]*2 - lst[0] - lst[9]\n",
    "    lst = func(lst)\n",
    "\n",
    "print(answer[N]%1000000000)"
   ]
  },
  {
   "cell_type": "markdown",
   "metadata": {},
   "source": [
    "### 백준_1912 연속합"
   ]
  },
  {
   "cell_type": "markdown",
   "metadata": {},
   "source": [
    "#### 문제\n",
    "n개의 정수로 이루어진 임의의 수열이 주어진다. 우리는 이 중 연속된 몇 개의 수를 선택해서 구할 수 있는 합 중 가장 큰 합을 구하려고 한다. 단, 수는 한 개 이상 선택해야 한다.\n",
    "\n",
    "예를 들어서 10, -4, 3, 1, 5, 6, -35, 12, 21, -1 이라는 수열이 주어졌다고 하자. 여기서 정답은 12+21인 33이 정답이 된다.\n",
    "\n",
    "#### 입력\n",
    "첫째 줄에 정수 n(1 ≤ n ≤ 100,000)이 주어지고 둘째 줄에는 n개의 정수로 이루어진 수열이 주어진다. 수는 -1,000보다 크거나 같고, 1,000보다 작거나 같은 정수이다.\n",
    "\n",
    "#### 출력\n",
    "첫째 줄에 답을 출력한다."
   ]
  },
  {
   "cell_type": "code",
   "execution_count": 116,
   "metadata": {
    "scrolled": false
   },
   "outputs": [
    {
     "name": "stdout",
     "output_type": "stream",
     "text": [
      "10\n",
      "10 -4 3 1 5 6 -35 12 21 -1\n",
      "33\n"
     ]
    }
   ],
   "source": [
    "# 수열의 숫자의 개수 입력\n",
    "N = int(input())\n",
    "# 수열 입력\n",
    "lst = list(map(int, input().split()))\n",
    "\n",
    "# 최대 연속합의 후보들을 저장할 리스트(answer) 선언\n",
    "ans = [0]*N\n",
    "\n",
    "# 첫 번째 항은 수열의 초항\n",
    "ans[0] = lst[0] \n",
    "\n",
    "# i+1까지의 연속합이 i+1의 수보다 작을 경우, i+1까지의 연속합은 최대 연속합이 될 수 없음\n",
    "# 이 경우 i+1의 숫자로 대체\n",
    "for i in range(N-1):\n",
    "    ans[i+1]= max(ans[i]+lst[i+1],lst[i+1])\n",
    "\n",
    "# 최대 연속합 후보들 중 최댓값 print\n",
    "print(max(ans))"
   ]
  },
  {
   "cell_type": "code",
   "execution_count": 126,
   "metadata": {},
   "outputs": [
    {
     "name": "stdout",
     "output_type": "stream",
     "text": [
      "수열\n",
      " 10   -4   3    1    5    6   -35   12   21   -1  \n",
      "\n",
      "연속합 리스트\n",
      " 10   6    9    10   15   21  -14   12   33   32  "
     ]
    }
   ],
   "source": [
    "print('수열')\n",
    "for i in lst:\n",
    "    print('{:^4}'.format(i), end=' ')\n",
    "\n",
    "print('\\n')    \n",
    "    \n",
    "print('연속합 리스트')\n",
    "for i in ans:\n",
    "    print('{:^4}'.format(i), end=' ')"
   ]
  }
 ],
 "metadata": {
  "kernelspec": {
   "display_name": "Python 3",
   "language": "python",
   "name": "python3"
  },
  "language_info": {
   "codemirror_mode": {
    "name": "ipython",
    "version": 3
   },
   "file_extension": ".py",
   "mimetype": "text/x-python",
   "name": "python",
   "nbconvert_exporter": "python",
   "pygments_lexer": "ipython3",
   "version": "3.8.5"
  }
 },
 "nbformat": 4,
 "nbformat_minor": 4
}
