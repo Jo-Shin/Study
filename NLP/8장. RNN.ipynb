{
 "cells": [
  {
   "cell_type": "markdown",
   "id": "6a03b74c",
   "metadata": {},
   "source": [
    "## Data Structure"
   ]
  },
  {
   "attachments": {
    "image.png": {
     "image/png": "[encoded data removed]"
    }
   },
   "cell_type": "markdown",
   "id": "96b26c55",
   "metadata": {},
   "source": [
    "![image.png](attachment:image.png)\n",
    "\n",
    "- **batch_size**: 문장의 개수\n",
    "- **timesteps**: 문장의 길이(문장 내 단어의 개수)\n",
    "- **input_dim**: 각 텍스트 단어가 벡터로 변환되었을때, 벡터의 차원\n",
    "\n",
    "예를 들어, ```['나는 치킨을 먹는다','나는 학교에 간다']```의 경우, ```batch_size=2```, ```timesteps=3```이다. input_dim은 설계자의 임의에 따름."
   ]
  },
  {
   "attachments": {},
   "cell_type": "markdown",
   "id": "10bc4d2c",
   "metadata": {},
   "source": [
    "## RNN"
   ]
  },
  {
   "cell_type": "code",
   "execution_count": 4,
   "id": "dd429820",
   "metadata": {
    "ExecuteTime": {
     "end_time": "2022-01-27T05:28:14.876279Z",
     "start_time": "2022-01-27T05:28:14.860859Z"
    }
   },
   "outputs": [],
   "source": [
    "import numpy as np\n",
    "\n",
    "import tensorflow as tf\n",
    "from tensorflow.keras.models import Sequential\n",
    "from tensorflow.keras.layers import SimpleRNN as RNN"
   ]
  },
  {
   "cell_type": "code",
   "execution_count": 2,
   "id": "3c65ac42",
   "metadata": {
    "ExecuteTime": {
     "end_time": "2022-01-27T05:26:29.265601Z",
     "start_time": "2022-01-27T05:26:28.996405Z"
    }
   },
   "outputs": [
    {
     "name": "stdout",
     "output_type": "stream",
     "text": [
      "Model: \"sequential\"\n",
      "_________________________________________________________________\n",
      " Layer (type)                Output Shape              Param #   \n",
      "=================================================================\n",
      " simple_rnn (SimpleRNN)      (None, 3)                 42        \n",
      "                                                                 \n",
      "=================================================================\n",
      "Total params: 42\n",
      "Trainable params: 42\n",
      "Non-trainable params: 0\n",
      "_________________________________________________________________\n"
     ]
    }
   ],
   "source": [
    "model = Sequential() \n",
    "\n",
    "# timestep = 2, input_dim = 10, hidden_dim = 3\n",
    "model.add(RNN(3, input_shape=(2,10)))\n",
    "model.summary()"
   ]
  },
  {
   "cell_type": "code",
   "execution_count": 5,
   "id": "a54d9693",
   "metadata": {
    "ExecuteTime": {
     "end_time": "2022-01-27T05:28:17.921384Z",
     "start_time": "2022-01-27T05:28:17.832513Z"
    }
   },
   "outputs": [
    {
     "name": "stdout",
     "output_type": "stream",
     "text": [
      "Model: \"sequential_2\"\n",
      "_________________________________________________________________\n",
      " Layer (type)                Output Shape              Param #   \n",
      "=================================================================\n",
      " simple_rnn_2 (SimpleRNN)    (8, 3)                    42        \n",
      "                                                                 \n",
      "=================================================================\n",
      "Total params: 42\n",
      "Trainable params: 42\n",
      "Non-trainable params: 0\n",
      "_________________________________________________________________\n"
     ]
    }
   ],
   "source": [
    "model = Sequential() \n",
    "\n",
    "# timestep = 2, input_dim = 10, hidden_dim = 3, batch_size(number of sentences) = 8\n",
    "model.add(RNN(3, batch_input_shape=(8,2,10)))\n",
    "model.summary()"
   ]
  },
  {
   "cell_type": "code",
   "execution_count": 12,
   "id": "15a0c86f",
   "metadata": {
    "ExecuteTime": {
     "end_time": "2022-01-27T05:38:26.720397Z",
     "start_time": "2022-01-27T05:38:26.696808Z"
    }
   },
   "outputs": [
    {
     "name": "stdout",
     "output_type": "stream",
     "text": [
      "(1, 3, 5)\n"
     ]
    }
   ],
   "source": [
    "train_X = [[[0.1, 4.2, 1.5, 1.1, 2.8],\n",
    "            [1.0, 3.1, 2.5, 0.7, 1.1],\n",
    "            [0.3, 2.1, 1.5, 2.1, 0.1]]]\n",
    "train_X = np.array(train_X, dtype=np.float32)\n",
    "print(train_X.shape) # batch_size, timesteps, input_dim"
   ]
  },
  {
   "attachments": {
    "image.png": {
     "image/png": "[encoded data removed]"
    }
   },
   "cell_type": "markdown",
   "id": "d20b10cb",
   "metadata": {},
   "source": [
    "![image.png](attachment:image.png)\n",
    "\n",
    "- ```return_sequences=True```: 모든 은닉 상태 반환\n",
    "- ```return_state=True```: 마지막 은닉 상태 반환"
   ]
  },
  {
   "cell_type": "code",
   "execution_count": 16,
   "id": "faaefc7c",
   "metadata": {
    "ExecuteTime": {
     "end_time": "2022-01-27T05:38:43.205751Z",
     "start_time": "2022-01-27T05:38:43.173474Z"
    }
   },
   "outputs": [],
   "source": [
    "rnn = RNN(2, return_sequences=True, return_state=True)\n",
    "hidden_states, last_state = rnn(train_X)"
   ]
  },
  {
   "cell_type": "code",
   "execution_count": 17,
   "id": "05b2783d",
   "metadata": {
    "ExecuteTime": {
     "end_time": "2022-01-27T05:38:44.916312Z",
     "start_time": "2022-01-27T05:38:44.908310Z"
    }
   },
   "outputs": [
    {
     "name": "stdout",
     "output_type": "stream",
     "text": [
      "tf.Tensor(\n",
      "[[[-0.9891621  -0.5375805 ]\n",
      "  [ 0.01987473  0.8775859 ]\n",
      "  [ 0.15764187  0.6803448 ]]], shape=(1, 3, 2), dtype=float32)\n"
     ]
    }
   ],
   "source": [
    "print(hidden_states) "
   ]
  },
  {
   "cell_type": "code",
   "execution_count": 18,
   "id": "64a4cf41",
   "metadata": {
    "ExecuteTime": {
     "end_time": "2022-01-27T05:38:46.685925Z",
     "start_time": "2022-01-27T05:38:46.677921Z"
    }
   },
   "outputs": [
    {
     "name": "stdout",
     "output_type": "stream",
     "text": [
      "tf.Tensor([[0.15764187 0.6803448 ]], shape=(1, 2), dtype=float32)\n"
     ]
    }
   ],
   "source": [
    "print(last_state) # hidden_states의 마지막 행과 같은 값"
   ]
  },
  {
   "attachments": {
    "image.png": {
     "image/png": "[encoded data removed]"
    }
   },
   "cell_type": "markdown",
   "id": "c4d99c59",
   "metadata": {},
   "source": [
    "## Deep RNN\n",
    "\n",
    "![image.png](attachment:image.png)\n",
    "\n",
    "- RNN layer가 2층 이상\n",
    "- 그림에선 마지막 layer도 모든 timestep마다 hidden state를 반환하고 있음, 이를 구현한 코드는 아래와 같음"
   ]
  },
  {
   "cell_type": "code",
   "execution_count": 32,
   "id": "58228af4",
   "metadata": {
    "ExecuteTime": {
     "end_time": "2022-01-27T05:49:13.061238Z",
     "start_time": "2022-01-27T05:49:12.887005Z"
    }
   },
   "outputs": [
    {
     "name": "stdout",
     "output_type": "stream",
     "text": [
      "Model: \"sequential_5\"\n",
      "_________________________________________________________________\n",
      " Layer (type)                Output Shape              Param #   \n",
      "=================================================================\n",
      " simple_rnn_8 (SimpleRNN)    (None, 2, 3)              42        \n",
      "                                                                 \n",
      " simple_rnn_9 (SimpleRNN)    (None, 2, 3)              21        \n",
      "                                                                 \n",
      "=================================================================\n",
      "Total params: 63\n",
      "Trainable params: 63\n",
      "Non-trainable params: 0\n",
      "_________________________________________________________________\n"
     ]
    }
   ],
   "source": [
    "model = Sequential() \n",
    "\n",
    "# timestep = 2, input_dim = 10, hidden_dim = 3\n",
    "model.add(RNN(3, input_shape=(2,10), return_sequences=True))\n",
    "model.add(RNN(3, return_sequences=True))\n",
    "\n",
    "model.summary()"
   ]
  },
  {
   "attachments": {
    "image.png": {
     "image/png": "[encoded data removed]"
    }
   },
   "cell_type": "markdown",
   "id": "bd9ab739",
   "metadata": {},
   "source": [
    "## LSTM\n",
    "\n",
    "![image.png](attachment:image.png)"
   ]
  },
  {
   "cell_type": "code",
   "execution_count": 19,
   "id": "9b72549c",
   "metadata": {
    "ExecuteTime": {
     "end_time": "2022-01-27T05:41:37.790255Z",
     "start_time": "2022-01-27T05:41:37.785550Z"
    }
   },
   "outputs": [],
   "source": [
    "from tensorflow.keras.layers import LSTM"
   ]
  },
  {
   "cell_type": "code",
   "execution_count": 22,
   "id": "064d6a35",
   "metadata": {
    "ExecuteTime": {
     "end_time": "2022-01-27T05:43:19.928027Z",
     "start_time": "2022-01-27T05:43:19.888053Z"
    }
   },
   "outputs": [],
   "source": [
    "lstm = LSTM(2, return_sequences=True, return_state=True)\n",
    "hidden_state, last_state, last_cell_state = lstm(train_X)"
   ]
  },
  {
   "cell_type": "code",
   "execution_count": 25,
   "id": "c2978b3f",
   "metadata": {
    "ExecuteTime": {
     "end_time": "2022-01-27T05:43:50.075785Z",
     "start_time": "2022-01-27T05:43:50.051784Z"
    }
   },
   "outputs": [
    {
     "name": "stdout",
     "output_type": "stream",
     "text": [
      "tf.Tensor(\n",
      "[[[0.10704654 0.14733501]\n",
      "  [0.07392829 0.27780876]\n",
      "  [0.15311386 0.33580977]]], shape=(1, 3, 2), dtype=float32)\n"
     ]
    }
   ],
   "source": [
    "print(hidden_state) # batch_size, timesteps, hidden_dim"
   ]
  },
  {
   "cell_type": "code",
   "execution_count": 27,
   "id": "9842b091",
   "metadata": {
    "ExecuteTime": {
     "end_time": "2022-01-27T05:44:25.128760Z",
     "start_time": "2022-01-27T05:44:25.120759Z"
    }
   },
   "outputs": [
    {
     "name": "stdout",
     "output_type": "stream",
     "text": [
      "tf.Tensor([[0.15311386 0.33580977]], shape=(1, 2), dtype=float32)\n"
     ]
    }
   ],
   "source": [
    "print(last_state) # hidden_state의 마지막 행과 같음"
   ]
  },
  {
   "cell_type": "code",
   "execution_count": 28,
   "id": "aa9b636f",
   "metadata": {
    "ExecuteTime": {
     "end_time": "2022-01-27T05:44:32.190030Z",
     "start_time": "2022-01-27T05:44:32.182322Z"
    }
   },
   "outputs": [
    {
     "name": "stdout",
     "output_type": "stream",
     "text": [
      "tf.Tensor([[0.17028742 0.68324995]], shape=(1, 2), dtype=float32)\n"
     ]
    }
   ],
   "source": [
    "print(last_cell_state) # cell_state"
   ]
  },
  {
   "cell_type": "markdown",
   "id": "a90e4b6f",
   "metadata": {},
   "source": [
    "## GRU"
   ]
  },
  {
   "cell_type": "code",
   "execution_count": 29,
   "id": "b8e89850",
   "metadata": {
    "ExecuteTime": {
     "end_time": "2022-01-27T05:45:42.490812Z",
     "start_time": "2022-01-27T05:45:42.482234Z"
    }
   },
   "outputs": [],
   "source": [
    "from tensorflow.keras.layers import GRU"
   ]
  },
  {
   "cell_type": "code",
   "execution_count": 30,
   "id": "9e3773db",
   "metadata": {
    "ExecuteTime": {
     "end_time": "2022-01-27T05:46:44.341392Z",
     "start_time": "2022-01-27T05:46:44.046275Z"
    }
   },
   "outputs": [
    {
     "name": "stdout",
     "output_type": "stream",
     "text": [
      "Model: \"sequential_3\"\n",
      "_________________________________________________________________\n",
      " Layer (type)                Output Shape              Param #   \n",
      "=================================================================\n",
      " gru (GRU)                   (None, 3)                 135       \n",
      "                                                                 \n",
      "=================================================================\n",
      "Total params: 135\n",
      "Trainable params: 135\n",
      "Non-trainable params: 0\n",
      "_________________________________________________________________\n"
     ]
    }
   ],
   "source": [
    "model = Sequential() \n",
    "\n",
    "# timestep = 2, input_dim = 10, hidden_dim = 3\n",
    "model.add(GRU(3, input_shape=(2,10)))\n",
    "model.summary()"
   ]
  },
  {
   "cell_type": "markdown",
   "id": "7cc0bd4c",
   "metadata": {},
   "source": [
    "## Bidrectional"
   ]
  },
  {
   "cell_type": "code",
   "execution_count": 44,
   "id": "bb25e5ca",
   "metadata": {
    "ExecuteTime": {
     "end_time": "2022-01-27T05:57:07.601939Z",
     "start_time": "2022-01-27T05:57:07.590745Z"
    }
   },
   "outputs": [
    {
     "name": "stdout",
     "output_type": "stream",
     "text": [
      "(1, 4, 5)\n"
     ]
    }
   ],
   "source": [
    "from tensorflow.keras.layers import Bidirectional\n",
    "\n",
    "train_X = [[[0.1, 4.2, 1.5, 1.1, 2.8],\n",
    "            [1.0, 3.1, 2.5, 0.7, 1.1],\n",
    "            [0.3, 2.1, 1.5, 2.1, 0.1],\n",
    "            [1.0, 3.1, 2.5, 0.7, 1.1]]]\n",
    "train_X = np.array(train_X, dtype=np.float32)\n",
    "print(train_X.shape) # batch_size, timesteps, input_dim"
   ]
  },
  {
   "cell_type": "code",
   "execution_count": 45,
   "id": "f709d3fd",
   "metadata": {
    "ExecuteTime": {
     "end_time": "2022-01-27T05:57:09.062159Z",
     "start_time": "2022-01-27T05:57:09.054508Z"
    }
   },
   "outputs": [],
   "source": [
    "k_init = tf.keras.initializers.Constant(value=0.1)\n",
    "b_init = tf.keras.initializers.Constant(value=0)\n",
    "r_init = tf.keras.initializers.Constant(value=0.1)"
   ]
  },
  {
   "attachments": {
    "image.png": {
     "image/png": "[encoded data removed]"
    }
   },
   "cell_type": "markdown",
   "id": "1ca91c3a",
   "metadata": {},
   "source": [
    "![image.png](attachment:image.png)"
   ]
  },
  {
   "cell_type": "code",
   "execution_count": 46,
   "id": "7eddd620",
   "metadata": {
    "ExecuteTime": {
     "end_time": "2022-01-27T05:57:10.825495Z",
     "start_time": "2022-01-27T05:57:10.777730Z"
    }
   },
   "outputs": [],
   "source": [
    "bilstm = Bidirectional(LSTM(3, return_sequences=False, return_state=True, \n",
    "                            kernel_initializer=k_init, bias_initializer=b_init, recurrent_initializer=r_init))\n",
    "hidden_states, forward_h, forward_c, backward_h, backward_c = bilstm(train_X)"
   ]
  },
  {
   "cell_type": "code",
   "execution_count": 50,
   "id": "ef3c8a56",
   "metadata": {
    "ExecuteTime": {
     "end_time": "2022-01-27T05:57:47.202545Z",
     "start_time": "2022-01-27T05:57:47.179440Z"
    }
   },
   "outputs": [
    {
     "name": "stdout",
     "output_type": "stream",
     "text": [
      "tf.Tensor([[0.6886291 0.6886291 0.6886291 0.7158482 0.7158482 0.7158482]], shape=(1, 6), dtype=float32)\n",
      "tf.Tensor([[0.6886291 0.6886291 0.6886291]], shape=(1, 3), dtype=float32)\n",
      "tf.Tensor([[0.7158482 0.7158482 0.7158482]], shape=(1, 3), dtype=float32)\n"
     ]
    }
   ],
   "source": [
    "print(hidden_states) # concat(forward_h, backward_h)\n",
    "print(forward_h) # forward hidden state(주황색)의 마지막 시점 state\n",
    "print(backward_h) # forward hidden state(초록색)의 첫 시점 state"
   ]
  },
  {
   "attachments": {
    "image.png": {
     "image/png": "[encoded data removed]"
    }
   },
   "cell_type": "markdown",
   "id": "342abf0c",
   "metadata": {
    "ExecuteTime": {
     "end_time": "2022-01-27T05:57:15.975693Z",
     "start_time": "2022-01-27T05:57:15.966670Z"
    }
   },
   "source": [
    "![image.png](attachment:image.png)"
   ]
  },
  {
   "cell_type": "code",
   "execution_count": 51,
   "id": "94fa98ee",
   "metadata": {
    "ExecuteTime": {
     "end_time": "2022-01-27T05:58:24.300975Z",
     "start_time": "2022-01-27T05:58:24.233050Z"
    }
   },
   "outputs": [],
   "source": [
    "bilstm = Bidirectional(LSTM(3, return_sequences=True, return_state=True, \n",
    "                            kernel_initializer=k_init, bias_initializer=b_init, recurrent_initializer=r_init))\n",
    "hidden_states, forward_h, forward_c, backward_h, backward_c = bilstm(train_X)"
   ]
  },
  {
   "cell_type": "code",
   "execution_count": 52,
   "id": "f5758bc4",
   "metadata": {
    "ExecuteTime": {
     "end_time": "2022-01-27T05:58:25.840542Z",
     "start_time": "2022-01-27T05:58:25.824428Z"
    }
   },
   "outputs": [
    {
     "name": "stdout",
     "output_type": "stream",
     "text": [
      "tf.Tensor(\n",
      "[[[0.35906473 0.35906473 0.35906473 0.7158482  0.7158482  0.7158482 ]\n",
      "  [0.55111325 0.55111325 0.55111325 0.61729074 0.61729074 0.61729074]\n",
      "  [0.59115744 0.59115744 0.59115744 0.44824886 0.44824886 0.44824886]\n",
      "  [0.6886291  0.6886291  0.6886291  0.31113365 0.31113365 0.31113365]]], shape=(1, 4, 6), dtype=float32)\n",
      "tf.Tensor([[0.6886291 0.6886291 0.6886291]], shape=(1, 3), dtype=float32)\n",
      "tf.Tensor([[0.7158482 0.7158482 0.7158482]], shape=(1, 3), dtype=float32)\n"
     ]
    }
   ],
   "source": [
    "print(hidden_states) # hidden state of all timestep / concat(forward, backward)\n",
    "print(forward_h) # forward hidden state(주황색)의 마지막 시점 state\n",
    "print(backward_h) # forward hidden state(초록색)의 첫 시점 state"
   ]
  },
  {
   "cell_type": "code",
   "execution_count": 63,
   "id": "d7810c53",
   "metadata": {
    "ExecuteTime": {
     "end_time": "2022-01-27T06:10:17.371771Z",
     "start_time": "2022-01-27T06:10:17.362766Z"
    }
   },
   "outputs": [
    {
     "name": "stdout",
     "output_type": "stream",
     "text": [
      "tf.Tensor([[ True  True  True]], shape=(1, 3), dtype=bool)\n",
      "tf.Tensor([[ True  True  True]], shape=(1, 3), dtype=bool)\n"
     ]
    }
   ],
   "source": [
    "print(hidden_states[:,0,3:]== backward_h)\n",
    "print(hidden_states[:,-1,:3]== forward_h)"
   ]
  },
  {
   "cell_type": "markdown",
   "id": "55875e85",
   "metadata": {},
   "source": [
    "## 실습_Word prediction\n",
    "- 교사 강요를 통해 학습"
   ]
  },
  {
   "cell_type": "code",
   "execution_count": 64,
   "id": "cb3ee9c1",
   "metadata": {
    "ExecuteTime": {
     "end_time": "2022-01-27T06:10:44.572255Z",
     "start_time": "2022-01-27T06:10:44.556269Z"
    }
   },
   "outputs": [],
   "source": [
    "from tensorflow.keras.preprocessing.text import Tokenizer\n",
    "from tensorflow.keras.preprocessing.sequence import pad_sequences\n",
    "from tensorflow.keras.utils import to_categorical"
   ]
  },
  {
   "cell_type": "code",
   "execution_count": 65,
   "id": "87859928",
   "metadata": {
    "ExecuteTime": {
     "end_time": "2022-01-27T06:10:46.713209Z",
     "start_time": "2022-01-27T06:10:46.705620Z"
    }
   },
   "outputs": [],
   "source": [
    "text = \"\"\"경마장에 있는 말이 뛰고 있다\\n\n",
    "그의 말이 법이다\\n\n",
    "가는 말이 고와야 오는 말이 곱다\\n\"\"\""
   ]
  },
  {
   "cell_type": "code",
   "execution_count": 72,
   "id": "11ebf034",
   "metadata": {
    "ExecuteTime": {
     "end_time": "2022-01-27T06:13:03.405074Z",
     "start_time": "2022-01-27T06:13:03.397606Z"
    }
   },
   "outputs": [],
   "source": [
    "tokenizer = Tokenizer()\n",
    "tokenizer.fit_on_texts([text])"
   ]
  },
  {
   "cell_type": "code",
   "execution_count": 105,
   "id": "92a432b1",
   "metadata": {
    "ExecuteTime": {
     "end_time": "2022-01-27T06:22:42.568895Z",
     "start_time": "2022-01-27T06:22:42.560897Z"
    }
   },
   "outputs": [],
   "source": [
    "sequences = []\n",
    "for t in text.split('\\n'):\n",
    "    if t != '':\n",
    "        sequence = tokenizer.texts_to_sequences([t])[0]\n",
    "        for i in range(1,len(sequence)):\n",
    "            sequences.append(sequence[0:i+1])   "
   ]
  },
  {
   "cell_type": "code",
   "execution_count": 106,
   "id": "d037d287",
   "metadata": {
    "ExecuteTime": {
     "end_time": "2022-01-27T06:22:46.481442Z",
     "start_time": "2022-01-27T06:22:46.473442Z"
    }
   },
   "outputs": [
    {
     "data": {
      "text/plain": [
       "[[2, 3],\n",
       " [2, 3, 1],\n",
       " [2, 3, 1, 4],\n",
       " [2, 3, 1, 4, 5],\n",
       " [6, 1],\n",
       " [6, 1, 7],\n",
       " [8, 1],\n",
       " [8, 1, 9],\n",
       " [8, 1, 9, 10],\n",
       " [8, 1, 9, 10, 1],\n",
       " [8, 1, 9, 10, 1, 11]]"
      ]
     },
     "execution_count": 106,
     "metadata": {},
     "output_type": "execute_result"
    }
   ],
   "source": [
    "sequences"
   ]
  },
  {
   "cell_type": "code",
   "execution_count": 112,
   "id": "1ac9695d",
   "metadata": {
    "ExecuteTime": {
     "end_time": "2022-01-27T06:24:59.232477Z",
     "start_time": "2022-01-27T06:24:59.223680Z"
    }
   },
   "outputs": [],
   "source": [
    "# word: index\n",
    "word_to_index = tokenizer.word_index\n",
    "\n",
    "# index: word\n",
    "index_to_word = dict()\n",
    "for word, index in word_to_index.items():\n",
    "    index_to_word[index]=word"
   ]
  },
  {
   "cell_type": "code",
   "execution_count": 115,
   "id": "6422f834",
   "metadata": {
    "ExecuteTime": {
     "end_time": "2022-01-27T06:26:23.455592Z",
     "start_time": "2022-01-27T06:26:23.447590Z"
    }
   },
   "outputs": [
    {
     "name": "stdout",
     "output_type": "stream",
     "text": [
      "경마장에 있는 \n",
      "경마장에 있는 말이 \n",
      "경마장에 있는 말이 뛰고 \n",
      "경마장에 있는 말이 뛰고 있다 \n",
      "그의 말이 \n",
      "그의 말이 법이다 \n",
      "가는 말이 \n",
      "가는 말이 고와야 \n",
      "가는 말이 고와야 오는 \n",
      "가는 말이 고와야 오는 말이 \n",
      "가는 말이 고와야 오는 말이 곱다 \n"
     ]
    }
   ],
   "source": [
    "for sequence in sequences:\n",
    "    for index in sequence:\n",
    "        print(index_to_word[index], end=' ')\n",
    "    print()"
   ]
  },
  {
   "cell_type": "code",
   "execution_count": 118,
   "id": "66b52797",
   "metadata": {
    "ExecuteTime": {
     "end_time": "2022-01-27T06:27:47.860471Z",
     "start_time": "2022-01-27T06:27:47.853081Z"
    }
   },
   "outputs": [],
   "source": [
    "vocab_size = max(word_to_index.values())+1 # padding을 위한 0 고려"
   ]
  },
  {
   "cell_type": "code",
   "execution_count": 123,
   "id": "a7f6ffed",
   "metadata": {
    "ExecuteTime": {
     "end_time": "2022-01-27T06:29:15.259358Z",
     "start_time": "2022-01-27T06:29:15.235023Z"
    }
   },
   "outputs": [
    {
     "data": {
      "text/plain": [
       "(array([[ 0,  0,  0,  0,  2,  3],\n",
       "        [ 0,  0,  0,  2,  3,  1],\n",
       "        [ 0,  0,  2,  3,  1,  4],\n",
       "        [ 0,  2,  3,  1,  4,  5],\n",
       "        [ 0,  0,  0,  0,  6,  1],\n",
       "        [ 0,  0,  0,  6,  1,  7],\n",
       "        [ 0,  0,  0,  0,  8,  1],\n",
       "        [ 0,  0,  0,  8,  1,  9],\n",
       "        [ 0,  0,  8,  1,  9, 10],\n",
       "        [ 0,  8,  1,  9, 10,  1],\n",
       "        [ 8,  1,  9, 10,  1, 11]]),\n",
       " (11, 6))"
      ]
     },
     "execution_count": 123,
     "metadata": {},
     "output_type": "execute_result"
    }
   ],
   "source": [
    "padded = pad_sequences(sequences, maxlen=6)\n",
    "padded, padded.shape"
   ]
  },
  {
   "cell_type": "code",
   "execution_count": 126,
   "id": "0032e86d",
   "metadata": {
    "ExecuteTime": {
     "end_time": "2022-01-27T06:32:42.382205Z",
     "start_time": "2022-01-27T06:32:42.375496Z"
    }
   },
   "outputs": [],
   "source": [
    "X = padded[:,:-1]\n",
    "y = padded[:,-1]"
   ]
  },
  {
   "cell_type": "code",
   "execution_count": 127,
   "id": "cfc166fc",
   "metadata": {
    "ExecuteTime": {
     "end_time": "2022-01-27T06:32:44.682995Z",
     "start_time": "2022-01-27T06:32:44.674997Z"
    }
   },
   "outputs": [
    {
     "data": {
      "text/plain": [
       "((11, 5), (11,))"
      ]
     },
     "execution_count": 127,
     "metadata": {},
     "output_type": "execute_result"
    }
   ],
   "source": [
    "X.shape, y.shape"
   ]
  },
  {
   "cell_type": "code",
   "execution_count": 130,
   "id": "a07e7a1b",
   "metadata": {
    "ExecuteTime": {
     "end_time": "2022-01-27T06:33:19.981875Z",
     "start_time": "2022-01-27T06:33:19.973906Z"
    }
   },
   "outputs": [],
   "source": [
    "y = to_categorical(y)"
   ]
  },
  {
   "cell_type": "code",
   "execution_count": 133,
   "id": "e05b1add",
   "metadata": {
    "ExecuteTime": {
     "end_time": "2022-01-27T06:34:50.157609Z",
     "start_time": "2022-01-27T06:34:50.149592Z"
    }
   },
   "outputs": [],
   "source": [
    "batch_size = 11\n",
    "timesteps = 5\n",
    "vocab_size = 12 # input dim before embedding\n",
    "embedding_dim = 10\n",
    "hidden_dim = 32"
   ]
  },
  {
   "cell_type": "code",
   "execution_count": 132,
   "id": "d7512593",
   "metadata": {
    "ExecuteTime": {
     "end_time": "2022-01-27T06:34:17.640004Z",
     "start_time": "2022-01-27T06:34:17.632700Z"
    }
   },
   "outputs": [],
   "source": [
    "from tensorflow.keras.models import Sequential\n",
    "from tensorflow.keras.layers import Embedding, Dense, SimpleRNN"
   ]
  },
  {
   "cell_type": "markdown",
   "id": "f6c9b683",
   "metadata": {},
   "source": [
    "단어 집합의 크기가 5일 때 각 단어에 정수 1, 2, 3, 4, 5가 부여되었다고 해봅시다. 그러면 임베딩 테이블은 5개의 행을 가지게 될 것입니다. 숫자 3에 대한 원 핫 벡터는 [0 0 1 0 0]입니다. 이 원-핫 벡터를 임베딩 테이블에다가 곱하면 테이블 룩업 연산을 통해 세번째 벡터가 리턴됩니다. 하지만 사실 생각해보면 원-핫 인코딩할 필요없이 애초에 단어 번호가 3이므로 그냥 해당 테이블에서 3번 벡터를 가져오면 됐을 일입니다. 결론적으로 원-핫 인코딩하고 임베딩 층을 통과시키는 것과 각 단어를 정수로 바꾼 후에 임베딩 층을 통과시키는 것은 어차피 결과가 같습니다. 그래서 케라스에서는 모든 단어를 정수 인코딩한 것을 굳이 원-핫 인코딩을 하고나서 임베딩 층을 통과시키는 것이 아니라 정수 인코딩한 값을 그냥 임베딩 층으로 바로 통과시키도록 합니다. 이는 사전 훈련된 임베딩 챕터에서 설명되어져 있습니다. 테이블 룩업에 대한 설명은 https://wikidocs.net/45609 에 설명되어져 있습니다."
   ]
  },
  {
   "cell_type": "code",
   "execution_count": 142,
   "id": "a0a101da",
   "metadata": {
    "ExecuteTime": {
     "end_time": "2022-01-27T06:39:08.631487Z",
     "start_time": "2022-01-27T06:39:08.492397Z"
    }
   },
   "outputs": [
    {
     "name": "stdout",
     "output_type": "stream",
     "text": [
      "Model: \"sequential_11\"\n",
      "_________________________________________________________________\n",
      " Layer (type)                Output Shape              Param #   \n",
      "=================================================================\n",
      " embedding_5 (Embedding)     (None, None, 10)          120       \n",
      "                                                                 \n",
      " simple_rnn_15 (SimpleRNN)   (None, 32)                1376      \n",
      "                                                                 \n",
      " dense_5 (Dense)             (None, 12)                396       \n",
      "                                                                 \n",
      "=================================================================\n",
      "Total params: 1,892\n",
      "Trainable params: 1,892\n",
      "Non-trainable params: 0\n",
      "_________________________________________________________________\n"
     ]
    }
   ],
   "source": [
    "model = Sequential()\n",
    "\n",
    "model.add(Embedding(vocab_size, embedding_dim))\n",
    "model.add(RNN(hidden_dim))\n",
    "model.add(Dense(vocab_size, activation='softmax'))\n",
    "\n",
    "model.compile(optimizer='adam', loss='categorical_crossentropy', metrics=['accuracy'])\n",
    "\n",
    "model.summary()"
   ]
  },
  {
   "cell_type": "code",
   "execution_count": 143,
   "id": "9c0d8781",
   "metadata": {
    "ExecuteTime": {
     "end_time": "2022-01-27T06:39:12.508815Z",
     "start_time": "2022-01-27T06:39:10.176439Z"
    }
   },
   "outputs": [
    {
     "data": {
      "text/plain": [
       "<keras.callbacks.History at 0x1ca9da0bb20>"
      ]
     },
     "execution_count": 143,
     "metadata": {},
     "output_type": "execute_result"
    }
   ],
   "source": [
    "model.fit(X,y,epochs=200,verbose=0)"
   ]
  },
  {
   "cell_type": "code",
   "execution_count": 144,
   "id": "4cdeab21",
   "metadata": {
    "ExecuteTime": {
     "end_time": "2022-01-27T06:40:14.452975Z",
     "start_time": "2022-01-27T06:40:14.441619Z"
    }
   },
   "outputs": [],
   "source": [
    "def sentence_generation(model, tokenizer, current_word, n): # 모델, 토크나이저, 현재 단어, 반복할 횟수\n",
    "    init_word = current_word\n",
    "    sentence = ''\n",
    "\n",
    "    # n번 반복\n",
    "    for _ in range(n):\n",
    "        # 현재 단어에 대한 정수 인코딩과 패딩\n",
    "        encoded = tokenizer.texts_to_sequences([current_word])[0]\n",
    "        encoded = pad_sequences([encoded], maxlen=5, padding='pre')\n",
    "        # 입력한 X(현재 단어)에 대해서 Y를 예측하고 Y(예측한 단어)를 result에 저장.\n",
    "        result = model.predict(encoded, verbose=0)\n",
    "        result = np.argmax(result, axis=1)\n",
    "\n",
    "        for word, index in tokenizer.word_index.items(): \n",
    "            # 만약 예측한 단어와 인덱스와 동일한 단어가 있다면 break\n",
    "            if index == result:\n",
    "                break\n",
    "\n",
    "        # 현재 단어 + ' ' + 예측 단어를 현재 단어로 변경\n",
    "        current_word = current_word + ' '  + word\n",
    "\n",
    "        # 예측 단어를 문장에 저장\n",
    "        sentence = sentence + ' ' + word\n",
    "\n",
    "    sentence = init_word + sentence\n",
    "    return sentence"
   ]
  },
  {
   "cell_type": "code",
   "execution_count": 149,
   "id": "6785ecea",
   "metadata": {
    "ExecuteTime": {
     "end_time": "2022-01-27T06:48:03.066883Z",
     "start_time": "2022-01-27T06:48:02.770106Z"
    }
   },
   "outputs": [
    {
     "name": "stdout",
     "output_type": "stream",
     "text": [
      "경마장에 있는 말이 뛰고 있다\n"
     ]
    }
   ],
   "source": [
    "print(sentence_generation(model, tokenizer, '경마장에', 4))"
   ]
  },
  {
   "cell_type": "markdown",
   "id": "a0c37791",
   "metadata": {
    "heading_collapsed": true
   },
   "source": [
    "## 실습_Character prediction"
   ]
  },
  {
   "cell_type": "code",
   "execution_count": null,
   "id": "f4c49d78",
   "metadata": {
    "hidden": true
   },
   "outputs": [],
   "source": [
    "urllib.request.urlretrieve(\"http://www.gutenberg.org/files/11/11-0.txt\", filename=\"11-0.txt\")\n",
    "\n",
    "f = open('11-0.txt', 'rb')\n",
    "sentences = []\n",
    "for sentence in f: # 데이터로부터 한 줄씩 읽는다.\n",
    "    sentence = sentence.strip() # strip()을 통해 \\r, \\n을 제거한다.\n",
    "    sentence = sentence.lower() # 소문자화.\n",
    "    sentence = sentence.decode('ascii', 'ignore') # \\xe2\\x80\\x99 등과 같은 바이트 열 제거\n",
    "    if len(sentence) > 0:\n",
    "        sentences.append(sentence)\n",
    "f.close()"
   ]
  }
 ],
 "metadata": {
  "kernelspec": {
   "display_name": "Python 3 (ipykernel)",
   "language": "python",
   "name": "python3"
  },
  "language_info": {
   "codemirror_mode": {
    "name": "ipython",
    "version": 3
   },
   "file_extension": ".py",
   "mimetype": "text/x-python",
   "name": "python",
   "nbconvert_exporter": "python",
   "pygments_lexer": "ipython3",
   "version": "3.9.7"
  },
  "toc": {
   "base_numbering": 1,
   "nav_menu": {},
   "number_sections": false,
   "sideBar": true,
   "skip_h1_title": false,
   "title_cell": "Table of Contents",
   "title_sidebar": "Contents",
   "toc_cell": false,
   "toc_position": {},
   "toc_section_display": true,
   "toc_window_display": true
  }
 },
 "nbformat": 4,
 "nbformat_minor": 5
}
