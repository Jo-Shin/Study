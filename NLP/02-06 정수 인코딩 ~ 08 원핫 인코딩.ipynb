{
 "cells": [
  {
   "cell_type": "markdown",
   "id": "238d2f44",
   "metadata": {},
   "source": [
    "# 2-6 정수 인코딩"
   ]
  },
  {
   "cell_type": "code",
   "execution_count": 5,
   "id": "4a1f4f2b",
   "metadata": {
    "ExecuteTime": {
     "end_time": "2022-01-20T12:17:58.846746Z",
     "start_time": "2022-01-20T12:17:56.012670Z"
    }
   },
   "outputs": [
    {
     "name": "stdout",
     "output_type": "stream",
     "text": [
      "A barber is a person. a barber is good person. a barber is huge person. he Knew A Secret! The Secret He Kept is huge secret. Huge secret. His barber kept his word. a barber kept his word. His barber kept his secret. But keeping and keeping such a huge secret to himself was driving the barber crazy. the barber went up a huge mountain.\n"
     ]
    }
   ],
   "source": [
    "from nltk.tokenize import sent_tokenize\n",
    "from nltk.tokenize import word_tokenize\n",
    "from nltk.corpus import stopwords\n",
    "\n",
    "raw_text = \"A barber is a person. a barber is good person. a barber is huge person. he Knew A Secret! The Secret He Kept is huge secret. Huge secret. His barber kept his word. a barber kept his word. His barber kept his secret. But keeping and keeping such a huge secret to himself was driving the barber crazy. the barber went up a huge mountain.\"\n",
    "print(raw_text)"
   ]
  },
  {
   "cell_type": "code",
   "execution_count": 6,
   "id": "975046c4",
   "metadata": {
    "ExecuteTime": {
     "end_time": "2022-01-20T12:18:15.730087Z",
     "start_time": "2022-01-20T12:18:15.659349Z"
    }
   },
   "outputs": [],
   "source": [
    "sentences = sent_tokenize(raw_text) # 문장 토큰화"
   ]
  },
  {
   "cell_type": "code",
   "execution_count": 9,
   "id": "f4dc2d1f",
   "metadata": {
    "ExecuteTime": {
     "end_time": "2022-01-20T12:21:41.445395Z",
     "start_time": "2022-01-20T12:21:41.384990Z"
    }
   },
   "outputs": [],
   "source": [
    "preprocessed_sentences = []\n",
    "stop_words = set(stopwords.words('english')) # 영어 불용어\n",
    "\n",
    "for sentence in sentences:\n",
    "    tokenized_sentence = word_tokenize(sentence)\n",
    "    result = []\n",
    "    \n",
    "    for word in tokenized_sentence:\n",
    "        if word not in stop_words and len(word)>2:\n",
    "            result.append(word)\n",
    "    preprocessed_sentences.append(result)"
   ]
  },
  {
   "cell_type": "code",
   "execution_count": 10,
   "id": "a7c62cd5",
   "metadata": {
    "ExecuteTime": {
     "end_time": "2022-01-20T12:21:44.499064Z",
     "start_time": "2022-01-20T12:21:44.475727Z"
    }
   },
   "outputs": [
    {
     "data": {
      "text/plain": [
       "[['barber', 'person'],\n",
       " ['barber', 'good', 'person'],\n",
       " ['barber', 'huge', 'person'],\n",
       " ['Knew', 'Secret'],\n",
       " ['The', 'Secret', 'Kept', 'huge', 'secret'],\n",
       " ['Huge', 'secret'],\n",
       " ['His', 'barber', 'kept', 'word'],\n",
       " ['barber', 'kept', 'word'],\n",
       " ['His', 'barber', 'kept', 'secret'],\n",
       " ['But', 'keeping', 'keeping', 'huge', 'secret', 'driving', 'barber', 'crazy'],\n",
       " ['barber', 'went', 'huge', 'mountain']]"
      ]
     },
     "execution_count": 10,
     "metadata": {},
     "output_type": "execute_result"
    }
   ],
   "source": [
    "preprocessed_sentences"
   ]
  },
  {
   "cell_type": "markdown",
   "id": "de01206c",
   "metadata": {},
   "source": [
    "## Counter"
   ]
  },
  {
   "cell_type": "code",
   "execution_count": 13,
   "id": "9cec2a81",
   "metadata": {
    "ExecuteTime": {
     "end_time": "2022-01-20T12:22:51.334798Z",
     "start_time": "2022-01-20T12:22:51.326797Z"
    }
   },
   "outputs": [],
   "source": [
    "from collections import Counter\n",
    "\n",
    "all_word_list = sum(preprocessed_sentences,[])"
   ]
  },
  {
   "cell_type": "code",
   "execution_count": 16,
   "id": "b1a1c4b4",
   "metadata": {
    "ExecuteTime": {
     "end_time": "2022-01-20T12:23:18.521879Z",
     "start_time": "2022-01-20T12:23:18.511861Z"
    }
   },
   "outputs": [
    {
     "name": "stdout",
     "output_type": "stream",
     "text": [
      "['barber', 'person', 'barber', 'good', 'person', 'barber', 'huge', 'person', 'Knew', 'Secret', 'The', 'Secret', 'Kept', 'huge', 'secret', 'Huge', 'secret', 'His', 'barber', 'kept', 'word', 'barber', 'kept', 'word', 'His', 'barber', 'kept', 'secret', 'But', 'keeping', 'keeping', 'huge', 'secret', 'driving', 'barber', 'crazy', 'barber', 'went', 'huge', 'mountain']\n"
     ]
    }
   ],
   "source": [
    "print(all_word_list)"
   ]
  },
  {
   "cell_type": "code",
   "execution_count": 23,
   "id": "36c78635",
   "metadata": {
    "ExecuteTime": {
     "end_time": "2022-01-20T12:24:33.453458Z",
     "start_time": "2022-01-20T12:24:33.445458Z"
    }
   },
   "outputs": [
    {
     "name": "stdout",
     "output_type": "stream",
     "text": [
      "Counter({'barber': 8, 'huge': 4, 'secret': 4, 'person': 3, 'kept': 3, 'Secret': 2, 'His': 2, 'word': 2, 'keeping': 2, 'good': 1, 'Knew': 1, 'The': 1, 'Kept': 1, 'Huge': 1, 'But': 1, 'driving': 1, 'crazy': 1, 'went': 1, 'mountain': 1})\n",
      "<class 'collections.Counter'>\n"
     ]
    }
   ],
   "source": [
    "# 단어 빈도수 사전 생성\n",
    "# word: count\n",
    "\n",
    "vocab = Counter(all_word_list) \n",
    "print(vocab)\n",
    "print(type(vocab))"
   ]
  },
  {
   "cell_type": "code",
   "execution_count": 25,
   "id": "5d5feebd",
   "metadata": {
    "ExecuteTime": {
     "end_time": "2022-01-20T12:24:58.743069Z",
     "start_time": "2022-01-20T12:24:58.727535Z"
    }
   },
   "outputs": [
    {
     "data": {
      "text/plain": [
       "[('barber', 8), ('huge', 4), ('secret', 4), ('person', 3), ('kept', 3)]"
      ]
     },
     "execution_count": 25,
     "metadata": {},
     "output_type": "execute_result"
    }
   ],
   "source": [
    "# 등장 빈도 상위 5개 출력\n",
    "vocab.most_common(5)"
   ]
  },
  {
   "cell_type": "markdown",
   "id": "8c6e8753",
   "metadata": {},
   "source": [
    "## FreqDist\n",
    "- Counter와 같은 기능"
   ]
  },
  {
   "cell_type": "code",
   "execution_count": 26,
   "id": "e32868cc",
   "metadata": {
    "ExecuteTime": {
     "end_time": "2022-01-20T12:26:06.529149Z",
     "start_time": "2022-01-20T12:26:06.521120Z"
    }
   },
   "outputs": [],
   "source": [
    "from nltk import FreqDist"
   ]
  },
  {
   "cell_type": "code",
   "execution_count": 28,
   "id": "ff4305c8",
   "metadata": {
    "ExecuteTime": {
     "end_time": "2022-01-20T12:26:22.728241Z",
     "start_time": "2022-01-20T12:26:22.721266Z"
    }
   },
   "outputs": [],
   "source": [
    "vocab = FreqDist(all_word_list)"
   ]
  },
  {
   "cell_type": "code",
   "execution_count": 31,
   "id": "93a87056",
   "metadata": {
    "ExecuteTime": {
     "end_time": "2022-01-20T12:26:36.986776Z",
     "start_time": "2022-01-20T12:26:36.978654Z"
    }
   },
   "outputs": [
    {
     "name": "stdout",
     "output_type": "stream",
     "text": [
      "<FreqDist with 19 samples and 40 outcomes>\n",
      "<class 'nltk.probability.FreqDist'>\n"
     ]
    }
   ],
   "source": [
    "print(vocab)\n",
    "print(type(vocab))"
   ]
  },
  {
   "cell_type": "code",
   "execution_count": 33,
   "id": "2a4bf9ff",
   "metadata": {
    "ExecuteTime": {
     "end_time": "2022-01-20T12:26:53.335565Z",
     "start_time": "2022-01-20T12:26:53.312282Z"
    }
   },
   "outputs": [
    {
     "data": {
      "text/plain": [
       "[('barber', 8), ('huge', 4), ('secret', 4), ('person', 3), ('kept', 3)]"
      ]
     },
     "execution_count": 33,
     "metadata": {},
     "output_type": "execute_result"
    }
   ],
   "source": [
    "# 등장 빈도 상위 5개 출력\n",
    "vocab.most_common(5)"
   ]
  },
  {
   "cell_type": "markdown",
   "id": "45e828cd",
   "metadata": {},
   "source": [
    "## Keras\n",
    "- 단어 빈도 계산 가능\n",
    "- 빈도 기준 단어에 인덱스 부여 가능"
   ]
  },
  {
   "cell_type": "code",
   "execution_count": 37,
   "id": "deb488a0",
   "metadata": {
    "ExecuteTime": {
     "end_time": "2022-01-20T12:29:58.452617Z",
     "start_time": "2022-01-20T12:29:53.874870Z"
    }
   },
   "outputs": [],
   "source": [
    "from tensorflow.keras.preprocessing.text import Tokenizer"
   ]
  },
  {
   "cell_type": "code",
   "execution_count": 38,
   "id": "8b022798",
   "metadata": {
    "ExecuteTime": {
     "end_time": "2022-01-20T12:30:35.195109Z",
     "start_time": "2022-01-20T12:30:35.186741Z"
    }
   },
   "outputs": [],
   "source": [
    "tokenizer = Tokenizer()\n",
    "\n",
    "tokenizer.fit_on_texts(preprocessed_sentences)"
   ]
  },
  {
   "cell_type": "code",
   "execution_count": 41,
   "id": "020290a9",
   "metadata": {
    "ExecuteTime": {
     "end_time": "2022-01-20T12:31:14.846307Z",
     "start_time": "2022-01-20T12:31:14.821883Z"
    }
   },
   "outputs": [
    {
     "data": {
      "text/plain": [
       "{'barber': 1,\n",
       " 'secret': 2,\n",
       " 'huge': 3,\n",
       " 'kept': 4,\n",
       " 'person': 5,\n",
       " 'his': 6,\n",
       " 'word': 7,\n",
       " 'keeping': 8,\n",
       " 'good': 9,\n",
       " 'knew': 10,\n",
       " 'the': 11,\n",
       " 'but': 12,\n",
       " 'driving': 13,\n",
       " 'crazy': 14,\n",
       " 'went': 15,\n",
       " 'mountain': 16}"
      ]
     },
     "execution_count": 41,
     "metadata": {},
     "output_type": "execute_result"
    }
   ],
   "source": [
    "# word: index\n",
    "# 빈도수가 높으면 작은 인덱스\n",
    "tokenizer.word_index"
   ]
  },
  {
   "cell_type": "code",
   "execution_count": 44,
   "id": "e3da79ca",
   "metadata": {
    "ExecuteTime": {
     "end_time": "2022-01-20T12:31:45.878839Z",
     "start_time": "2022-01-20T12:31:45.854807Z"
    }
   },
   "outputs": [
    {
     "data": {
      "text/plain": [
       "OrderedDict([('barber', 8),\n",
       "             ('person', 3),\n",
       "             ('good', 1),\n",
       "             ('huge', 5),\n",
       "             ('knew', 1),\n",
       "             ('secret', 6),\n",
       "             ('the', 1),\n",
       "             ('kept', 4),\n",
       "             ('his', 2),\n",
       "             ('word', 2),\n",
       "             ('but', 1),\n",
       "             ('keeping', 2),\n",
       "             ('driving', 1),\n",
       "             ('crazy', 1),\n",
       "             ('went', 1),\n",
       "             ('mountain', 1)])"
      ]
     },
     "execution_count": 44,
     "metadata": {},
     "output_type": "execute_result"
    }
   ],
   "source": [
    "tokenizer.word_counts"
   ]
  },
  {
   "cell_type": "code",
   "execution_count": 46,
   "id": "338831f1",
   "metadata": {
    "ExecuteTime": {
     "end_time": "2022-01-20T12:32:11.869087Z",
     "start_time": "2022-01-20T12:32:11.845621Z"
    }
   },
   "outputs": [
    {
     "data": {
      "text/plain": [
       "[[1, 5],\n",
       " [1, 9, 5],\n",
       " [1, 3, 5],\n",
       " [10, 2],\n",
       " [11, 2, 4, 3, 2],\n",
       " [3, 2],\n",
       " [6, 1, 4, 7],\n",
       " [1, 4, 7],\n",
       " [6, 1, 4, 2],\n",
       " [12, 8, 8, 3, 2, 13, 1, 14],\n",
       " [1, 15, 3, 16]]"
      ]
     },
     "execution_count": 46,
     "metadata": {},
     "output_type": "execute_result"
    }
   ],
   "source": [
    "tokenizer.texts_to_sequences(preprocessed_sentences)"
   ]
  },
  {
   "cell_type": "code",
   "execution_count": 47,
   "id": "cd4c9ec3",
   "metadata": {
    "ExecuteTime": {
     "end_time": "2022-01-20T12:33:07.373761Z",
     "start_time": "2022-01-20T12:33:07.365762Z"
    }
   },
   "outputs": [],
   "source": [
    "tokenizer = Tokenizer(num_words = 5 + 1) # 상위 5개 단어만 사용 (인덱스 0은 padding)\n",
    "\n",
    "tokenizer.fit_on_texts(preprocessed_sentences)"
   ]
  },
  {
   "cell_type": "code",
   "execution_count": 54,
   "id": "47ba7af2",
   "metadata": {
    "ExecuteTime": {
     "end_time": "2022-01-20T12:34:23.745003Z",
     "start_time": "2022-01-20T12:34:23.729000Z"
    }
   },
   "outputs": [
    {
     "name": "stdout",
     "output_type": "stream",
     "text": [
      "{'barber': 1, 'secret': 2, 'huge': 3, 'kept': 4, 'person': 5, 'his': 6, 'word': 7, 'keeping': 8, 'good': 9, 'knew': 10, 'the': 11, 'but': 12, 'driving': 13, 'crazy': 14, 'went': 15, 'mountain': 16}\n",
      "\n",
      "OrderedDict([('barber', 8), ('person', 3), ('good', 1), ('huge', 5), ('knew', 1), ('secret', 6), ('the', 1), ('kept', 4), ('his', 2), ('word', 2), ('but', 1), ('keeping', 2), ('driving', 1), ('crazy', 1), ('went', 1), ('mountain', 1)])\n"
     ]
    }
   ],
   "source": [
    "# 위와 동일\n",
    "print(tokenizer.word_index)\n",
    "print()\n",
    "print(tokenizer.word_counts)"
   ]
  },
  {
   "cell_type": "code",
   "execution_count": 56,
   "id": "441b2deb",
   "metadata": {
    "ExecuteTime": {
     "end_time": "2022-01-20T12:34:55.624948Z",
     "start_time": "2022-01-20T12:34:55.601236Z"
    }
   },
   "outputs": [
    {
     "data": {
      "text/plain": [
       "[[1, 5],\n",
       " [1, 5],\n",
       " [1, 3, 5],\n",
       " [2],\n",
       " [2, 4, 3, 2],\n",
       " [3, 2],\n",
       " [1, 4],\n",
       " [1, 4],\n",
       " [1, 4, 2],\n",
       " [3, 2, 1],\n",
       " [1, 3]]"
      ]
     },
     "execution_count": 56,
     "metadata": {},
     "output_type": "execute_result"
    }
   ],
   "source": [
    "# 이때 적용\n",
    "tokenizer.texts_to_sequences(preprocessed_sentences)"
   ]
  },
  {
   "cell_type": "code",
   "execution_count": 57,
   "id": "0a4f3e3b",
   "metadata": {
    "ExecuteTime": {
     "end_time": "2022-01-20T12:36:06.709504Z",
     "start_time": "2022-01-20T12:36:06.701505Z"
    }
   },
   "outputs": [],
   "source": [
    "# OOV(Out of vocabulary)\n",
    "tokenizer = Tokenizer(num_words = 5 + 2, oov_token='OOV') # 상위 5개 단어만 사용 (2는 padding, OOV)\n",
    "\n",
    "tokenizer.fit_on_texts(preprocessed_sentences)"
   ]
  },
  {
   "cell_type": "code",
   "execution_count": 59,
   "id": "5c2f77d5",
   "metadata": {
    "ExecuteTime": {
     "end_time": "2022-01-20T12:36:28.514492Z",
     "start_time": "2022-01-20T12:36:28.506493Z"
    }
   },
   "outputs": [
    {
     "data": {
      "text/plain": [
       "1"
      ]
     },
     "execution_count": 59,
     "metadata": {},
     "output_type": "execute_result"
    }
   ],
   "source": [
    "tokenizer.word_index['OOV']"
   ]
  },
  {
   "cell_type": "code",
   "execution_count": 61,
   "id": "a1694eac",
   "metadata": {
    "ExecuteTime": {
     "end_time": "2022-01-20T12:44:20.344923Z",
     "start_time": "2022-01-20T12:44:20.328652Z"
    }
   },
   "outputs": [
    {
     "data": {
      "text/plain": [
       "[[2, 6],\n",
       " [2, 1, 6],\n",
       " [2, 4, 6],\n",
       " [1, 3],\n",
       " [1, 3, 5, 4, 3],\n",
       " [4, 3],\n",
       " [1, 2, 5, 1],\n",
       " [2, 5, 1],\n",
       " [1, 2, 5, 3],\n",
       " [1, 1, 1, 4, 3, 1, 2, 1],\n",
       " [2, 1, 4, 1]]"
      ]
     },
     "execution_count": 61,
     "metadata": {},
     "output_type": "execute_result"
    }
   ],
   "source": [
    "# 빈도수 기준 상위 5개 단어가 아닌 단어는 OOV 처리(인덱스1)\n",
    "tokenizer.texts_to_sequences(preprocessed_sentences)"
   ]
  },
  {
   "cell_type": "markdown",
   "id": "2eed42f9",
   "metadata": {},
   "source": [
    "# 2-7 패딩\n"
   ]
  },
  {
   "cell_type": "code",
   "execution_count": 62,
   "id": "7416414f",
   "metadata": {
    "ExecuteTime": {
     "end_time": "2022-01-20T12:45:34.302841Z",
     "start_time": "2022-01-20T12:45:34.286608Z"
    }
   },
   "outputs": [],
   "source": [
    "from tensorflow.keras.preprocessing.sequence import pad_sequences"
   ]
  },
  {
   "cell_type": "code",
   "execution_count": 70,
   "id": "8f350f5d",
   "metadata": {
    "ExecuteTime": {
     "end_time": "2022-01-20T12:47:40.677868Z",
     "start_time": "2022-01-20T12:47:40.661624Z"
    }
   },
   "outputs": [],
   "source": [
    "tokenizer = Tokenizer()\n",
    "\n",
    "tokenizer.fit_on_texts(preprocessed_sentences)"
   ]
  },
  {
   "cell_type": "code",
   "execution_count": 71,
   "id": "a54c0fd2",
   "metadata": {
    "ExecuteTime": {
     "end_time": "2022-01-20T12:47:45.088680Z",
     "start_time": "2022-01-20T12:47:45.073457Z"
    }
   },
   "outputs": [],
   "source": [
    "encoded = tokenizer.texts_to_sequences(preprocessed_sentences)"
   ]
  },
  {
   "cell_type": "code",
   "execution_count": 73,
   "id": "c8046d8c",
   "metadata": {
    "ExecuteTime": {
     "end_time": "2022-01-20T12:48:02.428241Z",
     "start_time": "2022-01-20T12:48:02.420241Z"
    }
   },
   "outputs": [
    {
     "data": {
      "text/plain": [
       "array([[ 0,  0,  0,  0,  0,  0,  1,  5],\n",
       "       [ 0,  0,  0,  0,  0,  1,  9,  5],\n",
       "       [ 0,  0,  0,  0,  0,  1,  3,  5],\n",
       "       [ 0,  0,  0,  0,  0,  0, 10,  2],\n",
       "       [ 0,  0,  0, 11,  2,  4,  3,  2],\n",
       "       [ 0,  0,  0,  0,  0,  0,  3,  2],\n",
       "       [ 0,  0,  0,  0,  6,  1,  4,  7],\n",
       "       [ 0,  0,  0,  0,  0,  1,  4,  7],\n",
       "       [ 0,  0,  0,  0,  6,  1,  4,  2],\n",
       "       [12,  8,  8,  3,  2, 13,  1, 14],\n",
       "       [ 0,  0,  0,  0,  1, 15,  3, 16]])"
      ]
     },
     "execution_count": 73,
     "metadata": {},
     "output_type": "execute_result"
    }
   ],
   "source": [
    "# 0을 앞에\n",
    "padded = pad_sequences(encoded)\n",
    "padded"
   ]
  },
  {
   "cell_type": "code",
   "execution_count": 75,
   "id": "f3a9549e",
   "metadata": {
    "ExecuteTime": {
     "end_time": "2022-01-20T12:48:26.049359Z",
     "start_time": "2022-01-20T12:48:26.040341Z"
    }
   },
   "outputs": [
    {
     "data": {
      "text/plain": [
       "array([[ 1,  5,  0,  0,  0,  0,  0,  0],\n",
       "       [ 1,  9,  5,  0,  0,  0,  0,  0],\n",
       "       [ 1,  3,  5,  0,  0,  0,  0,  0],\n",
       "       [10,  2,  0,  0,  0,  0,  0,  0],\n",
       "       [11,  2,  4,  3,  2,  0,  0,  0],\n",
       "       [ 3,  2,  0,  0,  0,  0,  0,  0],\n",
       "       [ 6,  1,  4,  7,  0,  0,  0,  0],\n",
       "       [ 1,  4,  7,  0,  0,  0,  0,  0],\n",
       "       [ 6,  1,  4,  2,  0,  0,  0,  0],\n",
       "       [12,  8,  8,  3,  2, 13,  1, 14],\n",
       "       [ 1, 15,  3, 16,  0,  0,  0,  0]])"
      ]
     },
     "execution_count": 75,
     "metadata": {},
     "output_type": "execute_result"
    }
   ],
   "source": [
    "# 0을 뒤에\n",
    "padded = pad_sequences(encoded, padding='post')\n",
    "padded"
   ]
  },
  {
   "cell_type": "code",
   "execution_count": 77,
   "id": "cd782482",
   "metadata": {
    "ExecuteTime": {
     "end_time": "2022-01-20T12:49:06.741207Z",
     "start_time": "2022-01-20T12:49:06.717077Z"
    }
   },
   "outputs": [
    {
     "data": {
      "text/plain": [
       "array([[ 1,  5,  0,  0,  0],\n",
       "       [ 1,  9,  5,  0,  0],\n",
       "       [ 1,  3,  5,  0,  0],\n",
       "       [10,  2,  0,  0,  0],\n",
       "       [11,  2,  4,  3,  2],\n",
       "       [ 3,  2,  0,  0,  0],\n",
       "       [ 6,  1,  4,  7,  0],\n",
       "       [ 1,  4,  7,  0,  0],\n",
       "       [ 6,  1,  4,  2,  0],\n",
       "       [ 3,  2, 13,  1, 14],\n",
       "       [ 1, 15,  3, 16,  0]])"
      ]
     },
     "execution_count": 77,
     "metadata": {},
     "output_type": "execute_result"
    }
   ],
   "source": [
    "# maxlen으로 인해 잘리는 문장의 경우, 앞단어가 짤림\n",
    "padded = pad_sequences(encoded, padding='post', maxlen=5) \n",
    "padded"
   ]
  },
  {
   "cell_type": "code",
   "execution_count": 78,
   "id": "175c292a",
   "metadata": {
    "ExecuteTime": {
     "end_time": "2022-01-20T12:49:25.986588Z",
     "start_time": "2022-01-20T12:49:25.971566Z"
    }
   },
   "outputs": [
    {
     "data": {
      "text/plain": [
       "array([[ 1,  5,  0,  0,  0],\n",
       "       [ 1,  9,  5,  0,  0],\n",
       "       [ 1,  3,  5,  0,  0],\n",
       "       [10,  2,  0,  0,  0],\n",
       "       [11,  2,  4,  3,  2],\n",
       "       [ 3,  2,  0,  0,  0],\n",
       "       [ 6,  1,  4,  7,  0],\n",
       "       [ 1,  4,  7,  0,  0],\n",
       "       [ 6,  1,  4,  2,  0],\n",
       "       [12,  8,  8,  3,  2],\n",
       "       [ 1, 15,  3, 16,  0]])"
      ]
     },
     "execution_count": 78,
     "metadata": {},
     "output_type": "execute_result"
    }
   ],
   "source": [
    "padded = pad_sequences(encoded, padding='post', maxlen=5, \n",
    "                       truncating='post') # maxlen으로 인해 잘리는 문장의 경우, 뒷단어가 짤림\n",
    "padded"
   ]
  },
  {
   "cell_type": "markdown",
   "id": "9b892f86",
   "metadata": {},
   "source": [
    "# 2-8 One-hot encoding"
   ]
  },
  {
   "cell_type": "code",
   "execution_count": 80,
   "id": "fd460630",
   "metadata": {
    "ExecuteTime": {
     "end_time": "2022-01-20T12:56:57.024095Z",
     "start_time": "2022-01-20T12:56:57.008067Z"
    }
   },
   "outputs": [],
   "source": [
    "text = \"나랑 점심 먹으러 갈래 점심 메뉴는 햄버거 갈래 갈래 햄버거 최고야\""
   ]
  },
  {
   "cell_type": "code",
   "execution_count": 81,
   "id": "2fd3fae3",
   "metadata": {
    "ExecuteTime": {
     "end_time": "2022-01-20T12:57:17.500944Z",
     "start_time": "2022-01-20T12:57:17.492944Z"
    }
   },
   "outputs": [],
   "source": [
    "tokenizer = Tokenizer()\n",
    "tokenizer.fit_on_texts([text])"
   ]
  },
  {
   "cell_type": "code",
   "execution_count": 82,
   "id": "acc6e4ae",
   "metadata": {
    "ExecuteTime": {
     "end_time": "2022-01-20T12:57:57.556934Z",
     "start_time": "2022-01-20T12:57:57.548670Z"
    }
   },
   "outputs": [],
   "source": [
    "sub_text = \"점심 먹으러 갈래 메뉴는 햄버거 최고야\"\n",
    "encoded = tokenizer.texts_to_sequences([sub_text])"
   ]
  },
  {
   "cell_type": "code",
   "execution_count": 84,
   "id": "8c82bb09",
   "metadata": {
    "ExecuteTime": {
     "end_time": "2022-01-20T12:58:38.073149Z",
     "start_time": "2022-01-20T12:58:38.062296Z"
    }
   },
   "outputs": [],
   "source": [
    "from tensorflow.keras.utils import to_categorical"
   ]
  },
  {
   "cell_type": "code",
   "execution_count": 85,
   "id": "8d5880b5",
   "metadata": {
    "ExecuteTime": {
     "end_time": "2022-01-20T12:58:54.697094Z",
     "start_time": "2022-01-20T12:58:54.689633Z"
    }
   },
   "outputs": [],
   "source": [
    "one_hot = to_categorical(encoded)"
   ]
  },
  {
   "cell_type": "code",
   "execution_count": 86,
   "id": "090782c2",
   "metadata": {
    "ExecuteTime": {
     "end_time": "2022-01-20T12:58:57.781647Z",
     "start_time": "2022-01-20T12:58:57.726114Z"
    }
   },
   "outputs": [
    {
     "data": {
      "text/plain": [
       "array([[[0., 0., 1., 0., 0., 0., 0., 0.],\n",
       "        [0., 0., 0., 0., 0., 1., 0., 0.],\n",
       "        [0., 1., 0., 0., 0., 0., 0., 0.],\n",
       "        [0., 0., 0., 0., 0., 0., 1., 0.],\n",
       "        [0., 0., 0., 1., 0., 0., 0., 0.],\n",
       "        [0., 0., 0., 0., 0., 0., 0., 1.]]], dtype=float32)"
      ]
     },
     "execution_count": 86,
     "metadata": {},
     "output_type": "execute_result"
    }
   ],
   "source": [
    "one_hot"
   ]
  }
 ],
 "metadata": {
  "kernelspec": {
   "display_name": "Python 3 (ipykernel)",
   "language": "python",
   "name": "python3"
  },
  "language_info": {
   "codemirror_mode": {
    "name": "ipython",
    "version": 3
   },
   "file_extension": ".py",
   "mimetype": "text/x-python",
   "name": "python",
   "nbconvert_exporter": "python",
   "pygments_lexer": "ipython3",
   "version": "3.9.7"
  },
  "toc": {
   "base_numbering": 1,
   "nav_menu": {},
   "number_sections": false,
   "sideBar": true,
   "skip_h1_title": false,
   "title_cell": "Table of Contents",
   "title_sidebar": "Contents",
   "toc_cell": false,
   "toc_position": {
    "height": "calc(100% - 180px)",
    "left": "10px",
    "top": "150px",
    "width": "280.741px"
   },
   "toc_section_display": true,
   "toc_window_display": true
  }
 },
 "nbformat": 4,
 "nbformat_minor": 5
}
