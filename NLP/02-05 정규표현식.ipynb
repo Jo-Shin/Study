{
 "cells": [
  {
   "cell_type": "code",
   "execution_count": 2,
   "id": "842f8526",
   "metadata": {
    "ExecuteTime": {
     "end_time": "2022-01-20T11:12:34.212704Z",
     "start_time": "2022-01-20T11:12:34.204705Z"
    }
   },
   "outputs": [],
   "source": [
    "import numpy as np\n",
    "import pandas as pd\n",
    "import re"
   ]
  },
  {
   "cell_type": "markdown",
   "id": "1019b39c",
   "metadata": {},
   "source": [
    "# 정규 표현식 문법"
   ]
  },
  {
   "cell_type": "markdown",
   "id": "aa38f411",
   "metadata": {},
   "source": [
    "## .기호\n",
    "한 개의 임의의 문자 "
   ]
  },
  {
   "cell_type": "code",
   "execution_count": 3,
   "id": "e16aac5f",
   "metadata": {
    "ExecuteTime": {
     "end_time": "2022-01-20T11:14:31.978645Z",
     "start_time": "2022-01-20T11:14:31.974640Z"
    }
   },
   "outputs": [],
   "source": [
    "r = re.compile('a.c')\n",
    "r.search('kkk') # unmatch: 아무런 결과 출력X"
   ]
  },
  {
   "cell_type": "code",
   "execution_count": 4,
   "id": "2d2d754f",
   "metadata": {
    "ExecuteTime": {
     "end_time": "2022-01-20T11:14:38.169232Z",
     "start_time": "2022-01-20T11:14:38.145643Z"
    }
   },
   "outputs": [
    {
     "data": {
      "text/plain": [
       "<re.Match object; span=(0, 3), match='abc'>"
      ]
     },
     "execution_count": 4,
     "metadata": {},
     "output_type": "execute_result"
    }
   ],
   "source": [
    "r.search('abc') # match"
   ]
  },
  {
   "cell_type": "markdown",
   "id": "d76e4b29",
   "metadata": {},
   "source": [
    "## ?기호\n",
    "앞의 문자가 존재할 수도/존재하지 않을 수도 있음"
   ]
  },
  {
   "cell_type": "code",
   "execution_count": 7,
   "id": "b5f3c5d7",
   "metadata": {
    "ExecuteTime": {
     "end_time": "2022-01-20T11:15:47.033942Z",
     "start_time": "2022-01-20T11:15:47.015293Z"
    }
   },
   "outputs": [],
   "source": [
    "r = re.compile('ab?c')\n",
    "r.search('abbc')"
   ]
  },
  {
   "cell_type": "code",
   "execution_count": 9,
   "id": "33c8b5eb",
   "metadata": {
    "ExecuteTime": {
     "end_time": "2022-01-20T11:16:00.721881Z",
     "start_time": "2022-01-20T11:16:00.698597Z"
    }
   },
   "outputs": [
    {
     "data": {
      "text/plain": [
       "<re.Match object; span=(0, 3), match='abc'>"
      ]
     },
     "execution_count": 9,
     "metadata": {},
     "output_type": "execute_result"
    }
   ],
   "source": [
    "r.search('abc')"
   ]
  },
  {
   "cell_type": "code",
   "execution_count": 11,
   "id": "7adfeb15",
   "metadata": {
    "ExecuteTime": {
     "end_time": "2022-01-20T11:16:23.672049Z",
     "start_time": "2022-01-20T11:16:23.661870Z"
    }
   },
   "outputs": [
    {
     "data": {
      "text/plain": [
       "<re.Match object; span=(0, 2), match='ac'>"
      ]
     },
     "execution_count": 11,
     "metadata": {},
     "output_type": "execute_result"
    }
   ],
   "source": [
    "r.search('ac')"
   ]
  },
  {
   "cell_type": "markdown",
   "id": "aafba288",
   "metadata": {},
   "source": [
    "## *기호\n",
    "앞의 문자가 0개 이상임"
   ]
  },
  {
   "cell_type": "code",
   "execution_count": 13,
   "id": "63956d6e",
   "metadata": {
    "ExecuteTime": {
     "end_time": "2022-01-20T11:17:42.672857Z",
     "start_time": "2022-01-20T11:17:42.664851Z"
    }
   },
   "outputs": [],
   "source": [
    "r = re.compile('ab*c')\n",
    "r.search('a')"
   ]
  },
  {
   "cell_type": "code",
   "execution_count": 14,
   "id": "fb56a377",
   "metadata": {
    "ExecuteTime": {
     "end_time": "2022-01-20T11:17:49.816885Z",
     "start_time": "2022-01-20T11:17:49.808886Z"
    }
   },
   "outputs": [
    {
     "data": {
      "text/plain": [
       "<re.Match object; span=(0, 2), match='ac'>"
      ]
     },
     "execution_count": 14,
     "metadata": {},
     "output_type": "execute_result"
    }
   ],
   "source": [
    "r.search('ac')"
   ]
  },
  {
   "cell_type": "code",
   "execution_count": 15,
   "id": "b44aa639",
   "metadata": {
    "ExecuteTime": {
     "end_time": "2022-01-20T11:17:58.471070Z",
     "start_time": "2022-01-20T11:17:58.447476Z"
    }
   },
   "outputs": [
    {
     "data": {
      "text/plain": [
       "<re.Match object; span=(0, 3), match='abc'>"
      ]
     },
     "execution_count": 15,
     "metadata": {},
     "output_type": "execute_result"
    }
   ],
   "source": [
    "r.search('abc')"
   ]
  },
  {
   "cell_type": "code",
   "execution_count": 17,
   "id": "04af9bec",
   "metadata": {
    "ExecuteTime": {
     "end_time": "2022-01-20T11:18:13.547426Z",
     "start_time": "2022-01-20T11:18:13.524677Z"
    }
   },
   "outputs": [
    {
     "data": {
      "text/plain": [
       "<re.Match object; span=(0, 6), match='abbbbc'>"
      ]
     },
     "execution_count": 17,
     "metadata": {},
     "output_type": "execute_result"
    }
   ],
   "source": [
    "r.search('abbbbc')"
   ]
  },
  {
   "cell_type": "markdown",
   "id": "74bb4c5b",
   "metadata": {},
   "source": [
    "## +기호\n",
    "앞의 문자가 1개 이상"
   ]
  },
  {
   "cell_type": "code",
   "execution_count": 18,
   "id": "19b69e6c",
   "metadata": {
    "ExecuteTime": {
     "end_time": "2022-01-20T11:18:50.282888Z",
     "start_time": "2022-01-20T11:18:50.274350Z"
    }
   },
   "outputs": [],
   "source": [
    "r = re.compile('ab+c')\n",
    "r.search('ac')"
   ]
  },
  {
   "cell_type": "code",
   "execution_count": 19,
   "id": "2cfcdb27",
   "metadata": {
    "ExecuteTime": {
     "end_time": "2022-01-20T11:18:57.647709Z",
     "start_time": "2022-01-20T11:18:57.631678Z"
    }
   },
   "outputs": [
    {
     "data": {
      "text/plain": [
       "<re.Match object; span=(0, 3), match='abc'>"
      ]
     },
     "execution_count": 19,
     "metadata": {},
     "output_type": "execute_result"
    }
   ],
   "source": [
    "r.search('abc')"
   ]
  },
  {
   "cell_type": "code",
   "execution_count": 21,
   "id": "d2195cf7",
   "metadata": {
    "ExecuteTime": {
     "end_time": "2022-01-20T11:19:08.701054Z",
     "start_time": "2022-01-20T11:19:08.677257Z"
    }
   },
   "outputs": [
    {
     "data": {
      "text/plain": [
       "<re.Match object; span=(0, 6), match='abbbbc'>"
      ]
     },
     "execution_count": 21,
     "metadata": {},
     "output_type": "execute_result"
    }
   ],
   "source": [
    "r.search('abbbbc')"
   ]
  },
  {
   "cell_type": "markdown",
   "id": "81a292cd",
   "metadata": {},
   "source": [
    "## ^기호\n",
    "^ab: ab로 시작됨"
   ]
  },
  {
   "cell_type": "code",
   "execution_count": 23,
   "id": "b10778c1",
   "metadata": {
    "ExecuteTime": {
     "end_time": "2022-01-20T11:19:57.988815Z",
     "start_time": "2022-01-20T11:19:57.980886Z"
    }
   },
   "outputs": [],
   "source": [
    "r = re.compile('^ab')\n",
    "\n",
    "r.search('bbc')\n",
    "r.search('zab')"
   ]
  },
  {
   "cell_type": "code",
   "execution_count": 24,
   "id": "86da634d",
   "metadata": {
    "ExecuteTime": {
     "end_time": "2022-01-20T11:20:07.878714Z",
     "start_time": "2022-01-20T11:20:07.854834Z"
    }
   },
   "outputs": [
    {
     "data": {
      "text/plain": [
       "<re.Match object; span=(0, 2), match='ab'>"
      ]
     },
     "execution_count": 24,
     "metadata": {},
     "output_type": "execute_result"
    }
   ],
   "source": [
    "r.search('abc')"
   ]
  },
  {
   "cell_type": "code",
   "execution_count": 26,
   "id": "22864c1a",
   "metadata": {
    "ExecuteTime": {
     "end_time": "2022-01-20T11:21:03.142720Z",
     "start_time": "2022-01-20T11:21:03.119499Z"
    }
   },
   "outputs": [],
   "source": [
    "r.search('acb')"
   ]
  },
  {
   "cell_type": "markdown",
   "id": "0b12726d",
   "metadata": {},
   "source": [
    "## 문자{숫자}\n",
    "문자가 숫자만큼 반복됨"
   ]
  },
  {
   "cell_type": "code",
   "execution_count": 27,
   "id": "2c13967f",
   "metadata": {
    "ExecuteTime": {
     "end_time": "2022-01-20T11:21:59.418007Z",
     "start_time": "2022-01-20T11:21:59.402850Z"
    }
   },
   "outputs": [],
   "source": [
    "r  = re.compile('ab{2}c')\n",
    "\n",
    "r.search('ac')\n",
    "r.search('abc')"
   ]
  },
  {
   "cell_type": "code",
   "execution_count": 29,
   "id": "6a143ee4",
   "metadata": {
    "ExecuteTime": {
     "end_time": "2022-01-20T11:22:11.230003Z",
     "start_time": "2022-01-20T11:22:11.214850Z"
    }
   },
   "outputs": [
    {
     "data": {
      "text/plain": [
       "<re.Match object; span=(0, 4), match='abbc'>"
      ]
     },
     "execution_count": 29,
     "metadata": {},
     "output_type": "execute_result"
    }
   ],
   "source": [
    "r.search('abbc')"
   ]
  },
  {
   "cell_type": "markdown",
   "id": "ba44dfd7",
   "metadata": {},
   "source": [
    "## 문자{숫자1, 숫자2}\n",
    "숫자1 이상 숫자2 이하만큼 문자가 반복됨"
   ]
  },
  {
   "cell_type": "code",
   "execution_count": 30,
   "id": "d4341a5b",
   "metadata": {
    "ExecuteTime": {
     "end_time": "2022-01-20T11:26:44.932715Z",
     "start_time": "2022-01-20T11:26:44.924716Z"
    }
   },
   "outputs": [],
   "source": [
    "r = re.compile('ab{2,8}c')\n",
    "\n",
    "r.search('ac')\n",
    "r.search('abc')"
   ]
  },
  {
   "cell_type": "code",
   "execution_count": 32,
   "id": "fa364eca",
   "metadata": {
    "ExecuteTime": {
     "end_time": "2022-01-20T11:26:51.813678Z",
     "start_time": "2022-01-20T11:26:51.789793Z"
    }
   },
   "outputs": [
    {
     "data": {
      "text/plain": [
       "<re.Match object; span=(0, 4), match='abbc'>"
      ]
     },
     "execution_count": 32,
     "metadata": {},
     "output_type": "execute_result"
    }
   ],
   "source": [
    "r.search('abbc')"
   ]
  },
  {
   "cell_type": "code",
   "execution_count": 34,
   "id": "eea7e03a",
   "metadata": {
    "ExecuteTime": {
     "end_time": "2022-01-20T11:26:57.382698Z",
     "start_time": "2022-01-20T11:26:57.359395Z"
    }
   },
   "outputs": [
    {
     "data": {
      "text/plain": [
       "<re.Match object; span=(0, 8), match='abbbbbbc'>"
      ]
     },
     "execution_count": 34,
     "metadata": {},
     "output_type": "execute_result"
    }
   ],
   "source": [
    "r.search('abbbbbbc')"
   ]
  },
  {
   "cell_type": "markdown",
   "id": "b3a1e6ac",
   "metadata": {},
   "source": [
    "## 문자{숫자,}\n",
    "문자를 숫자 이상만큼 반복"
   ]
  },
  {
   "cell_type": "code",
   "execution_count": 37,
   "id": "3d1225dc",
   "metadata": {
    "ExecuteTime": {
     "end_time": "2022-01-20T11:28:10.721834Z",
     "start_time": "2022-01-20T11:28:10.706118Z"
    }
   },
   "outputs": [],
   "source": [
    "r = re.compile('a{2,}bc')\n",
    "\n",
    "r.search('bc')\n",
    "r.search('aa')\n",
    "r.search('abc')"
   ]
  },
  {
   "cell_type": "code",
   "execution_count": 39,
   "id": "fa92f3ad",
   "metadata": {
    "ExecuteTime": {
     "end_time": "2022-01-20T11:28:21.188374Z",
     "start_time": "2022-01-20T11:28:21.164654Z"
    }
   },
   "outputs": [
    {
     "data": {
      "text/plain": [
       "<re.Match object; span=(0, 4), match='aabc'>"
      ]
     },
     "execution_count": 39,
     "metadata": {},
     "output_type": "execute_result"
    }
   ],
   "source": [
    "r.search('aabc')"
   ]
  },
  {
   "cell_type": "markdown",
   "id": "459f4a66",
   "metadata": {},
   "source": [
    "## []\n",
    "- \\[ab\\]: a 또는 b와 매치\n",
    "- \\[a-zA-Z\\]: 알파벳 전부를 의미"
   ]
  },
  {
   "cell_type": "code",
   "execution_count": 40,
   "id": "3b34673d",
   "metadata": {
    "ExecuteTime": {
     "end_time": "2022-01-20T11:29:31.516516Z",
     "start_time": "2022-01-20T11:29:31.508517Z"
    }
   },
   "outputs": [],
   "source": [
    "r = re.compile('[abc]')\n",
    "r.search('zzz')"
   ]
  },
  {
   "cell_type": "code",
   "execution_count": 41,
   "id": "de58f161",
   "metadata": {
    "ExecuteTime": {
     "end_time": "2022-01-20T11:29:35.629593Z",
     "start_time": "2022-01-20T11:29:35.605830Z"
    }
   },
   "outputs": [
    {
     "data": {
      "text/plain": [
       "<re.Match object; span=(0, 1), match='a'>"
      ]
     },
     "execution_count": 41,
     "metadata": {},
     "output_type": "execute_result"
    }
   ],
   "source": [
    "r.search('a')"
   ]
  },
  {
   "cell_type": "code",
   "execution_count": 42,
   "id": "4c5d676f",
   "metadata": {
    "ExecuteTime": {
     "end_time": "2022-01-20T11:30:07.412146Z",
     "start_time": "2022-01-20T11:30:07.404148Z"
    }
   },
   "outputs": [
    {
     "data": {
      "text/plain": [
       "<re.Match object; span=(0, 1), match='a'>"
      ]
     },
     "execution_count": 42,
     "metadata": {},
     "output_type": "execute_result"
    }
   ],
   "source": [
    "r.search('aaaaaaa')"
   ]
  },
  {
   "cell_type": "code",
   "execution_count": 45,
   "id": "d814d0e3",
   "metadata": {
    "ExecuteTime": {
     "end_time": "2022-01-20T11:31:04.264655Z",
     "start_time": "2022-01-20T11:31:04.256639Z"
    }
   },
   "outputs": [
    {
     "data": {
      "text/plain": [
       "<re.Match object; span=(0, 1), match='b'>"
      ]
     },
     "execution_count": 45,
     "metadata": {},
     "output_type": "execute_result"
    }
   ],
   "source": [
    "r.search('baaaaaac') "
   ]
  },
  {
   "cell_type": "markdown",
   "id": "b9ccda64",
   "metadata": {},
   "source": [
    "## [^]\n",
    "[^abc]: a, b, c가 아닌 모든 문자"
   ]
  },
  {
   "cell_type": "code",
   "execution_count": 46,
   "id": "3bad097b",
   "metadata": {
    "ExecuteTime": {
     "end_time": "2022-01-20T11:32:18.674535Z",
     "start_time": "2022-01-20T11:32:18.660532Z"
    }
   },
   "outputs": [],
   "source": [
    "r = re.compile('[^abc]')\n",
    "\n",
    "r.search('a')\n",
    "r.search('ab')\n",
    "r.search('b')"
   ]
  },
  {
   "cell_type": "code",
   "execution_count": 47,
   "id": "bb9696db",
   "metadata": {
    "ExecuteTime": {
     "end_time": "2022-01-20T11:32:24.272140Z",
     "start_time": "2022-01-20T11:32:24.248233Z"
    }
   },
   "outputs": [
    {
     "data": {
      "text/plain": [
       "<re.Match object; span=(0, 1), match='d'>"
      ]
     },
     "execution_count": 47,
     "metadata": {},
     "output_type": "execute_result"
    }
   ],
   "source": [
    "r.search('d')"
   ]
  },
  {
   "cell_type": "markdown",
   "id": "4538f34e",
   "metadata": {},
   "source": [
    "# 정규 표현식 함수"
   ]
  },
  {
   "cell_type": "markdown",
   "id": "e109f2f8",
   "metadata": {},
   "source": [
    "## re.match()와 re.search()\n",
    "---\n",
    "**search**\n",
    "- 문자열 전체에 대해 정규표현식이 매치하는 지 탐색\n",
    "\n",
    "**match**\n",
    "- 문자열의 시작에 대해 정규표현식이 매치하는 지 탐색"
   ]
  },
  {
   "cell_type": "code",
   "execution_count": 55,
   "id": "f18e29b9",
   "metadata": {
    "ExecuteTime": {
     "end_time": "2022-01-20T11:39:05.008586Z",
     "start_time": "2022-01-20T11:39:05.000567Z"
    }
   },
   "outputs": [
    {
     "name": "stdout",
     "output_type": "stream",
     "text": [
      "None\n",
      "<re.Match object; span=(0, 3), match='abc'>\n"
     ]
    }
   ],
   "source": [
    "r = re.compile('ab.')\n",
    "print(r.match('kkkabc'))\n",
    "print(r.match('abckkk'))"
   ]
  },
  {
   "cell_type": "code",
   "execution_count": 50,
   "id": "588af52b",
   "metadata": {
    "ExecuteTime": {
     "end_time": "2022-01-20T11:37:12.209726Z",
     "start_time": "2022-01-20T11:37:12.186744Z"
    }
   },
   "outputs": [
    {
     "data": {
      "text/plain": [
       "<re.Match object; span=(3, 6), match='abc'>"
      ]
     },
     "execution_count": 50,
     "metadata": {},
     "output_type": "execute_result"
    }
   ],
   "source": [
    "r.search('kkkabc')"
   ]
  },
  {
   "cell_type": "markdown",
   "id": "50b0d6ad",
   "metadata": {},
   "source": [
    "단, **search**는 매치되는 문자열이 여러 개일 경우 첫 문자열만 반환함"
   ]
  },
  {
   "cell_type": "code",
   "execution_count": 56,
   "id": "7fa6879b",
   "metadata": {
    "ExecuteTime": {
     "end_time": "2022-01-20T11:39:12.610132Z",
     "start_time": "2022-01-20T11:39:12.602081Z"
    }
   },
   "outputs": [
    {
     "name": "stdout",
     "output_type": "stream",
     "text": [
      "<re.Match object; span=(0, 3), match='abc'>\n",
      "<re.Match object; span=(0, 3), match='abd'>\n"
     ]
    }
   ],
   "source": [
    "print(r.search('abcKKabd')) # abc\n",
    "print(r.search('abdKKabc')) # abd"
   ]
  },
  {
   "cell_type": "markdown",
   "id": "156ecc90",
   "metadata": {},
   "source": [
    "## re.split()"
   ]
  },
  {
   "cell_type": "code",
   "execution_count": 58,
   "id": "a8edf7d3",
   "metadata": {
    "ExecuteTime": {
     "end_time": "2022-01-20T11:40:15.867953Z",
     "start_time": "2022-01-20T11:40:15.859937Z"
    }
   },
   "outputs": [
    {
     "data": {
      "text/plain": [
       "['I', 'have', 'apple.']"
      ]
     },
     "execution_count": 58,
     "metadata": {},
     "output_type": "execute_result"
    }
   ],
   "source": [
    "text = 'I have apple.'\n",
    "re.split(' ',text)"
   ]
  },
  {
   "cell_type": "code",
   "execution_count": 62,
   "id": "c15169e5",
   "metadata": {
    "ExecuteTime": {
     "end_time": "2022-01-20T11:41:14.123938Z",
     "start_time": "2022-01-20T11:41:14.115940Z"
    }
   },
   "outputs": [
    {
     "data": {
      "text/plain": [
       "['I', 'have', 'apple.']"
      ]
     },
     "execution_count": 62,
     "metadata": {},
     "output_type": "execute_result"
    }
   ],
   "source": [
    "text = '''I\n",
    "have\n",
    "apple.'''\n",
    "\n",
    "re.split('\\n',text)"
   ]
  },
  {
   "cell_type": "markdown",
   "id": "4bff578d",
   "metadata": {},
   "source": [
    "## re.findall()\n",
    "정규 표현식과 매치되는 **모든** 문자열을 **리스트**로 반환"
   ]
  },
  {
   "cell_type": "code",
   "execution_count": 63,
   "id": "ba32ca3f",
   "metadata": {
    "ExecuteTime": {
     "end_time": "2022-01-20T11:43:47.444561Z",
     "start_time": "2022-01-20T11:43:47.428552Z"
    }
   },
   "outputs": [
    {
     "data": {
      "text/plain": [
       "['010', '1234', '5678']"
      ]
     },
     "execution_count": 63,
     "metadata": {},
     "output_type": "execute_result"
    }
   ],
   "source": [
    "text = '010-1234-5678'\n",
    "\n",
    "re.findall('\\d+',text)"
   ]
  },
  {
   "cell_type": "code",
   "execution_count": 65,
   "id": "e08e7ebf",
   "metadata": {
    "ExecuteTime": {
     "end_time": "2022-01-20T11:44:08.503985Z",
     "start_time": "2022-01-20T11:44:08.495984Z"
    }
   },
   "outputs": [
    {
     "data": {
      "text/plain": [
       "[]"
      ]
     },
     "execution_count": 65,
     "metadata": {},
     "output_type": "execute_result"
    }
   ],
   "source": [
    "re.findall('ice cream',text)"
   ]
  },
  {
   "cell_type": "markdown",
   "id": "aebbd9ce",
   "metadata": {},
   "source": [
    "## re.sub()\n",
    "re.sub( pattern, replace, text ) "
   ]
  },
  {
   "cell_type": "code",
   "execution_count": 67,
   "id": "f171ebe1",
   "metadata": {
    "ExecuteTime": {
     "end_time": "2022-01-20T11:48:40.841901Z",
     "start_time": "2022-01-20T11:48:40.818935Z"
    }
   },
   "outputs": [
    {
     "name": "stdout",
     "output_type": "stream",
     "text": [
      "Regular expression   A regular expression  regex or regexp     sometimes called a rational expression        is  in theoretical computer science and formal language theory  a sequence of characters that define a search pattern \n"
     ]
    }
   ],
   "source": [
    "text = \"Regular expression : A regular expression, regex or regexp[1] (sometimes called a rational expression)[2][3] is, in theoretical computer science and formal language theory, a sequence of characters that define a search pattern.\"\n",
    "\n",
    "preprocessed_text = re.sub('[^a-zA-Z]', ' ', text)\n",
    "print(preprocessed_text)"
   ]
  },
  {
   "cell_type": "markdown",
   "id": "f47ba64d",
   "metadata": {},
   "source": [
    "# 예제"
   ]
  },
  {
   "cell_type": "code",
   "execution_count": 68,
   "id": "42d440dc",
   "metadata": {
    "ExecuteTime": {
     "end_time": "2022-01-20T11:48:48.780317Z",
     "start_time": "2022-01-20T11:48:48.772524Z"
    }
   },
   "outputs": [],
   "source": [
    "text = \"\"\"100 John    PROF\n",
    "101 James   STUD\n",
    "102 Mac   STUD\"\"\""
   ]
  },
  {
   "cell_type": "code",
   "execution_count": 72,
   "id": "4ecfe8bc",
   "metadata": {
    "ExecuteTime": {
     "end_time": "2022-01-20T11:49:54.319298Z",
     "start_time": "2022-01-20T11:49:54.295273Z"
    }
   },
   "outputs": [
    {
     "data": {
      "text/plain": [
       "['100', 'John', 'PROF', '101', 'James', 'STUD', '102', 'Mac', 'STUD']"
      ]
     },
     "execution_count": 72,
     "metadata": {},
     "output_type": "execute_result"
    }
   ],
   "source": [
    "# 공백 기준 자르기\n",
    "re.split('\\s+',text)"
   ]
  },
  {
   "cell_type": "code",
   "execution_count": 74,
   "id": "3ffc161d",
   "metadata": {
    "ExecuteTime": {
     "end_time": "2022-01-20T11:50:25.255830Z",
     "start_time": "2022-01-20T11:50:25.241277Z"
    }
   },
   "outputs": [
    {
     "data": {
      "text/plain": [
       "['100', '101', '102']"
      ]
     },
     "execution_count": 74,
     "metadata": {},
     "output_type": "execute_result"
    }
   ],
   "source": [
    "# 숫자 추출\n",
    "re.findall('\\d+',text)"
   ]
  },
  {
   "cell_type": "code",
   "execution_count": 76,
   "id": "c3c82374",
   "metadata": {
    "ExecuteTime": {
     "end_time": "2022-01-20T11:50:53.822590Z",
     "start_time": "2022-01-20T11:50:53.814588Z"
    }
   },
   "outputs": [
    {
     "data": {
      "text/plain": [
       "['J', 'P', 'R', 'O', 'F', 'J', 'S', 'T', 'U', 'D', 'M', 'S', 'T', 'U', 'D']"
      ]
     },
     "execution_count": 76,
     "metadata": {},
     "output_type": "execute_result"
    }
   ],
   "source": [
    "# 대문자\n",
    "re.findall('[A-Z]',text)"
   ]
  },
  {
   "cell_type": "code",
   "execution_count": 78,
   "id": "766edf53",
   "metadata": {
    "ExecuteTime": {
     "end_time": "2022-01-20T11:51:21.773069Z",
     "start_time": "2022-01-20T11:51:21.764246Z"
    }
   },
   "outputs": [
    {
     "data": {
      "text/plain": [
       "['PROF', 'STUD', 'STUD']"
      ]
     },
     "execution_count": 78,
     "metadata": {},
     "output_type": "execute_result"
    }
   ],
   "source": [
    "# 대문자가 연속으로 4번 등장하는 경우\n",
    "re.findall('[A-Z]{4}',text)"
   ]
  },
  {
   "cell_type": "code",
   "execution_count": 79,
   "id": "7f9e3970",
   "metadata": {
    "ExecuteTime": {
     "end_time": "2022-01-20T11:51:50.449922Z",
     "start_time": "2022-01-20T11:51:50.441920Z"
    }
   },
   "outputs": [
    {
     "data": {
      "text/plain": [
       "['John', 'James', 'Mac']"
      ]
     },
     "execution_count": 79,
     "metadata": {},
     "output_type": "execute_result"
    }
   ],
   "source": [
    "# 대문자 다음 소문자\n",
    "re.findall('[A-Z][a-z]+',text)"
   ]
  }
 ],
 "metadata": {
  "kernelspec": {
   "display_name": "Python 3 (ipykernel)",
   "language": "python",
   "name": "python3"
  },
  "language_info": {
   "codemirror_mode": {
    "name": "ipython",
    "version": 3
   },
   "file_extension": ".py",
   "mimetype": "text/x-python",
   "name": "python",
   "nbconvert_exporter": "python",
   "pygments_lexer": "ipython3",
   "version": "3.9.7"
  },
  "toc": {
   "base_numbering": 1,
   "nav_menu": {},
   "number_sections": true,
   "sideBar": true,
   "skip_h1_title": false,
   "title_cell": "Table of Contents",
   "title_sidebar": "Contents",
   "toc_cell": false,
   "toc_position": {},
   "toc_section_display": true,
   "toc_window_display": true
  }
 },
 "nbformat": 4,
 "nbformat_minor": 5
}
