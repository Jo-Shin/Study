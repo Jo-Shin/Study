{
 "cells": [
  {
   "cell_type": "markdown",
   "id": "0515abc6",
   "metadata": {},
   "source": [
    "# 4-2. Bow\n",
    "- Bag of Words\n",
    "- 해당 문서 내에서 단어들의 등장 빈도 표기"
   ]
  },
  {
   "cell_type": "code",
   "execution_count": 2,
   "id": "09c002b3",
   "metadata": {
    "ExecuteTime": {
     "end_time": "2022-01-21T04:50:38.174644Z",
     "start_time": "2022-01-21T04:50:38.165990Z"
    }
   },
   "outputs": [],
   "source": [
    "from sklearn.feature_extraction.text import CountVectorizer\n",
    "import numpy as np"
   ]
  },
  {
   "cell_type": "markdown",
   "id": "1c056867",
   "metadata": {},
   "source": [
    " - bow에는 vector.vocabulary_의 인덱스 순서대로 빈도수가 표기됨.\n",
    " - 즉, love와 you는 2번 씩 등장함"
   ]
  },
  {
   "cell_type": "code",
   "execution_count": 17,
   "id": "7939ffb9",
   "metadata": {
    "ExecuteTime": {
     "end_time": "2022-01-21T04:58:42.125398Z",
     "start_time": "2022-01-21T04:58:42.109211Z"
    }
   },
   "outputs": [
    {
     "name": "stdout",
     "output_type": "stream",
     "text": [
      "bag of words vector:  [[1 1 2 1 2 1]]\n",
      "voacbulary:  {'you': 4, 'know': 1, 'want': 3, 'your': 5, 'love': 2, 'because': 0}\n",
      "[('because', 0), ('know', 1), ('love', 2), ('want', 3), ('you', 4), ('your', 5)]\n"
     ]
    }
   ],
   "source": [
    "corpus = ['you know I want your love. because I love you']\n",
    "vector = CountVectorizer()\n",
    "\n",
    "# 코퍼스로부터 각 단어의 빈도수를 기록\n",
    "print('bag of words vector: ', vector.fit_transform(corpus).toarray())\n",
    "\n",
    "# 각 단어의 인덱스\n",
    "print('voacbulary: ', vector.vocabulary_)\n",
    "print(sorted(vector.vocabulary_.items(), key=lambda x:x[1]))"
   ]
  },
  {
   "cell_type": "markdown",
   "id": "5ef21517",
   "metadata": {},
   "source": [
    "불용어 제외 가능"
   ]
  },
  {
   "cell_type": "code",
   "execution_count": 19,
   "id": "74e5cd1d",
   "metadata": {
    "ExecuteTime": {
     "end_time": "2022-01-21T05:00:52.811382Z",
     "start_time": "2022-01-21T05:00:52.794757Z"
    }
   },
   "outputs": [],
   "source": [
    "vector2 = CountVectorizer(stop_words='english') # 자체 불용어\n",
    "\n",
    "from nltk.corpus import stopwords\n",
    "stop_words = stopwords.words('english')\n",
    "vector3 = CountVectorizer(stop_words=stop_words) # nltk 불용어"
   ]
  },
  {
   "cell_type": "markdown",
   "id": "5b157a26",
   "metadata": {},
   "source": [
    "# 4-3. DTM (Document-Term Matrix)\n",
    "- 문서 단어 행렬\n",
    "- TF(문서 내 단어 등장 횟수)가 원소\n",
    "\n",
    "# 4-4.Tf-IDF"
   ]
  },
  {
   "cell_type": "code",
   "execution_count": 36,
   "id": "e1d753a5",
   "metadata": {
    "ExecuteTime": {
     "end_time": "2022-01-21T05:14:59.393807Z",
     "start_time": "2022-01-21T05:14:59.370190Z"
    }
   },
   "outputs": [
    {
     "name": "stdout",
     "output_type": "stream",
     "text": [
      "[[0 1 0 1 0 1 0 1 1]\n",
      " [0 0 1 0 0 0 0 1 0]\n",
      " [1 0 0 0 1 0 1 0 0]]\n",
      "{'you': 7, 'know': 1, 'want': 5, 'your': 8, 'love': 3, 'like': 2, 'what': 6, 'should': 4, 'do': 0}\n"
     ]
    }
   ],
   "source": [
    "from sklearn.feature_extraction.text import CountVectorizer\n",
    "\n",
    "corpus = ['you know I want your love','I like you','what should I do']\n",
    "\n",
    "vector = CountVectorizer()\n",
    "\n",
    "# DTM\n",
    "dtm = vector.fit_transform(corpus).toarray()\n",
    "print(dtm)\n",
    "\n",
    "# dictionary\n",
    "print(vector.vocabulary_)"
   ]
  },
  {
   "cell_type": "code",
   "execution_count": 38,
   "id": "7f0b9886",
   "metadata": {
    "ExecuteTime": {
     "end_time": "2022-01-21T05:15:31.661052Z",
     "start_time": "2022-01-21T05:15:31.653218Z"
    }
   },
   "outputs": [],
   "source": [
    "from sklearn.feature_extraction.text import TfidfVectorizer"
   ]
  },
  {
   "cell_type": "code",
   "execution_count": 42,
   "id": "0a0538b4",
   "metadata": {
    "ExecuteTime": {
     "end_time": "2022-01-21T05:19:06.920693Z",
     "start_time": "2022-01-21T05:19:06.904607Z"
    }
   },
   "outputs": [
    {
     "name": "stdout",
     "output_type": "stream",
     "text": [
      "[[0.         0.46735098 0.         0.46735098 0.         0.46735098\n",
      "  0.         0.35543247 0.46735098]\n",
      " [0.         0.         0.79596054 0.         0.         0.\n",
      "  0.         0.60534851 0.        ]\n",
      " [0.57735027 0.         0.         0.         0.57735027 0.\n",
      "  0.57735027 0.         0.        ]]\n",
      "{'you': 7, 'know': 1, 'want': 5, 'your': 8, 'love': 3, 'like': 2, 'what': 6, 'should': 4, 'do': 0}\n"
     ]
    }
   ],
   "source": [
    "corpus = ['you know I want your love','I like you','what should I do']\n",
    "\n",
    "tfidfv = TfidfVectorizer()\n",
    "\n",
    "# tf-idf\n",
    "print(tfidfv.fit_transform(corpus).toarray())\n",
    "\n",
    "# dictionary\n",
    "print(tfidfv.vocabulary_)"
   ]
  }
 ],
 "metadata": {
  "kernelspec": {
   "display_name": "Python 3 (ipykernel)",
   "language": "python",
   "name": "python3"
  },
  "language_info": {
   "codemirror_mode": {
    "name": "ipython",
    "version": 3
   },
   "file_extension": ".py",
   "mimetype": "text/x-python",
   "name": "python",
   "nbconvert_exporter": "python",
   "pygments_lexer": "ipython3",
   "version": "3.9.7"
  },
  "toc": {
   "base_numbering": 1,
   "nav_menu": {},
   "number_sections": false,
   "sideBar": true,
   "skip_h1_title": false,
   "title_cell": "Table of Contents",
   "title_sidebar": "Contents",
   "toc_cell": false,
   "toc_position": {},
   "toc_section_display": true,
   "toc_window_display": true
  }
 },
 "nbformat": 4,
 "nbformat_minor": 5
}
